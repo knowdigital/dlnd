{
 "cells": [
  {
   "cell_type": "markdown",
   "metadata": {
    "deletable": true,
    "editable": true
   },
   "source": [
    "# TV Script Generation\n",
    "In this project, you'll generate your own [Simpsons](https://en.wikipedia.org/wiki/The_Simpsons) TV scripts using RNNs.  You'll be using part of the [Simpsons dataset](https://www.kaggle.com/wcukierski/the-simpsons-by-the-data) of scripts from 27 seasons.  The Neural Network you'll build will generate a new TV script for a scene at [Moe's Tavern](https://simpsonswiki.com/wiki/Moe's_Tavern).\n",
    "## Get the Data\n",
    "The data is already provided for you.  You'll be using a subset of the original dataset.  It consists of only the scenes in Moe's Tavern.  This doesn't include other versions of the tavern, like \"Moe's Cavern\", \"Flaming Moe's\", \"Uncle Moe's Family Feed-Bag\", etc.."
   ]
  },
  {
   "cell_type": "code",
   "execution_count": 2,
   "metadata": {
    "collapsed": false,
    "deletable": true,
    "editable": true
   },
   "outputs": [],
   "source": [
    "\"\"\"\n",
    "DON'T MODIFY ANYTHING IN THIS CELL\n",
    "\"\"\"\n",
    "import helper\n",
    "\n",
    "data_dir = './data/simpsons/moes_tavern_lines.txt'\n",
    "text = helper.load_data(data_dir)\n",
    "# Ignore notice, since we don't use it for analysing the data\n",
    "text = text[81:]"
   ]
  },
  {
   "cell_type": "markdown",
   "metadata": {
    "deletable": true,
    "editable": true
   },
   "source": [
    "## Explore the Data\n",
    "Play around with `view_sentence_range` to view different parts of the data."
   ]
  },
  {
   "cell_type": "code",
   "execution_count": 3,
   "metadata": {
    "collapsed": false,
    "deletable": true,
    "editable": true
   },
   "outputs": [
    {
     "name": "stdout",
     "output_type": "stream",
     "text": [
      "Dataset Stats\n",
      "Roughly the number of unique words: 11492\n",
      "Number of scenes: 262\n",
      "Average number of sentences in each scene: 15.248091603053435\n",
      "Number of lines: 4257\n",
      "Average number of words in each line: 11.50434578341555\n",
      "\n",
      "The sentences 0 to 10:\n",
      "Moe_Szyslak: (INTO PHONE) Moe's Tavern. Where the elite meet to drink.\n",
      "Bart_Simpson: Eh, yeah, hello, is Mike there? Last name, Rotch.\n",
      "Moe_Szyslak: (INTO PHONE) Hold on, I'll check. (TO BARFLIES) Mike Rotch. Mike Rotch. Hey, has anybody seen Mike Rotch, lately?\n",
      "Moe_Szyslak: (INTO PHONE) Listen you little puke. One of these days I'm gonna catch you, and I'm gonna carve my name on your back with an ice pick.\n",
      "Moe_Szyslak: What's the matter Homer? You're not your normal effervescent self.\n",
      "Homer_Simpson: I got my problems, Moe. Give me another one.\n",
      "Moe_Szyslak: Homer, hey, you should not drink to forget your problems.\n",
      "Barney_Gumble: Yeah, you should only drink to enhance your social skills.\n",
      "\n",
      "\n"
     ]
    }
   ],
   "source": [
    "view_sentence_range = (0, 10)\n",
    "\n",
    "\"\"\"\n",
    "DON'T MODIFY ANYTHING IN THIS CELL\n",
    "\"\"\"\n",
    "import numpy as np\n",
    "\n",
    "print('Dataset Stats')\n",
    "print('Roughly the number of unique words: {}'.format(len({word: None for word in text.split()})))\n",
    "scenes = text.split('\\n\\n')\n",
    "print('Number of scenes: {}'.format(len(scenes)))\n",
    "sentence_count_scene = [scene.count('\\n') for scene in scenes]\n",
    "print('Average number of sentences in each scene: {}'.format(np.average(sentence_count_scene)))\n",
    "\n",
    "sentences = [sentence for scene in scenes for sentence in scene.split('\\n')]\n",
    "print('Number of lines: {}'.format(len(sentences)))\n",
    "word_count_sentence = [len(sentence.split()) for sentence in sentences]\n",
    "print('Average number of words in each line: {}'.format(np.average(word_count_sentence)))\n",
    "\n",
    "print()\n",
    "print('The sentences {} to {}:'.format(*view_sentence_range))\n",
    "print('\\n'.join(text.split('\\n')[view_sentence_range[0]:view_sentence_range[1]]))"
   ]
  },
  {
   "cell_type": "markdown",
   "metadata": {
    "deletable": true,
    "editable": true
   },
   "source": [
    "## Implement Preprocessing Functions\n",
    "The first thing to do to any dataset is preprocessing.  Implement the following preprocessing functions below:\n",
    "- Lookup Table\n",
    "- Tokenize Punctuation\n",
    "\n",
    "### Lookup Table\n",
    "To create a word embedding, you first need to transform the words to ids.  In this function, create two dictionaries:\n",
    "- Dictionary to go from the words to an id, we'll call `vocab_to_int`\n",
    "- Dictionary to go from the id to word, we'll call `int_to_vocab`\n",
    "\n",
    "Return these dictionaries in the following tuple `(vocab_to_int, int_to_vocab)`"
   ]
  },
  {
   "cell_type": "code",
   "execution_count": 4,
   "metadata": {
    "collapsed": false,
    "deletable": true,
    "editable": true
   },
   "outputs": [
    {
     "name": "stdout",
     "output_type": "stream",
     "text": [
      "{'meet': 0, 'is': 1, 'an': 2, 'where': 3, 'mike': 4, 'whats': 6, 'hello': 7, \"i'm\": 8, 'bart_simpson': 9, 'hey': 10, 'ice': 70, 'and': 45, 'hold': 11, 'normal': 13, 'days': 12, 'one': 15, 'barney_gumble': 22, \"i'll\": 20, 'should': 21, 'skills': 23, 'moe': 24, 'my': 25, 'only': 52, 'lately': 14, 'of': 26, 'there': 63, 'these': 50, 'back': 28, 'problems': 29, 'social': 30, 'me': 65, 'matter': 31, 'not': 32, 'your': 33, 'homer_simpson': 34, 'moe_szyslak': 17, 'give': 37, 'pick': 36, 'has': 66, 'anybody': 38, 'elite': 18, 'listen': 40, 'got': 39, 'seen': 27, 'tavern': 19, 'effervescent': 41, \"you're\": 43, 'catch': 44, 'you': 5, 'on': 47, 'puke': 48, 'last': 49, 'another': 51, 'enhance': 53, 'yeah': 69, 'name': 54, 'eh': 42, 'with': 55, 'rotch': 56, 'homer': 58, 'self': 59, 'the': 60, 'little': 61, 'carve': 46, \"moe's\": 62, 'check': 64, 'drink': 35, 'gonna': 67, 'to': 68, 'i': 16, 'forget': 57}\n",
      "----\n",
      "{0: 'meet', 1: 'is', 2: 'an', 3: 'where', 4: 'mike', 5: 'you', 6: 'whats', 7: 'hello', 8: \"i'm\", 9: 'bart_simpson', 10: 'hey', 11: 'hold', 12: 'days', 13: 'normal', 14: 'lately', 15: 'one', 16: 'i', 17: 'moe_szyslak', 18: 'elite', 19: 'tavern', 20: \"i'll\", 21: 'should', 22: 'barney_gumble', 23: 'skills', 24: 'moe', 25: 'my', 26: 'of', 27: 'seen', 28: 'back', 29: 'problems', 30: 'social', 31: 'matter', 32: 'not', 33: 'your', 34: 'homer_simpson', 35: 'drink', 36: 'pick', 37: 'give', 38: 'anybody', 39: 'got', 40: 'listen', 41: 'effervescent', 42: 'eh', 43: \"you're\", 44: 'catch', 45: 'and', 46: 'carve', 47: 'on', 48: 'puke', 49: 'last', 50: 'these', 51: 'another', 52: 'only', 53: 'enhance', 54: 'name', 55: 'with', 56: 'rotch', 57: 'forget', 58: 'homer', 59: 'self', 60: 'the', 61: 'little', 62: \"moe's\", 63: 'there', 64: 'check', 65: 'me', 66: 'has', 67: 'gonna', 68: 'to', 69: 'yeah', 70: 'ice'}\n",
      "Tests Passed\n"
     ]
    }
   ],
   "source": [
    "import numpy as np\n",
    "import problem_unittests as tests\n",
    "\n",
    "def create_lookup_tables(text):\n",
    "    \"\"\"\n",
    "    Create lookup tables for vocabulary\n",
    "    :param text: The text of tv scripts split into words\n",
    "    :return: A tuple of dicts (vocab_to_int, int_to_vocab)\n",
    "    \n",
    "    vocab_to_int = {c: i for i, c in enumerate(vocab)}\n",
    "    int_to_vocab = dict(enumerate(vocab))\n",
    "    \"\"\"\n",
    "    new_text = helper.load_data(data_dir)\n",
    "    vocab = set(text)\n",
    "    vocab_to_int = {c: i for i, c in enumerate(vocab)}\n",
    "    int_to_vocab = dict(enumerate(vocab))\n",
    "    \n",
    "    print (vocab_to_int)\n",
    "    print(\"----\")\n",
    "    print (int_to_vocab)\n",
    "    \n",
    "    # TODO: Implement Function\n",
    "    return vocab_to_int, int_to_vocab\n",
    "\n",
    "\n",
    "\"\"\"\n",
    "DON'T MODIFY ANYTHING IN THIS CELL THAT IS BELOW THIS LINE\n",
    "\"\"\"\n",
    "tests.test_create_lookup_tables(create_lookup_tables)"
   ]
  },
  {
   "cell_type": "markdown",
   "metadata": {
    "deletable": true,
    "editable": true
   },
   "source": [
    "### Tokenize Punctuation\n",
    "We'll be splitting the script into a word array using spaces as delimiters.  However, punctuations like periods and exclamation marks make it hard for the neural network to distinguish between the word \"bye\" and \"bye!\".\n",
    "\n",
    "Implement the function `token_lookup` to return a dict that will be used to tokenize symbols like \"!\" into \"||Exclamation_Mark||\".  Create a dictionary for the following symbols where the symbol is the key and value is the token:\n",
    "- Period ( . )\n",
    "- Comma ( , )\n",
    "- Quotation Mark ( \" )\n",
    "- Semicolon ( ; )\n",
    "- Exclamation mark ( ! )\n",
    "- Question mark ( ? )\n",
    "- Left Parentheses ( ( )\n",
    "- Right Parentheses ( ) )\n",
    "- Dash ( -- )\n",
    "- Return ( \\n )\n",
    "\n",
    "This dictionary will be used to token the symbols and add the delimiter (space) around it.  This separates the symbols as it's own word, making it easier for the neural network to predict on the next word. Make sure you don't use a token that could be confused as a word. Instead of using the token \"dash\", try using something like \"||dash||\"."
   ]
  },
  {
   "cell_type": "code",
   "execution_count": 5,
   "metadata": {
    "collapsed": false,
    "deletable": true,
    "editable": true
   },
   "outputs": [
    {
     "name": "stdout",
     "output_type": "stream",
     "text": [
      "Tests Passed\n"
     ]
    }
   ],
   "source": [
    "def token_lookup():\n",
    "    \"\"\"\n",
    "    Generate a dict to turn punctuation into a token.\n",
    "    :return: Tokenize dictionary where the key is the punctuation and the value is the token\n",
    "    \"\"\"\n",
    "    # TODO: Implement Function\n",
    "    return {'.': '<PERIOD>', ',': '<COMMA>','\"': '<QUOTATION_MARK>',';': '<SEMICOLON>','!': '<EXCLAMATION_MARK>', '?': '<QUESTION_MARK>','(': '<LEFT_PAREN>',')': '<RIGHT_PAREN>','--': '<DASH>','\\n': '<RETURN>' }\n",
    "\n",
    "\"\"\"\n",
    "DON'T MODIFY ANYTHING IN THIS CELL THAT IS BELOW THIS LINE\n",
    "\"\"\"\n",
    "tests.test_tokenize(token_lookup)"
   ]
  },
  {
   "cell_type": "markdown",
   "metadata": {
    "deletable": true,
    "editable": true
   },
   "source": [
    "## Preprocess all the data and save it\n",
    "Running the code cell below will preprocess all the data and save it to file."
   ]
  },
  {
   "cell_type": "code",
   "execution_count": 6,
   "metadata": {
    "collapsed": false,
    "deletable": true,
    "editable": true
   },
   "outputs": [
    {
     "name": "stdout",
     "output_type": "stream",
     "text": [
      "{'lee': 3358, 'mother': 3359, 'knock': 0, 'pumping': 3361, 'etc': 1, 'circus': 1701, 'peeping': 5090, 'fumes': 2, 'latour': 3, 'kiss': 3940, 'whisper': 5092, \"you'd\": 3364, 'arimasen': 3360, 'rope': 4, 'french': 5093, 'person': 3367, 'yee-ha': 5, 'cards': 3369, 'pinball': 3362, 'quick': 3370, 'restless': 3371, 'arab_man:': 3372, 'icy': 7, \"chewin'\": 3373, 'captain:': 3374, 'homers': 3375, 'bullet-proof': 8, 'troubles': 3377, 'thanksgiving': 10, 'playoff': 11, 'coast': 12, '530': 14, 'beef': 3379, 'goblins': 15, 'bulletin': 3380, 'stewart': 16, 'refreshment': 3382, 'offa': 17, 'anger': 18, 'reed': 3385, \"'evening\": 3386, \"i've\": 3387, 'comforting': 19, 'butter': 5670, 'wolverines': 20, 'stripes': 3389, 'chinua': 3390, 'faint': 5735, 'friendly': 21, 'fica': 552, 'weight': 3391, 'verdict': 22, 'spellbinding': 3392, 'patty': 6269, 'childless': 23, 'grand': 24, 'proper': 3393, 'wolveriskey': 3394, 'hits': 25, 'hour': 3395, 'kickoff': 3396, 'knocked': 4197, 'bachelorhood': 3397, 'score': 26, 'two': 3398, 'jasper_beardly:': 3399, 'toledo': 3401, 'chin': 27, 'loafers': 6224, 'moe-clone:': 28, 'shopping': 29, 'lift': 3403, 'eleven': 30, 'relax': 31, 'seconds': 3947, 'plant': 3404, 'renew': 32, 'harv:': 33, 'coherent': 34, 'creates': 3405, 'aisle': 35, 'someplace': 3406, 'recap:': 36, 'numbers': 37, 'sieben-gruben': 38, 'haws': 39, 'biggest': 446, \"fendin'\": 40, 'grey': 3410, 'associate': 41, 'nantucket': 3363, 'care': 3411, 'tight': 42, 'swallowed': 3412, \"'topes\": 43, 'w-a-3-q-i-zed': 3415, 'anguished': 44, 'cerebral': 45, 'ass': 46, 'heavyset': 47, 'fool': 48, 'tall': 49, 'dexterous': 3418, 'gonna': 3419, 'absolutely': 50, \"linin'\": 51, 'sagacity': 5763, 'lifestyle': 3420, 'nuked': 3421, \"isn't\": 5105, 'written': 3422, \"bettin'\": 5012, 'gentles': 52, 'otherwise': 53, 'charity': 54, \"donatin'\": 6226, 'rub': 3368, 'ze-ro': 5108, 'order': 55, \"havin'\": 3423, 'fletcherism': 57, 'thirty': 58, 'while': 3425, 'watt': 59, 'sotto': 3428, \"men's\": 3429, 'choke': 60, \"smokin'\": 3430, 'aims': 61, 'kirk': 6495, 'arrest': 3431, 'dials': 3432, 'dirt': 62, 'dad': 3434, 'composer': 64, 'relaxed': 3435, 'relationship': 65, 'calling': 6228, 'is:': 6162, 'acting': 3437, 'busiest': 3438, \"hadn't\": 556, 'macaulay': 5676, 'groveling': 3067, 'theatrical': 66, 'beer-jerks': 3439, 'missing': 5883, 'good-looking': 5678, 'accusing': 67, 'one-hour': 68, 'digging': 69, 'bum:': 6, 'ripper': 1131, 'mint': 70, 'coupon': 71, 'booze-bags': 3440, 'mom': 3441, 'remembered': 72, 'mayan': 3376, 'imported-sounding': 73, 'lookalikes': 3442, 'miss_lois_pennycandy:': 1677, 'equivalent': 3443, 'traitors': 3444, 'guilt': 5644, 'rob': 75, \"goin'\": 3446, 'hooked': 3447, 'wishing': 3448, 'hammy': 3450, 'the': 5680, 'ivanna': 76, 'eyesore': 77, 'snake_jailbird:': 9, 'mm': 3452, 'forced': 78, 'quebec': 3453, 'stay-puft': 79, 'making': 80, 'lessee': 3455, 'breakfast': 81, 'unless': 82, 'ideas': 83, 'located': 84, 'talkative': 3456, 'tv_husband:': 3457, 'blue': 85, 'tyson/secretariat': 86, 'borrow': 88, 'sexual': 89, 'marge': 90, 'furniture': 3459, \"duff's\": 91, 'modestly': 92, 'itchy': 94, 'woman_bystander:': 1133, 'booger': 3461, 'advice': 95, 'regret': 96, 'homesick': 97, 'dreamy': 3463, \"'tis\": 3464, 'rafter': 98, 'janette': 99, 'fools': 1098, 'side': 100, 'alva': 3465, 'both': 101, 'safe': 102, 'horror': 3955, 'collette:': 103, 'swill': 13, 'rump': 104, 'a-b-': 3467, 'duke': 3468, 'cuz': 105, 'reminded': 106, 'stink': 6237, 'so-ng': 3469, 'indeed': 3381, 'eternity': 3470, 'drunkening': 107, 'afterglow': 3471, 'fictional': 3472, 'kids': 3473, 'competitive': 108, 'conditioning': 3475, 'cobra': 3476, 'clinton': 109, \"carl's\": 3477, 'permitting': 6239, 'fluoroscope': 110, 'heh': 111, 'shower': 3478, 'really': 3479, 'captain': 112, 'lipo': 113, 'present': 114, 'pin': 3482, 'impending': 3483, 'suspect': 5894, 'hunka': 115, 'failed': 566, 'carmichael': 116, 'renee': 3383, \"takin'\": 117, 'admitting': 118, 'unusually': 3486, 'pajamas': 3384, 'protesters': 119, 'midge:': 5689, 'draw': 3488, 'paper': 120, 'ding-a-ding-ding-a-ding-ding': 3489, \"showin'\": 3490, 'island': 3491, 'wuss': 121, 'for': 3492, 'distract': 122, 'supplying': 3494, '10:15': 123, 'thighs': 124, 'compliment': 125, 'fuhgetaboutit': 3496, 'panicky': 3497, 'fancy': 4542, 'walking': 126, \"cat's\": 3388, 'sound': 946, 'juice': 127, 'placed': 3500, 'labels': 3501, 'sleeping': 3502, 'an': 3503, 'sickens': 128, 'hateful': 6241, 'nooo': 1632, 'lager': 129, 'sideshow_bob:': 3505, \"o'\": 6242, 'micronesian': 130, 'composite': 3506, 'certified': 131, 'worried': 5692, 'contented': 132, 'appreciate': 3508, 'slightly': 133, 'theory': 2294, 'mexican_duffman:': 3509, 'massage': 3510, 'shaved': 3511, \"we'll\": 134, 'estranged': 135, 'dramatically': 1019, 'decide:': 136, 'david_byrne:': 3512, 'navy': 3513, 'some': 5123, 'unbelievable': 3697, 'inspector': 137, 'pulls': 3514, 'may': 138, \"here's\": 3515, 'dank': 139, \"you're\": 140, \"son's\": 3516, 'sky': 5630, 'opening': 141, 'sidelines': 142, 'polite': 3517, 'lemme': 3519, \"d'ya\": 143, '4x4': 1720, 'darkness': 144, 'fist': 6436, 'wounds': 3520, 'fire': 145, 'such': 146, 'sees/': 147, 'either': 3521, 'conversation': 3522, 'sobbing': 3523, 'bono': 3524, 'shtick': 148, 'donor': 149, 'midnight': 150, 'medical': 151, 'rev': 3527, 'accelerating': 152, \"'round\": 3529, 'lovelorn': 3530, 'lucky': 3531, 'ambrose': 154, 'item': 155, 'banquet': 3532, 'germans': 156, 'cronies': 157, 'falling': 5238, 'watered': 3535, \"wasn't\": 158, 'nothing': 3537, 'demand': 159, 'man_at_bar:': 3816, 'pizzicato': 160, 'lucius': 161, 'annus': 162, 'admirer': 163, 'newly-published': 3538, 'bastard': 4549, \"depressin'\": 3539, 'poor': 164, 'family-owned': 165, 'guff': 1147, 'noises': 4161, 'cases': 3541, 'phony': 167, 'was': 4551, 'hear': 3542, 'big': 168, 'curds': 169, 'keeping': 3543, 'flashbacks': 3544, 'argue': 171, 'sweeter': 172, 'loss': 3545, 'conspiracy': 174, 'examines': 4641, 'listened': 3546, 'life:': 3547, 'disappointment': 175, 'bart_simpson:': 3549, 'skin': 176, 'links': 1137, 'hoax': 3550, 'bon': 3551, 'thunder': 177, 'lurleen_lumpkin:': 3553, 'threw': 3554, \"life's\": 179, 'package': 180, 'population': 3555, 'uniforms': 3556, 'sees': 3557, 'allegiance': 182, 'heaven': 183, 'pulled': 5126, 'stationery': 3558, 'ahhhh': 184, 'neighbors': 3560, 'totally': 185, 'any': 3561, 'banquo': 186, 'dipping': 187, 'o': 188, 'bugging': 2750, 'wrong': 1461, 'peppy': 3563, 'gunk': 3729, 'joe': 3564, 'crowds': 3565, 'enjoy': 3566, 'money': 5131, 'four-drink': 3567, 'bathtub': 189, 'stunned': 190, 'marjorie': 191, 'tipsy': 3569, 'prayer': 3570, 'peanuts': 5916, 'philosophic': 2304, 'election': 3400, 'sensible': 3573, 'intervention': 3574, 'vomit': 192, 'perking': 2846, 'east': 3576, 'i-i-i': 3577, \"secret's\": 193, 'sitar': 3578, 'spews': 3579, 'playful': 194, 'stealings': 195, 'magic': 196, 'hot': 197, 'effect': 3580, 'unusual': 198, 'ziffcorp': 6259, 'meaning': 3582, 'priority': 3583, 'aiden': 199, 'consulting': 200, \"spaghetti-o's\": 201, 'lease': 202, 'jeff_gordon:': 203, 'sales': 204, 'stingy': 3585, 'getcha': 205, 'effervescence': 3402, 'africa': 3587, 'amount': 579, 'whup': 5703, 'k': 206, \"this'll\": 3588, '_burns_heads:': 3589, 'price': 207, 'drivers': 208, \"pope's\": 6289, 'shoulder': 209, 'piece': 210, 'pilsner-pusher': 211, 'flea:': 3590, 'disappointing': 4558, 'carefully': 3592, 'generously': 3593, 'amnesia': 3594, 'hearing': 3595, 'thirty-three': 212, 'nick': 213, \"there's\": 3597, 'expensive': 3598, 'royal': 214, 'ninety-seven': 215, 'sharing': 217, 'pursue': 3601, 'badmouths': 218, 'beings': 2308, 'rainbows': 219, 'holding': 220, 'ahh': 3603, 'rutabaga': 3604, 'ate': 3605, 'between': 3606, 'inspired': 221, 'scrutinizes': 222, 'prince': 3608, 'mccarthy': 3609, 'iddilies': 224, \"hole'\": 225, 'evergreen': 3611, 'beginning': 3612, \"soakin's\": 3613, 'proposition': 5132, 'smells': 3614, 'simpsons': 227, 'extended': 4561, 'crab': 228, 'donut-shaped': 582, 'drollery': 5708, 'sagely': 229, 'killjoy': 3977, 'labor': 3615, \"tonight's\": 6245, 'mafia': 230, 'chastity': 232, 'selfish': 233, 'grinch': 234, 'mount': 3616, 'onions': 3617, 'station': 235, 'head-gunk': 236, 'gruff': 238, 'e-z': 239, 'faulkner': 240, 'rhode': 241, 'cans': 3407, 'disco': 3618, \"sayin'\": 242, 'fake': 243, 'courts': 3408, 'health_inspector:': 3620, 'string': 3621, 'tow-joes': 244, 'starts': 3409, 'horses': 3622, 'fury': 2855, 'skinheads': 245, 'mugs': 5138, 'mortal': 3624, 'train': 247, \"handwriting's\": 248, '<left_paren>': 3625, 'ken:': 249, 'talking': 250, 'hired': 252, 'ugliness': 253, 'delighted': 254, 'hotline': 3627, 'reluctantly': 3628, 'op': 256, 'jacques:': 257, 'potato': 258, 'bad': 3631, 'luv': 259, 'owns': 3632, 'including': 3633, 'sugar-me-do': 3634, 'handle': 3635, 'except': 260, 'lifetime': 261, 'shelf': 3636, \"homer'll\": 3637, 'confidence': 262, 'book_club_member:': 263, 'season': 3638, 'chuckles': 3639, 'society': 3640, 'data': 3641, 'sugar-free': 6263, 'wage': 1267, 'barney-guarding': 4442, 'sledge-hammer': 3642, 'hangover': 5715, 'mix': 264, 'billboard': 3643, 'muhammad': 3644, 'sheets': 1162, 'birth': 268, 'lump': 3645, 'non-american': 3646, 'tokens': 3647, 'whispers': 3648, 'radishes': 270, 'lobster-politans': 3650, 'stamp': 3413, 'heading': 3651, \"ragin'\": 4153, 'followed': 272, 'poem': 3653, 'dreams': 273, 'furiously': 3416, 'potatoes': 3654, 'choices': 6271, 'understand': 274, 'bet': 275, 'sight-unseen': 276, 'consider': 277, 'exultant': 6417, 'alternative': 278, 'statues': 279, 'kay': 280, 'jogging': 3655, 'passed': 3656, 'caricature': 5142, 'loathe': 3657, 'middle': 281, 'signal': 3658, 'har': 282, 'shotgun': 284, 'thinks': 1210, 'midge': 5145, 'espn': 3660, 'meal': 3661, 'seething': 3662, 'beeps': 286, \"rustlin'\": 3664, 'candy': 290, 'line': 288, 'squeal': 3665, 'comment': 291, 'unjustly': 3666, 'glass': 293, 'offensive': 294, \"knockin'\": 295, 'martini': 3668, 'typed': 3669, 'graveyard': 1163, 'rickles': 3417, 'moe': 3670, '100': 3671, 'nein': 1165, 'assume': 3672, 'beauty': 296, 'dig': 3674, 'honeys': 3675, 'gimme': 3676, 'sangre': 3677, 'ohhhh': 299, 'second': 300, 'playhouse': 601, 'english': 1168, 'safety': 301, 'wanna': 3678, 'worth': 3679, 'disapproving': 6114, 'thing:': 302, 'help': 3680, 'bragging': 303, 'ehhhhhhhhh': 305, 'sampler': 306, 'soul': 307, 'idea': 308, 'tentative': 3681, 'poster': 310, 'sign': 311, 'gun': 3988, 'sleep': 312, 'bottomless': 313, 'trust': 3683, 'growing': 1171, 'busy': 314, 'odd': 315, 'fatty': 3688, 'lance': 3687, 'judge': 316, \"disrobin'\": 3689, 'avalanche': 317, 'grandé': 319, 'hooch': 6279, 'public': 3690, 'mister': 320, 'acronyms': 3691, 'chew': 322, 'three-man': 6280, \"he's\": 323, 'system': 324, \"what'd\": 1751, 'jer': 3692, 'thru': 1712, \"can't-believe-how-bald-he-is\": 604, 'anyone': 325, 'plum': 3693, 'barf': 326, 'shrugging': 327, \"snappin'\": 5693, 'tearfully': 5155, 'inspection': 3694, 'dangerous': 3695, 'sitting': 6486, 'champ': 329, 'drunks': 330, 'military': 331, 'monroe': 3698, 'fat_tony:': 3699, 'add': 3701, 'happier': 606, 'come': 6282, 'soul-crushing': 332, 'shaking': 333, 'donut': 334, 'clams': 3703, 'mirror': 3704, 'bleacher': 3705, 'rip-off': 3706, 'things': 3707, 'bags': 335, 'wayne:': 3708, 'dinks': 336, 'blowfish': 56, 'wiggle-frowns': 337, 'pointless': 3709, 'gift': 3710, 'hold': 338, 'babar': 3711, 'desperately': 3712, \"singin'\": 3713, 'spamming': 339, 'truck': 340, 'poorer': 341, 'suits': 3714, 'grandiose': 3424, 'courteous': 5159, 'easter': 3715, 'clone': 3716, 'lily-pond': 3717, 'engine': 342, 'housework': 6002, 'must': 343, 'ladies': 3720, 'assassination': 3721, 'kidding': 344, 'choked-up': 345, 'dumb': 3722, 'reserved': 3723, \"ladies'\": 346, 'champion': 5432, 'oughtta': 347, '8': 348, 'swan': 349, 'common': 3724, 'sour': 3725, 'inning': 3427, 'cutest': 350, 'fills': 3730, 'bid': 1175, 'lucius:': 3731, 'miss': 5887, 'faces': 2350, 'pocket': 352, 'survive': 353, 'hostile': 354, 'murmurs': 3733, 'diet': 3734, 'i': 355, 'amanda': 5732, 'hangs': 356, 'full-time': 357, 'champignons': 358, 'fish': 3737, 'push': 3738, 'cajun': 3739, 'buddha': 3741, 'patron_#2:': 359, 'jesus': 5166, 'position': 3742, 'traffic': 3743, 'rough': 2337, \"smackin'\": 3745, \"floatin'\": 361, 'smug': 362, 'capitol': 3746, 'combine': 1179, 'jaegermeister': 363, 'schmoe': 364, 'problemo': 365, 'sodas': 3748, 'ohh': 366, 'magnanimous': 3749, 'talk': 3750, 'carll': 3751, 'tatum': 3752, 'job': 3753, 'appealing': 2341, 'spectacular': 1150, 'book': 3433, 'drummer': 367, 'sister': 368, 'düffenbraus': 369, 'norway': 3755, 'puke': 3756, 'free': 370, \"fryer's\": 3758, 'easygoing': 372, 'super-tough': 373, 'tanking': 374, 'yuh-huh': 375, 'mechanical': 3235, 'rolled': 3760, 'avec': 3761, 'taking': 3762, 'salvador': 376, 'e': 1760, 'researching': 3763, 'freaking': 3764, 'demo': 378, 'coffee': 3765, 'takeaway': 379, 'stuck': 380, 'giant': 381, 'c': 382, 'industry': 383, 'anthony_kiedis:': 3767, 'gal': 384, 'fink': 3768, 'coma': 3985, 'disappeared': 5602, '_montgomery_burns:': 3769, 'fox': 385, 'chauffeur': 386, 'mostrar': 387, 'aghast': 388, 'nose': 389, 'lisa': 390, 'nigerian': 391, 'and:': 3770, 'car:': 392, 'girl-bart': 5169, 'fleabag': 3771, 'divine': 2348, 'gone': 393, 'tooth': 394, 'meanwhile': 3773, 'terror': 395, 'refresh': 3774, 'sucker': 5748, 'whining': 3775, 'room': 396, \"treatin'\": 3776, 'schnapps': 2876, 'congoleum': 397, \"dyin'\": 3777, 'helicopter': 398, 'doooown': 401, 'groan': 3778, 'dumptruck': 3780, 'standing': 402, 'using': 403, 'weather': 1766, 'hiding': 404, \"shouldn't\": 3782, 'michael': 405, 'crazy': 406, 'plane': 3784, 'daddy': 407, 'mason': 3518, 'reaches': 408, 'careful': 3787, 'eww': 3789, 'majesty': 409, 'shoot': 410, 'ape-like': 2853, 'rationalizing': 411, 'house': 5171, 'powerful': 413, 'senator': 1186, 'referee': 414, 'dignity': 5172, 'barney-shaped_form:': 3792, 'handed': 5863, 'work': 415, 'statesmanlike': 416, 'maya:': 3794, 'different': 3795, 'poison': 3797, 'fresh': 417, 'disdainful': 3798, 'fall': 3799, 'pool': 418, 'compliments': 3800, 'sucks': 3801, 'pills': 3802, 'want': 419, 'lenny_leonard:': 3804, 'distance': 1188, \"won't\": 3805, 'drank': 3806, 'safely': 420, 'windelle': 421, 'prep': 422, 'gallon': 3808, 'womb': 423, 'eyed': 424, 'size': 3811, 'fortune': 3812, 'excuses': 3813, 'blooded': 425, 'runaway': 426, 'choice:': 2353, 'wildest': 427, \"town's\": 5174, 'zinged': 1644, 'sometime': 429, 'comeback': 3814, 'prizefighters': 430, 'quality': 431, 'temp': 432, \"grandmother's\": 433, 'remaining': 434, 'howya': 435, 'peaked': 3818, 'polygon': 3820, 'scream': 3821, 'frightened': 3822, 'ooh': 437, 'ah-ha': 438, 'decided': 3823, 'burt_reynolds:': 3824, 'faceful': 4357, 'sandwich': 3825, 'disillusioned': 3826, 'dealt': 3581, \"maggie's\": 440, 'reopen': 441, 'barter': 6330, 'touched': 2161, 'wears': 442, 'conclusions': 3827, 'deny': 443, 'smoke': 444, 'moron': 445, 'gil_gunderson:': 6281, 'groans': 447, 'wipe': 627, 'witty': 448, 'fingers': 450, 'writing': 3831, 'radiator': 3832, 'dancing': 451, 'total': 3833, 'trick': 452, 'join': 3834, 'look': 453, 'delicious': 3835, 'laid': 3836, 'popular': 454, 'egg': 455, 'cheapskates': 456, 'comes': 457, 'live': 4600, 'enthusiasm': 458, 'squadron': 459, 'hosting': 461, 'its': 462, 'soaps': 3838, 'cap': 3839, 'moxie': 463, 'ticks': 3841, 'du': 3842, 'ebullient': 464, 'protestantism': 6295, 'supply': 74, 'often': 1630, 'society_matron:': 3843, \"neat's-foot\": 465, 'enjoyed': 466, 'solves': 467, 'boy': 468, 'heatherton': 3845, 'hop': 5750, \"'s\": 3846, 'allowance': 469, 'benjamin:': 3847, 'bed': 3848, 'till': 3849, 'delete': 3850, 'squishee': 470, 'separator': 5179, 'ails': 472, 'bag': 6296, 'late': 3853, 'column': 3855, 'yellow-belly': 474, 'bus': 3856, \"guy's\": 6100, 'wine': 475, 'aquafresh': 3858, \"who'll\": 476, 'tries': 2359, 'ned': 588, 'philosophical': 477, 'scotch': 3859, 'riveting': 3445, 'watched': 3860, 'halvsies': 3861, 'pontiff': 3862, 'gifts': 478, 'um': 3863, 'propose': 479, 'photographer': 3866, 'youse': 3867, 'smiling': 3868, 'halfway': 3870, 'maggie': 481, \"elmo's\": 483, 'oughta': 6660, 'inclination': 2885, 'nods': 3449, 'safecracker': 3872, 'slight': 485, 'phlegm': 3873, 'vampire': 3874, 'umm': 486, 'vestigial': 487, 'prison': 489, 'investor': 3878, 'doom': 6299, \"daughter's\": 3879, 'kidneys': 3880, 'week': 3881, 'whenever': 3451, 'ten': 490, 'anti-crime': 491, \"tony's\": 6302, \"i'd\": 492, \"somethin'\": 493, \"renee's\": 3882, 'arms': 494, 'maintenance': 3883, 'willy': 3884, '_powers:': 3885, 'though:': 3886, 'nominated': 2363, 'stiffening': 3887, \"askin'\": 3888, \"kids'\": 2362, 'mozzarella': 3889, 'expect': 5530, 'commanding': 3890, 'sternly': 496, \"listenin'\": 497, 'sympathy': 498, 'phone': 3891, 'picture': 499, 'fell': 500, 'wife-swapping': 501, 'drink': 502, \"o'problem\": 3008, 'strap': 503, \"o'reilly\": 3893, 'horns': 3894, 'eggshell': 5760, 'scrape': 504, 'gotta': 3895, 'polishing': 3896, 'low-blow': 3897, 'cologne': 506, 'dogs': 507, 'smelling': 508, 'dies': 3898, 'glen:': 509, 'cheerleaders:': 3900, 'crestfallen': 3901, 'return': 510, 'thrust': 3902, 'hems': 3903, 'thoughtful': 6327, 'dennis': 3454, 'trivia': 511, 'alphabet': 4609, \"santa's\": 513, 'nards': 514, 'troy_mcclure:': 5762, \"lisa's\": 515, 'presses': 641, 'coward': 3905, \"that'll\": 516, 'virtual': 517, 'funeral': 5893, '50-60': 518, 'perfected': 3906, 'arrived': 519, 'newsies': 3907, 'thorn': 3908, '$42': 5185, 'duh': 2987, 'simple': 520, 'dying': 3910, 'wenceslas': 521, 'rugged': 522, 'attractive_woman_#2:': 3912, 'competing': 523, 'letters': 3913, 'tv_wife:': 1518, 'tick': 3914, 'soon': 524, 'continued': 5188, 'madman': 525, 'sometimes': 2372, 'strawberry': 6170, \"family's\": 3917, 'barber': 527, 'over-pronouncing': 3918, 'yawns': 87, 'hurting': 528, 'warren': 529, '21': 3919, 'farthest': 4020, 'chunky': 530, 'idiots': 531, 'impeach': 532, 'porn': 533, 'glen': 535, 'solid': 536, 'arise': 3921, 'along': 3922, 'extract': 537, 'wise': 538, 'inside': 539, \"bladder's\": 3458, \"feelin's\": 3928, 'yellow': 540, 'son': 6463, 'unsafe': 541, 'bubbles-in-my-nose-y': 543, 'nuclear': 3929, 'ungrateful': 544, 'although': 3930, 'bar': 3931, 'committing': 3932, 'almost': 3933, 'sweetest': 546, 'cable': 3934, 'baby': 547, 'shaggy': 3935, 'trunk': 1212, 'teacup': 3938, 'barney-type': 3939, 'emergency': 3941, 'neon': 549, 'change': 1213, 'flexible': 3942, 'what': 3943, 'filth': 550, 'ga': 551, 'asked': 3944, 'moe-near-now': 3945, \"bein'\": 3946, 'fold': 93, 'view': 3948, 'admiration': 3949, 'send': 3950, 'maude': 553, 'myself': 554, 'enemy': 3462, 'floating': 555, 'perhaps': 3951, 'depressant': 557, 'mull': 3952, 'stares': 558, 'skeptical': 3953, 'pridesters:': 559, 'drove': 560, 'cheerier': 4842, 'enthused': 1216, 'lover': 3954, 'dime': 561, 'tragedy': 562, 'luxury': 5907, 'kicks': 6322, 'polenta': 563, \"'pu\": 564, '<exclamation_mark>': 565, 'trainers': 2070, 'devils:': 3956, 'excitement': 567, 'stupid': 3957, 'jury': 3958, 'hello': 3959, 'news': 3960, 'unhook': 3961, 'menace': 3962, 'spare': 3963, 'lorre': 4026, 'tv_daughter:': 569, 'woulda': 3964, 'history': 6323, 'fantasy': 570, 'occupied': 1219, 'old-time': 3936, 'wild': 3965, 'pfft': 3966, 'crapmore': 571, 'woozy': 3602, 'message': 572, 'pantsless': 3968, 'italian': 573, 'snorts': 6687, 'casting': 574, 'fuss': 6148, 'voodoo': 575, 'super-genius': 576, 'sesame': 577, 'somehow': 578, 'marguerite:': 5259, 'bunion': 3970, 'sharity': 3971, 'nerd': 2385, 'toward': 3972, 'wha': 580, 'computer_voice_2:': 650, 'thought': 3973, 'whose': 3974, 'patterns': 581, 'capuchin': 3975, 'that': 6325, 'eaten': 3976, 'white_rabbit:': 3082, 'louie:': 583, 'paramedic:': 3978, 'delivery': 584, 'advertising': 585, 'principles': 587, 'nor': 3979, 'ew': 1798, 'band': 3980, 'hate': 589, \"betsy'll\": 590, 'hurts': 6326, 'intelligent': 591, 'washed': 592, \"barney's\": 593, 'warmly': 3981, 'cosmetics': 594, \"collector's\": 595, 'pickled': 3982, 'pink': 596, 'nailed': 5197, 'shelbyville': 3983, 'hilton': 597, 'count': 598, 'theater': 599, 'urinal': 3984, 'shrugs': 2904, 'spending': 602, 'portuguese': 3986, 'kyoto': 3728, 'starla': 3987, 'helllp': 654, 'consoling': 603, 'nightmares': 3989, 'pride': 3990, 'icelandic': 3991, 'pip': 605, 'tornado': 607, \"s'pose\": 608, 'mini-beret': 609, 'hank_williams_jr': 610, 'viva': 612, 'love': 3995, 'fourth': 613, 'saw': 614, 'tolerable': 3996, 'be-stainèd': 3997, 'cheese': 615, 'cockroach': 5200, 'boring': 616, 'clubs': 3998, 'shaker': 3999, 'foodie': 617, 'james': 618, 'rag': 619, 'savings': 620, \"'er\": 621, 'panicked': 4000, 'ho-ly': 6583, 'brainheaded': 622, 'close': 4001, 'shirt': 623, 'cocks': 624, 'looser': 4002, 'fresco': 626, 'nobody': 4003, 'sick': 660, 'belts': 4004, 'squeals': 4005, 'searching': 4006, 'clipped': 628, 'nickels': 629, 'because': 4007, 'imagine': 4008, 'defensive': 630, 'customer': 4009, 'infatuation': 2908, 'row': 4010, 'rosey': 4011, 'nagurski': 632, 'ancestors': 4012, 'plain': 633, 'cutie': 4013, 'insured': 634, 'ground': 635, 'i-i': 636, \"foolin'\": 637, 'sadder': 638, 'wake': 639, 'killarney': 640, 'grace': 4014, 'remembers': 4015, 'yours': 4016, 'entirely': 4017, 'awwww': 4018, 'skins': 4019, 'too': 642, 'spend': 643, 'stores': 5206, 'sniffing': 4021, 'tv_father:': 4022, 'artie': 644, 'problem': 5899, 'hmmmm': 645, 'average-looking': 4023, 'can': 646, 'going': 4025, 'anonymous': 4027, 'whole': 647, 'cleaned': 648, 'frink': 4028, 'ball-sized': 649, 'hafta': 4029, 'voted': 651, 'pee': 4030, 'owned': 4031, 'piling': 652, 'nearly': 653, 'produce': 4032, 'beep': 6666, 'beans': 655, 'belt': 656, 'sponsoring': 657, 'promotion': 658, 'twenty': 4033, 'pull': 659, 'mcstagger': 4034, 'illegally': 5161, 'washouts': 661, 'angel': 4035, 'nasa': 4036, 'donuts': 4037, 'managed': 5778, \"liberty's\": 4038, 'hall': 4039, 'period': 662, 'richer': 663, '1973': 664, 'ask': 4040, 'orifice': 665, 'lewis': 666, 'saturday': 667, 'th': 668, 'ceremony': 669, 'attached': 4043, 'liquor': 3480, '<question_mark>': 670, 'worse': 6336, 'heave-ho': 671, 'quite': 4044, 'hurt': 6337, 'miles': 672, 'alone': 673, 'town': 4045, 'harvard': 674, '3': 675, 'junkyard': 676, 'dejected_barfly:': 677, 'ironed': 4048, '/': 678, 'timbuk-tee': 4049, 'taught': 4050, 'shag': 4051, 'turned': 4052, 'suck': 680, 'man': 681, 'john': 682, 'peppers': 4054, 'harder': 4055, 'wishes': 683, 'piano': 4056, 'murmur': 684, 'plan': 3484, 'thirty-thousand': 4057, 'albeit': 4058, 'priest': 4059, 'plants': 686, '250': 687, 'sue': 688, 'raking': 689, 'offer': 691, 'putting': 1160, 'missed': 4060, 'cletus_spuckler:': 6342, 'sucked': 4061, 'attach': 6000, 'cecil_terwilliger:': 4062, 'nation': 693, 'games': 4065, 'mid-conversation': 694, \"game's\": 4068, 'refreshing': 4067, 'seas': 4069, 'aerospace': 2916, 'jovial': 4070, 'fudd': 695, 'apu_nahasapeemapetilon:': 697, 'seat': 698, 'yoo': 699, \"burnin'\": 700, 'pickle': 1240, 'phasing': 767, 'roz': 701, 'killed': 4074, 'tv': 702, 'hotenhoffer': 703, 'convenient': 704, 'isotopes': 4077, 'resolution': 4078, 'celebrate': 6343, 'telemarketing': 705, 'lenford': 4079, 'stern': 707, 'lowering': 5786, 'homer': 4080, 'appeals': 4081, 'born': 708, 'occupation': 709, 'answers': 4083, 'skydiving': 4084, 'apartment': 5787, 'frat': 4086, 'tom': 4087, 'appear': 711, 'mistake': 4088, 'eu': 712, 'polish': 2828, 'forgiven': 4089, '14': 1820, 'strains': 4090, 'carlson': 4091, 'fringe': 2921, 'au': 4092, 'pancakes': 4093, 'saved': 714, 'entire': 715, 'eighty-three': 4095, 'mouths': 716, 'crayola': 717, 'coined': 6089, 'fix': 718, 'edison': 719, 'hottest': 4047, 'starlets': 4098, 'glowers': 4102, 'pipe': 4100, 'diapers': 4101, 'suave': 4103, 'lisa_simpson:': 4104, 'harvesting': 4105, 'slice': 721, 'seek': 4107, 'darjeeling': 5662, \"nixon's\": 679, 'under': 4108, 'elocution': 722, 'feet': 4109, 'patrons:': 723, 'distraught': 724, 'firm': 725, 'mailbox': 726, 'soot': 727, \"cuckold's\": 4110, 'pepsi': 730, 'invited': 4112, 'nurse': 4113, 'trapping': 4114, 'contemplates': 4115, 'crowd:': 4116, \"starla's\": 731, 'milhouse': 4118, 'obsessive-compulsive': 732, 'repeated': 733, 'themselves': 4120, 'celeste': 734, 'stalwart': 4122, 'pretend': 484, 'had': 4123, 'hey': 735, 'americans': 4053, 'sacajawea': 4124, 'serum': 4125, 'movie': 5220, 'jackson': 4126, 'pathetic': 4127, 'embarrassed': 4128, 'lachrymose': 4129, 'declared': 4130, 'host': 3493, 'hard': 736, 'roses': 2926, 'plus': 4131, 'eurotrash': 4132, 'rummy': 737, 'ah': 4133, 'peter': 738, 'brow': 739, 'pained': 740, 'partly': 741, 'dirge-like': 4135, 'self-esteem': 1827, 'village': 742, 'announcer:': 1246, 'patriotic': 3504, 'jeers': 3649, 'predecessor': 4139, 'ticket': 4140, 'burt': 743, 'sneak': 4141, 'founded': 744, 'drapes': 4142, 'jerks': 4143, 'pain': 4144, 'twenty-six': 745, 'bubble': 746, 'sobo': 747, 'five': 4146, 'sheriff': 4147, 'i/you': 3499, 'bellyaching': 6612, 'bono:': 4148, 'bedroom': 4149, 'rat-like': 685, 'obama': 748, 'habitrail': 749, 'mail': 4150, 'slurps': 4151, 'half-back': 4152, 'democracy': 750, 'label': 4154, 'joint': 4155, 'america': 751, \"lovers'\": 4157, 'drift': 752, 'snap': 753, 'business': 4160, 'short_man:': 4162, 'sink': 754, 'contemporary': 4652, 'seeing': 2934, 'morning': 755, 'weary': 756, 'intense': 757, 'feedbag': 4163, 'double': 1250, 'him': 4164, 'limericks': 758, 'after': 4165, 'carny:': 4166, 'happiness': 5792, 'colossal': 4167, 'adult': 759, 'found': 6348, 'replaced': 690, 'astronaut': 4169, 'fl': 692, 'presentable': 4170, 'raising': 5512, 'trolls': 4171, 'pushing': 4172, 'exactly': 761, 'murdered': 4173, 'prejudice': 763, 'also': 4174, 'refill': 4175, 'blows': 4041, 'expense': 764, 'leftover': 4177, 'moe_recording:': 4178, 'thorough': 765, 'mither': 766, 'bulked': 769, 'journey': 4179, 'bauer': 5908, 'officials': 4180, 'socialize': 4181, 'radioactive': 770, \"crawlin'\": 771, 'crotch': 4182, 'bonfire': 773, 'grampa': 774, 'bash': 2414, 'eliminate': 4183, 'kako:': 4184, 'rock': 775, 'sixty-nine': 4185, 'fireball': 2940, 'begins': 4063, 'burnside': 776, 'left': 777, 'romantic': 4187, 'tomato': 4188, 'twins': 2417, 'slays': 4189, 'democrats': 4658, 'booth': 780, 'accounta': 5231, 'bluff': 4191, 'dressing': 1258, 'helping': 4192, 'suppose': 781, 'poulet': 782, 'leonard': 4194, 'hardwood': 783, 'attention': 4195, 'signed': 784, 'jacques': 4196, 'phase': 785, \"what'sa\": 4198, 'dress': 4199, 'they': 786, 'dumpster': 787, 'imaginary': 4200, 'whale': 788, 'sale': 789, 'roof': 6354, 'placing': 4066, 'dizzy': 791, 'medicine': 4203, 'bender:': 4204, 'prove': 4205, \"i'unno\": 4206, 'creature': 4207, 'hmmm': 6039, 'splattered': 793, 'delivery_boy:': 4209, 'disappointed': 4210, '1-800-555-hugs': 794, 'quietly': 4211, 'stay': 6350, 'introduce': 795, 'couple': 4212, 'kim_basinger:': 2946, 'vanities': 797, 'felony': 798, 'frozen': 4213, 'hampstead-on-cecil-cecil': 799, 'woman': 4214, 'nibble': 4215, 'whim': 4216, 'blend': 800, 'sell': 5796, 'die-hard': 4217, 'gets': 4218, 'gumbel': 801, 'greatly': 1262, 'discuss': 3436, 'vigilante': 802, \"money's\": 696, \"'cept\": 1840, 'rug': 4219, 'releasing': 4220, \"should've\": 805, 'sitcom': 804, 'underbridge': 6358, 'cola': 806, 'like': 4222, 'villanova': 4223, 'thanks': 1994, 'wrote': 4071, 'pretty': 808, 'own': 4225, \"'roids\": 809, \"children's\": 4227, \"nick's\": 4228, 'lurks': 810, 'spirit': 811, 'hah': 5235, 'register': 4229, 'vin': 812, 'straighten': 5666, 'towed': 813, 'coaster': 814, 'beanbag': 815, 'jacksons': 816, 'massive': 817, 'mis-statement': 4233, 'switch': 4807, 'shred': 4234, 'pen': 4235, 'artist': 5799, 'here-here-here': 818, 'pile': 819, 'smoker': 820, \"tatum'll\": 821, 'their': 822, 'she-pu': 824, 'new_health_inspector:': 825, 'boozer': 4237, 'became': 827, 'wishful': 4238, 'maxed': 828, 'afford': 5237, \"robbin'\": 4075, 'naegle': 830, \"watchin'\": 4076, 'recipe': 4240, 'a': 4241, 'ribbon': 4242, 'held': 4244, 'grubby': 834, 'international': 6361, 'ahead': 835, 'photo': 4245, 'ears': 4246, 'wantcha': 4247, 'slyly': 836, \"aristotle's\": 837, \"fallin'\": 838, 'scary': 1850, 'hygienically': 3414, 'outs': 706, 'stolen': 840, 'schorr': 841, 'today/': 1616, 'professional': 4250, 'gregor': 842, 'pageant': 843, 'prompting': 844, 'fifteen': 4252, 'sistine': 4253, 'butt': 4254, 'fulla': 845, 'macho': 6193, 'thoughtfully': 1269, 'ivy-covered': 846, 'moon': 4255, 'carl:': 847, 'burn': 4256, 'crack': 4257, 'heads': 4258, 'apron': 4259, 'palm': 4260, 'jolly': 849, 'gr-aargh': 4261, 'super-nice': 4263, 'sec_agent_#1:': 850, 'mustard': 4264, 'pleading': 4265, 'anderson': 851, 'wearing': 4266, 'sport': 852, 'guys': 853, 'newspaper': 4267, 'thrown': 4669, 'faiths': 855, 'lousy': 856, 'video': 5240, 'languages': 857, 'connor-politan': 4269, 'information': 4670, 'peter_buck:': 4270, 'mystery': 4243, 'aggravazes': 4271, 'duffman': 4272, 'rice': 4274, 'stepped': 859, 'emotional': 860, 'smithers': 861, 'shutup': 4275, 'lungs': 862, 'drinker': 4277, 'noosey': 4278, 'unforgettable': 863, 'counting': 4279, 'u': 864, 'falcons': 2428, 'insurance': 4280, 'upon': 6364, 'tropical': 865, 'site': 4281, 'reader': 866, 'golf': 4082, 'ref': 867, \"i'd'a\": 710, 'outlive': 869, 'alcohol': 870, 'statistician': 4282, 'crowd': 871, 'boneheaded': 872, 'zack': 873, 'spiritual': 4285, 'attack': 4085, 'twenty-four': 4286, \"swishifyin'\": 875, 'spot': 876, \"jimbo's_dad:\": 877, 'glitterati': 5805, 'hollye': 4287, 'hiring': 4288, 'achebe': 4289, 'series': 5647, 'bridges': 4290, 'curiosity': 5807, 'ping-pong': 880, 'louder': 881, \"friend's\": 4291, 'gosh': 4292, 'assumed': 882, 'north': 4293, 'gang': 4294, 'general': 4295, 'muttering': 883, 'brewed': 5234, 'sarcastic': 884, 'nordiques': 4296, 'near': 6737, 'malted': 886, 'great': 887, 'simon': 888, 'nightmare': 3144, 'days': 4297, 'clean': 6565, 'grandkids': 5243, 'showed': 4298, 'crayon': 4299, 'iran': 889, 'awkwardly': 890, \"don'tcha\": 6366, \"aren't\": 5244, 'brockman': 891, 'cause': 892, 'closet': 893, 'victim': 894, \"high-falutin'\": 4300, 'dictator': 5966, 'angrily': 895, 'chapel': 4302, 'offense': 897, 'welcome': 898, \"'til\": 4304, 'certain': 899, 'heartless': 4306, 'friends': 900, 'thanking': 904, 'needed': 902, '<dash>': 903, 'ling': 4307, 'believer': 905, 'happen': 906, 'answer': 4309, 'eighty-seven': 907, 'duel': 908, 'militia': 909, 'outta': 910, 'packets': 911, 'voice_on_transmitter:': 4094, 'afraid': 3871, 'hugh': 4310, 'matter': 6370, 'smugglers': 4311, 'restaurants': 5812, 'prohibit': 4312, 'snake-handler': 4313, 'women': 4677, 'pro': 5789, 'show-off': 4314, 'gator:': 6371, 'permanent': 912, 'affects': 4315, 'gotcha': 914, 'taunting': 4316, 'drains': 6674, 'calm': 4317, 'contractors': 4318, 'semi-imported': 4096, 'helen': 4320, 'backward': 6421, 'sub-monkeys': 2962, 'ahem': 4321, 'pulling': 4322, 'interrupting': 915, 'broom': 4323, 'clapping': 4324, 'defected': 6372, \"callin'\": 4325, 'freedom': 4326, 'executive': 917, 'turns': 4327, 'tire': 4328, 'fans': 4329, 'female_inspector:': 919, 'dashes': 920, 'abolish': 921, 'fritz': 4330, 'massachusetts': 922, 'runs': 6510, 'books': 923, 'chub': 4331, 'luckiest': 3525, 'cow': 925, 'tough': 5815, 'abcs': 4332, 'snaps': 4333, 'arm': 926, 'yoink': 927, 'eminence': 928, 'figure': 4334, 'bite': 4336, 'steaming': 929, 'government': 930, 'freshened': 931, 'guess': 932, 'brotherhood': 934, 'virility': 3526, 'alfalfa': 935, 'stripe': 4339, 'uh-oh': 936, 'known': 937, 'secret': 4340, 'enlightened': 4341, \"changin'\": 2966, 'wazoo': 4342, 'drop': 4344, 'ever': 4345, 'willing': 939, 'presents': 4346, 'log': 940, 'jams': 4348, 'reason': 2968, 'oh-so-sophisticated': 3528, 'brockelstein': 4350, 'enthusiastically': 4351, 'ron_howard:': 941, 'black': 4352, 'pop': 4353, 'speak': 943, 'burp': 4354, 'morose': 944, 'fat_in_the_hat:': 945, 'divorced': 153, 'triumphantly': 4440, \"cont'd:\": 6379, 'buds': 4355, 'lear': 4356, 'encore': 4358, 'mexican': 948, 'enjoys': 4359, 'glasses': 4360, 'actually': 4361, 'wondering': 1277, 'rotten': 4362, 'm': 949, 'considers': 854, 'teacher': 4363, 'margarita': 4364, \"england's\": 4526, 'shares': 2437, 'weekend': 950, 'determined': 951, \"rasputin's\": 4365, 'load': 4366, 'transylvania': 4367, 'sweater': 4368, 'term': 4369, 'tony': 4370, 'suspended': 4371, 'paint': 2439, 'neighbor': 954, 'buzziness': 6385, 'lock': 955, 'chilly': 4372, 'inflated': 4373, 'his': 956, 'squeezed': 4374, 'yourse': 4375, 'releases': 4106, \"g'night\": 961, 'perfect': 962, 'sincere': 963, 'disguise': 3366, 'princess': 964, 'halloween': 966, 'initially': 4377, 'manager': 5905, \"can'tcha\": 6387, 'serious': 4378, 'unlike': 968, 'bonding': 3533, 'lobster': 4379, 'vicious': 4380, \"renovatin'\": 4381, 'specials': 4382, '_eugene_blatz:': 5826, 'meant': 4383, 'friction': 970, 'go-near-': 4384, 'rookie': 3534, 'abandon': 4385, 'puke-pail': 4388, 'made': 4387, 'crunch': 972, 'carolina': 4389, 'heroism': 4391, 'trusted': 974, 'portentous': 6616, \"beggin'\": 4392, 'thawing': 4393, 'gangrene': 976, 'nervously': 977, 'why': 4394, 'hispanic_crowd:': 4395, 'up': 4396, 'jump': 978, 'relieved': 4398, 'baritone': 3536, 'evening': 4399, 'clap': 979, 's': 4400, 'revenge': 981, 'infiltrate': 982, 'material': 4683, 'unattended': 983, 'past': 4401, \"professor's\": 4402, 'manatee': 4403, 'helps': 984, 'coat': 4405, 'match': 4406, 'malibu': 4685, 'y': 1841, 'in': 4407, 'due': 985, 'marshmallow': 4408, \"pressure's\": 986, 'future': 987, 'proud': 989, 'liability': 990, 'seamstress': 991, 'metal': 992, 'knows': 4042, 'smuggled': 4411, 'finding': 4412, 'frankly': 993, 'theatah': 4413, 'adjust': 3584, 'snapping': 994, 'vengeful': 4414, 'enveloped': 995, 'teen': 4415, 'dilemma': 998, 'dinner': 728, 'noose': 999, 'explaining': 1000, 'smitty:': 4416, 'let': 3540, 'screws': 1001, 'picked': 4417, 'unfamiliar': 6395, 'relative': 4418, 'cats': 1003, 'gamble': 4419, 'cock': 1006, 'bleak': 4420, 'guzzles': 4421, 'slit': 4422, 'heliotrope': 4423, 'clothes': 1008, 'methinks': 1009, 'shells': 6135, 'called': 1011, 'tease': 1013, 'nerve': 1014, 'yourself': 1015, 'sketch': 4424, 'alter': 4425, 'forget': 4111, 'funds': 1016, 'presently': 4426, 'barflies:': 1017, 'fine': 4428, 'teenage': 1020, 'ugh': 6053, 'dr': 1021, 'absolut': 4430, 'roz:': 1023, 'dollar': 1024, 'kid': 4431, 'name:': 4432, 'two-thirds-empty': 1027, 'merchants': 1028, 'dawning': 4434, 'were': 1030, 'kool': 4435, 'pockets': 1031, 'contemplated': 4436, 'sanitation': 1032, 'western': 1033, \"america's\": 1035, 'century': 4437, 'trade': 1036, 'drop-off': 586, 'marriage': 4438, 'letter': 1038, 'badly': 1040, 'south': 4439, 'god': 4441, 'junebug': 1042, 'waltz': 1043, 'life-extension': 1290, 'sponge:': 5620, 'gossipy': 5096, \"wait'll\": 1044, 'grin': 1045, 'nascar': 4117, 'agent': 4444, 'sketching': 1884, 'have': 4446, 'reminds': 4447, 'agent_miller:': 1046, 'partners': 4448, \"man'd\": 1047, 'sprawl': 1048, 'gasp': 4450, 'arrested:': 4452, 'gentlemen': 4119, 'inherent': 1049, 'tremendous': 4453, 'yes': 1051, 'wash': 1053, 'puzzle': 6512, 'popped': 4454, 'brief': 2452, 'punk': 170, 'sanctuary': 4455, 'cruise': 1054, 'we': 4230, 'muscles': 4456, 'quadruple-sec': 4457, \"haven't\": 1055, 'directions': 1056, 'forty-two': 1057, 'grandmother': 4458, 'frenchman': 4459, 'he': 4460, 'sustain': 4462, 'headhunters': 5933, \"must've\": 1059, 'then:': 600, 'fires': 5831, 'human': 1060, 'inspiring': 4464, 'lifters': 1062, 'factor': 4465, 'miracle': 1063, 'cueball': 1064, 'throwing': 173, 'dog': 4466, 'confidential': 1065, \"buyin'\": 1066, 'physical': 4467, 'warily': 1067, 'uncreeped-out': 4468, 'through': 4469, 'fonda': 1068, 'fbi': 1069, 'crooks': 1070, 'unsourced': 4470, 'jailbird': 1072, 'hail': 5834, 'skinny': 1073, 'sector': 4471, 'started': 1074, 'mediterranean': 4473, 'patron_#1:': 5275, 'saving': 5193, 'fight': 4474, 'oooh': 1075, 'pointedly': 3474, 'nfl_narrator:': 4475, 'wigs': 4476, 'p': 3548, 'reasons': 4477, 'seminar': 1077, 'stinky': 1078, 'con': 1079, 'enabling': 1080, 'depository': 4478, 'filthy': 4480, 'unsanitary': 1082, 'showered': 4482, 'basement': 4483, 'girls': 4484, 'stands': 1084, 'syndicate': 1085, 'self-satisfied': 1086, 'team': 1087, 'alarm': 4485, 'satisfied': 1880, 'bronco': 1089, 'ringing': 4488, 'evils': 4489, 'cake': 3851, 'j': 1090, 'covers': 1091, 'pity': 4490, 'heard': 4491, 'macbeth': 5281, 'celebrity': 1092, 'tobacky': 1297, 'spreads': 4492, 'tied': 178, 'slobbo': 4308, 'personal': 4494, 'aristotle:': 1095, 'beach': 4495, 'singer': 4496, 'derisive': 885, 'mulder': 1575, 'eventually': 4497, 'appalled': 1385, 'tha': 4697, 'rumaki': 1894, 'down': 4498, 'triple-sec': 1096, 'across': 1097, 'slap': 5839, 'wisconsin': 2992, 'uh-huh': 1099, 'japanese': 1100, 'nucular': 4499, 'said:': 4500, 'dame': 1102, 'lighting': 1104, 'least': 4503, 'yee-haw': 4504, 'love-matic': 1105, 'gunter': 1106, 'tenor:': 4506, '3rd_voice:': 4507, 'catching': 4508, 'moved': 4509, 'noggin': 181, 'santeria': 4510, 'die': 1107, 'adventure': 1108, 'dropped': 4511, 'golden': 1109, 'ahhh': 4512, 'tape': 4513, 'smelly': 4514, 'scoffs': 3481, 'delicate': 4515, 'snotty': 1112, 'deeply': 4516, 'stupidly': 4517, 'b': 4134, 'tummies': 1113, \"writin'\": 4518, 'soaked': 1114, 'specified': 1115, 'shard': 4519, 'wobble': 4520, 'anywhere': 4521, 'jerk-ass': 5955, 'give': 1116, 'flash-fry': 5287, 'got': 4522, 'complaint': 1117, 'meaningfully': 4523, 'nameless': 6408, 'churchy': 1118, 'broke': 1119, 'knew': 1120, 'watered-down': 4097, 'charlie:': 1121, 'multi-purpose': 4524, 'day': 4525, 'settlement': 3559, 'dyspeptic': 1122, 'quotes': 1124, 'charged': 1125, 'fantastic': 1126, 'mocking': 5842, 'chateau': 1303, 'other_book_club_member:': 4527, 'hm': 4528, 'bike': 6411, 'husband': 4530, \"nothin'\": 1127, 'dammit': 4531, 'hooky': 1128, 'two-drink': 4532, 'urine': 1129, 'tester': 4533, 'certificate': 1130, 'gol-dangit': 4534, 'cookies': 4535, 'forbidden': 4536, 'sissy': 6469, 'wizard': 5752, 'dads': 4537, 'pulitzer': 4538, \"president's\": 4539, 'mines': 1134, 'square': 4138, 'scanning': 1135, 'seats': 1136, 'hitchhike': 5959, 'wudgy': 4540, 'samples': 4541, 'drawer': 1138, 'huhza': 5291, \"yieldin'\": 1140, 'beady': 4543, 'annie': 1141, \"football's\": 4544, \"pickin'\": 5293, 'doreen:': 289, 'jewish': 1142, 'barstools': 4546, 'tigers': 4547, 'rig': 1143, 'sunk': 4548, 'fortress': 1144, 'product': 5294, 'german': 1145, 'fights': 1146, \"man's_voice:\": 4550, 'allowed': 4552, 'slow': 4553, 'art': 3495, 'happy': 4554, 'carb': 4555, 'prank': 4556, 'drinking:': 1149, 'libido': 4557, 'twelve': 1152, 'dollars': 1151, 'mirthless': 1153, 'selling': 4559, 'quarry': 6413, 'november': 1154, 'dungeon': 4560, 'settles': 4563, 'dreamed': 4562, 'pouring': 4564, 'needy': 4566, 'lying': 2462, 'road': 1307, 'playing': 1156, 'professor_jonathan_frink:': 1157, 'verticality': 1158, 'patrons': 4708, 'hanh': 1159, \"let's\": 1161, 'ashamed': 4567, 'impressed': 4568, 'mamma': 4569, 'wrecking': 4570, 'test': 4571, 'poetics': 4572, 'soaking': 1164, 'pair': 4573, 'gimmick': 4574, 'peanut': 4575, 'marquee': 1167, 'jane': 1170, 'religion': 1169, 'names': 3568, 'bedtime': 4576, 'still': 4145, 'dumbass': 1172, 'mags': 4578, 'invulnerable': 4579, 'alley': 4580, 'archaeologist': 4581, 'night-crawlers': 1499, 'nigeria': 947, 'windowshade': 4582, 'desire': 5751, 'libraries': 4583, 'compels': 1173, 'spender': 1174, 'further': 5298, 'sugar': 6416, 'christopher': 5268, 'melodramatic': 1176, 'understood:': 1177, 'torn': 1178, 'aer': 4584, 'blood': 2292, 'idioms': 1180, 'leave': 4585, 'milhouse_van_houten:': 4713, 'ehhhhhhhh': 1181, 'fighting': 4586, 'yew': 4587, 'batmobile': 4589, 'typing': 1182, 'whaddaya': 3875, 'weirder': 1183, 'remains': 4590, 'partner': 4591, 'vehicle': 1185, 'lone': 4592, 'feel': 4593, 'air': 6418, 'difficult': 4594, \"how's\": 1187, 'tofu': 1189, 'pussycat': 1190, 'frankenstein': 1191, 'warmth': 4596, 'applicant': 3004, 'drag': 4597, 'of': 6763, 'squeeze': 5870, 'sudoku': 1192, 'designer': 4598, 'slot': 1193, 'indicates': 1194, 'tabooger': 1195, 'abercrombie': 1197, 'neighborhood': 4717, 'choking': 1198, 'beaumarchais': 1907, \"'n'\": 4176, 'engraved': 1200, 'advertise': 1201, 'without': 4601, 'last': 4602, 'informant': 1864, 'loser': 4603, 'vengeance': 1314, \"workin'\": 1202, 'brainiac': 5360, 'remodel': 1203, 'santa': 4604, 'gear-head': 1204, 'them': 1205, 'network': 1206, 'boggs': 4606, 'rainier_wolfcastle:': 4607, 'dealer': 5856, \"she'd\": 1207, 'choose': 4608, 'ruined': 5858, 'rolling': 1208, 'young_marge:': 4610, 'came': 4156, 'stocking': 4611, 'statue': 1209, 'kwik-e-mart': 4612, \"tree's\": 4613, 'himself': 4614, 'card': 1211, 'monster': 4615, 'doug:': 1214, 'test-lady': 1215, 'realized': 4616, 'nauseous': 4617, 'romance': 6676, \"i'll\": 237, 'moan': 4618, 'pour': 1217, 'switched': 6520, 'salary': 4619, \"bart's\": 4620, 'rem': 1218, 'albert': 4621, 'color': 4622, 'stood': 4623, 'bedbugs': 1223, 'forty-seven': 1222, 'jobless': 4624, 'la': 1224, 'mid-seventies': 1225, 'wikipedia': 1226, 'small': 1425, 'stagey': 1227, 'pregnancy': 1228, 'vance': 4158, 'reading': 4625, 'sorts': 1229, 'market': 1317, 'singing': 4626, 'looks': 3575, 'mic': 4627, 'othello': 5862, 'sabermetrics': 5201, 'lottery': 1230, 'orders': 1231, 'steak': 4628, 'tapestry': 4629, \"drivin'\": 4630, \"readin'\": 1232, 'muertos': 1233, 'enhance': 4631, 'newsweek': 1234, 'trashed': 4632, 'brunswick': 1235, 'denver': 1236, 'valuable': 1320, \"drexel's\": 1237, 'bumped': 4633, 'answering': 1238, 'kicked': 1239, 'bridge': 4634, 'layer': 4635, 'patty_bouvier:': 4636, 'environment': 4637, 'jay:': 4638, 'strategy': 1241, 'connor': 4730, 'mumbling': 4639, 'powers': 4640, 'fondest': 1242, 'experienced': 4642, 'annoyed': 4643, \"doin'\": 1243, 'venture': 4644, 'hydrant': 1244, 'very': 4645, 'kidnaps': 1245, 'group': 4646, 'eight': 6318, 'colorado': 4647, 'expose': 4648, 'bites': 4649, 'boxer': 5307, ':': 5865, 'irishman': 1247, 'fail': 6539, 'lis': 5309, 'field': 4650, 'nature': 1248, 'minute': 4651, 'vacation': 4653, 'sponge': 1251, 'befriend': 4654, 'genius': 4731, 'ride': 1252, 'terrified': 4655, 'single-mindedness': 1253, 'ned_flanders:': 4656, 'well': 1697, \"speakin'\": 4657, \"g'on\": 1254, 'parking': 1255, 'catch': 1256, 'nectar': 4659, 'animals': 1257, 'represent': 4024, 'maiden': 4660, 'aid': 1260, 'ointment': 1261, 'plastic': 4661, 'schemes': 4662, 'favorite': 1622, \"meanin'\": 4663, 'payback': 5972, 'repairman': 1263, 'lookalike': 1264, 'accurate': 1265, 'mobile': 1266, 'somebody': 4664, 'plenty': 1268, 'progress': 4665, '<return>': 4666, 'girl': 4667, 'fistiana': 1270, 'moonlight': 4671, 'thoughtless': 4672, 'karaoke_machine:': 1271, 'civic': 1272, 'volunteer': 1273, 'acquitted': 1923, 'never': 4673, 'severe': 4674, 'challenge': 4734, 'nachos': 4676, \"lady's\": 1274, 'mild': 5313, 'sheepish': 4678, 'bouquet': 1275, 'aged': 1276, 'read:': 4679, 'inserts': 4680, 'thomas': 5744, 'could': 3586, 'ignorance': 1278, 'wayne': 1330, 'birthday': 1279, 'minimum': 5974, 'promise': 1280, 'troll': 1281, 'generous': 1282, 'spoon': 1284, 'maximum': 4681, 'refund': 1155, 'muslim': 1285, 'breathless': 4682, 'quero': 4684, 'flailing': 4686, 'slurred': 1286, 'sturdy': 1287, \"where'd\": 1288, 'uses': 4687, \"makin'\": 1289, 'backbone': 4688, 'stairs': 4689, 'man_with_tree_hat:': 1291, 'salt': 1292, 'tsk': 5146, 'scornfully': 4168, 'read': 4690, 'homer_doubles:': 4691, \"boy's\": 4692, 'years': 1294, 'pissed': 4693, 'stu': 4694, 'paste': 4695, 'parked': 4696, 'chug-a-lug': 1298, 'twenty-nine': 1296, 'pews': 1299, 'surprise': 1612, 'forever': 1300, 'warn': 4698, 'sickly': 4699, 'geysir': 1301, 'head': 1302, 'flustered': 5737, 'dames': 4700, 'children': 4701, 'mmmm': 4702, 'bust': 4703, \"team's\": 4704, 'dentist': 1304, 'shyly': 4705, 'losers': 3659, 'grabbing': 1305, 'fastest': 4706, 'feat': 4707, 'european': 1306, 'running': 1927, 'moans': 1308, 'sobriety': 4709, \"what're\": 1309, 'legend': 1166, 'travel': 4710, 'chicks': 4711, 'putty': 1310, 'beat': 1311, 'roller': 4712, 'brown': 4714, 'crappy': 4715, 'youuu': 5317, 'swe-ee-ee-ee-eet': 4716, 'many': 760, 'movement': 4718, 'pepper': 4719, 'improved': 4720, 'hillary': 4721, 'underpants': 4722, 'oils': 4723, 'bobo': 4724, \"gentleman's\": 4725, 'points': 1316, 'cop': 4726, 'cuddling': 4727, 'updated': 2711, 'technical': 4728, 'tune': 1319, 'gasps': 6260, 'yea': 762, 'aidens': 4729, 'incredible': 1321, 'wednesday': 4577, 'stooges': 2482, 'lowest': 1322, 'reads': 4732, 'fausto': 1323, 'ratio': 1324, 'young_moe:': 4733, 'dumbest': 2712, 'presided': 1325, 'fifty': 1326, 'knock-up': 4735, 'bell': 4736, 'another': 1327, 'pre-columbian': 1328, \"when's\": 1329, 'rush': 3596, 'flew': 1331, 'diving': 1332, 'trench': 6438, 'lumpa': 4738, 'anymore': 1333, 'smart': 4739, 'today': 4740, 'inspire': 4741, 'nursemaid': 4742, 'sweet': 1334, 'supermodel': 4743, 'appendectomy': 1335, 'lady_duff:': 1336, 'walk': 1337, 'bret': 1338, 'chain': 4744, 'fella': 4745, 'neil_gaiman:': 3599, 'blur': 1339, 'hook': 5879, 'fiiiiile': 4746, 'plucked': 1340, 'hollywood': 4747, 'apology': 4748, '70': 1341, 'sir': 3600, 'sisters': 1343, 'age': 1344, 'haw': 4749, 'hurry': 4750, 'danish': 1346, \"getting'\": 4262, 'bleeding': 1347, 'celebrities': 1348, \"countin'\": 4751, 'goldarnit': 768, 'washer': 1349, 'bread': 6678, 'published': 1350, 'hat': 1351, 'crystal': 4752, 'rebuttal': 1352, \"drinkin'\": 1353, 'babe': 1354, 'fever': 1355, 'dropping': 1356, 'noise': 3552, 'apulina': 1357, 'eating': 4753, 'getting': 1937, 'jeter': 4755, 'aging': 4756, 'stretches': 5320, 'beefs': 1358, 'corn': 1359, 'mushy': 4757, 'ashtray': 4758, 'reflected': 4759, 'awesome': 4760, 'sinkhole': 1360, 'adjourned': 4761, 'kind': 1361, 'bloodball': 4762, 'punishment': 4763, \"waitin'\": 1362, 'anxious': 1364, 'cooking': 4764, 'equal': 1365, 'twice': 4765, 'kenny': 4766, 'julienne': 1366, 'daughter': 4136, 'sets': 4768, 'examples': 4769, 'embarrassing': 1368, 'spine': 4820, 'windex': 1369, 'the_edge:': 4770, 'apu': 1342, 'prize': 4771, 'spits': 1370, 'extremely': 772, 'thirteen': 1371, 'rascals': 1372, 'uh': 1373, 'campaign': 4772, 'giggles': 1374, 'entrance': 1376, 'laughs': 1377, 'w': 1378, 'therefore': 1379, 'sedaris': 4774, 'time': 4775, 'craphole': 6173, \"how'd\": 4776, 'kinderhook': 4777, 'become': 1380, 'rueful': 1381, 'loneliness': 1345, 'tradition': 3607, 'butts': 4778, 'palmerston': 1383, 'story': 3365, 'class': 4779, 'spouses': 4780, 'jimmy': 4781, 'bye': 1386, 'get': 4782, \"bar's\": 5322, 'alpha-crow': 4823, 'file': 4784, 'bartending': 1387, 'smile': 6378, 'brick': 1388, 'microphone': 1389, 'slogan': 4785, 'products': 3993, 'confused': 1390, 'necklace': 1391, 'capitalists': 1392, 'chips': 1393, 'bitter': 1394, 'flynt': 4787, 'go': 1395, 'babies': 223, 'yello': 6485, 'papa': 2523, \"now's\": 4788, 'fuzzlepitch': 4789, 'humanity': 1396, 'proves': 4790, 'hammock': 3610, 'forty-nine': 1397, 'thnord': 6448, 'button': 4791, 'donation': 4792, 'cell-ee': 4793, 'cleaning': 4794, 'yogurt': 4795, 'scam': 5889, 'hunter': 4796, 'starting': 226, 'whatchacallit': 2494, 'ford': 1399, 'beligerent': 4798, 'pretending': 4799, 'sweetly': 4800, 'innocuous': 1401, 'toms': 778, 'reality': 4801, 'lenses': 4802, 'intruding': 1403, 'should': 4186, 'corkscrews': 4803, 'even': 1404, 'assent': 1405, 'moolah-stealing': 4804, 'socratic': 779, 'lanes': 2351, 'eats': 4805, 'shot': 2498, 'lame': 1407, 'city': 1586, 'legs:': 1409, 'tubman': 4806, 'billion': 2499, 'eighty-six': 1410, 'blackjack': 4808, 'popping': 4809, 'cost': 1411, 'listening': 4810, 'sober': 1413, 'wife': 1414, 'issuing': 5868, 'barney_gumble:': 1415, 'musical': 4811, 'species': 4812, 'young': 4121, 'limber': 5895, 'lushmore': 4813, \"calf's\": 5897, 'carnival': 6451, 'strongly': 1416, 'center': 1417, 'churchill': 1418, 'holy': 1419, 'wheels': 1420, 'strangles': 4814, 'scare': 1423, 'deliberately': 4754, 'odor': 1424, 'donate': 4815, 'astrid': 4190, 'exchange': 5728, 'charges': 3591, 'koji': 1426, 'guts': 1427, 'cell': 5419, 'complaining': 1428, 'naively': 1429, 'instantly': 3029, 'yup': 4816, 'unfair': 4817, 'sly': 4818, 'teriyaki': 1430, 'bathroom': 4193, 'awww': 3572, 'syrup': 2165, 'bookie': 1431, 'designated': 1432, 'bump': 5902, 'fatso': 1434, 'starla:': 231, 'ends': 4819, 'plums': 4821, 'mostly': 1436, 'pleasant': 4822, 'wealthy': 1438, 'detective': 4824, 'bugs': 4825, 'afternoon': 1440, \"wallet's\": 1441, 'unfresh': 4827, 'sleigh-horses': 1442, 'arts': 1443, 'gargoyle': 4829, 'charge': 1444, 'awareness': 3036, 'schabadoo': 4830, 'smooth': 4862, 'payments': 4831, 'experiments': 4832, 'caholic': 4834, 'taylor': 4835, 'forehead': 4836, 'touchdown': 4837, 'means': 1447, 'senators:': 4838, 'result': 4839, 'multi-national': 1448, 'body': 4840, 'awful': 3869, 'correction': 4841, 'doreen': 1452, 'pharmaceutical': 4843, 'optimistic': 1453, 'strategizing': 1454, 'suddenly': 1455, 'convinced': 4845, 'hearse': 4846, 'outrageous': 4847, 'de-scramble': 1457, 'horrors': 4850, 'chauffeur:': 4849, 'inanely': 4851, \"that's\": 4852, 'haplessly': 1459, 'tips': 1460, 'innocent': 1462, 'invented': 1463, 'persia': 4853, \"stealin'\": 5906, 'kemi': 4854, 'flag': 4855, 'chili': 1464, \"time's\": 4857, 'doy': 6351, 'jukebox': 4201, '_babcock:': 4858, 'hanging': 1465, 'police': 4202, 'endorse': 4859, 'thousands': 1466, 'endorsed': 1467, 'mabel': 3245, 'suds': 4545, 'device': 4860, 'department': 4861, 'cockroaches': 4863, 'vodka': 4864, 'queen': 4865, 'jay_leno:': 790, 'realize': 1955, 'gambler': 1471, 'immiggants': 4867, 'declare': 1472, 'phrase': 792, 'during': 1984, 'peeved': 4868, 'full-bodied': 1473, 'laugh': 4869, 'oww': 1474, 'ziff': 4208, 'drederick': 4870, 'advantage': 4871, 'lloyd:': 1475, 'mitts': 1476, 'quarter': 1477, 'accept': 4874, 'program': 1479, 'whoops': 4876, 'cleveland': 4877, 'cherry': 4878, 'empty': 1481, 'seen': 4879, 'eco-fraud': 4880, 'bully': 1483, 'usual': 1484, 'eight-year-old': 1485, 'nonchalantly': 1486, 'f': 1487, 'feisty': 1488, 'dishonor': 4881, 'outlook': 4883, 'undermine': 4884, 'dishrag': 4885, 'fun': 1491, 'scene': 1492, 'little_hibbert_girl:': 4886, 'harrowing': 1493, 'overturned': 3619, 'glum': 1494, 'life': 6462, 'ridiculous': 1495, 'scum': 1496, 'dash': 4887, 'perfunctory': 4888, 'script': 4889, 'nemo': 4890, 'charm': 1497, 'ninth': 4891, 'retain': 4892, 'grants': 1498, 'chair': 5427, 'entertainer': 1500, 'sausage': 4894, 'famous': 1502, 'glamour': 1504, 'swimmers': 3781, 'abe': 1367, 'rusty': 1505, 'marvelous': 1506, 'right-handed': 4767, 'bashir': 4895, 'agnes_skinner:': 4896, 'agency': 1510, 'played': 4898, 'perplexed': 3046, 'protesting': 216, 'waist': 3623, 'dozen': 4899, 'spite': 1511, 'disgusted': 4900, 'compressions': 1512, 'pal': 1513, 'mickey': 4902, 'mate': 1514, 'bar-boy': 4903, 'planned': 4905, 'praise': 1516, 'ancient': 1517, 'checks': 4906, 'store-bought': 4907, 'apart': 4908, 'gave': 4909, 'lindsay_naegle:': 1519, 'voice:': 4912, 'juan': 3206, 'grammys': 6464, 'leans': 4913, 'bannister': 1522, 'model': 2513, 'sidekick': 4915, 'raccoons': 1525, 'unison': 4916, 'incapable': 1527, 'kirk_van_houten:': 1528, 'feelings': 246, 'causes': 4917, 'ding-a-ding-ding-ding-ding-ding-ding': 4918, 'boxing_announcer:': 399, 'microwave': 1530, 'fishing': 4920, 'schedule': 1531, 'swine': 1532, 'five-fifteen': 5337, 'check': 1533, 'magazine': 4922, 'preparation': 1534, 'ice': 1535, 'notice': 4923, 'brace': 4924, 'chubby': 1539, 'correcting': 1538, 'moe_szyslak:': 1540, 'violin': 1542, 'dealie': 4925, 'tang': 4926, 'puke-holes': 4927, 'tuborg': 1543, 'narrator:': 1544, 'tail': 4928, 'addiction': 3626, 'pusillanimous': 4929, 'watch': 3994, 'joy': 4930, \"'\": 4931, 'catty': 1546, 'newsletter': 4932, 'kucinich': 4933, 'augustus': 4938, 'loudly': 4935, 'sneaky': 4936, 'leak': 4937, 'pay': 1547, 'attempting': 4939, 'souped': 5919, 'excited': 4941, 'especially': 4942, 'stools': 1548, 'notices': 5920, 'solely': 4943, 'blow': 6419, 'wood': 1550, 'life-threatening': 6447, 'cattle': 2572, 'stranger:': 1551, 'meatpies': 4944, 'effigy': 2520, 'lloyd': 4945, 'wells': 4946, 'toe': 6200, 'hockey-fight': 3053, 'powered': 1552, 'wreck': 1553, 'ralph': 4947, 'weapon': 4948, 'neanderthal': 1554, 'jumping': 1375, \"she'll\": 3736, 'soir': 4949, 'law-abiding': 4950, 'transmission': 4951, 'brunch': 1964, 'amiable': 1556, '_kissingher:': 255, 'fast-food': 4952, 'goo': 4953, 'disgrace': 2775, 'pats': 4954, 'men:': 1557, 'furious': 4956, 'bowled': 1983, 'lawyer': 1558, 'sued': 1559, \"usin'\": 6429, \"we're\": 4958, 'ehhh': 4959, 'tells': 4251, 'blokes': 1560, 'occasion': 5344, 'someone': 4960, 'monday': 4961, 'stories': 1312, 'depressing': 1563, 'curse': 5761, \"it's\": 4773, 'cooler': 4962, 'rafters': 1565, 'singing/pushing': 4963, 'painless': 1566, 'jobs': 1567, 'dearest': 803, 'doppler': 1569, 'juke': 4964, 'pantry': 4965, 'garbage': 4221, \"can't\": 4966, 'my-y-y-y-y-y': 4967, 'serve': 3967, 'sweden': 1571, 'nah': 1572, 'van': 3630, 'dismissive': 4968, 'club': 1573, 'corkscrew': 4969, 'gives': 4971, 'winces': 1574, 'incredulous': 4972, 'lennyy': 2617, 'pipes': 3060, 'wangs': 4973, 'museum': 4974, \"kid's\": 1576, 'briefly': 807, 'spent': 4975, 'speech': 1579, 'flown': 5454, 'rekindle': 4976, 'compromise:': 4668, 'bathed': 1581, 'proof': 1582, 'bucks': 4977, 'test-': 4978, 'gold': 4981, 'jockey': 4980, 'rubs': 5928, 'keys': 1584, 'twelveball': 4982, 'telephone': 1585, 'characteristic': 4983, 'elect': 4224, 'hose': 1588, 'klingon': 4984, 'taxi': 1589, 'waylon': 4985, 'wedding': 4986, 'octa-': 4987, 'sixteen': 4988, 'lap': 1590, 'sit': 4989, 'edelbrock': 1592, 'wasted': 1593, 'unfortunately': 4990, 'exhibit': 1595, 'sideshow_mel:': 1384, 'wings': 1597, 'aggravated': 1598, 'ads': 4991, 'gay': 1599, 'kisser': 4992, 'aziz': 4993, 'you': 5348, 'simpson': 4226, 'sending': 351, 'hobo': 4994, 'saying': 4995, 'doof': 4996, 'naturally': 4997, 'pack': 1602, 'tip': 1603, 'month': 4998, 'dateline': 4999, 'expired': 1604, 'restroom': 1605, 'korea': 1606, 'self-centered': 1607, 'guiltily': 4501, 'drinks': 5000, 'caper': 1609, 'thesaurus': 5002, 'kitchen': 5003, 'index': 1611, 'breathtaking': 5004, 'okay': 5005, 'taxes': 1613, 'pretentious_rat_lover:': 5932, 'aunt': 5006, 'hushed': 5104, 'germany': 5007, 'stand': 5008, 'championship': 1972, 'newest': 5010, 'madonna': 1615, 'hers': 6642, \"you've\": 1974, 'recruiter': 5011, 'onassis': 1617, 'mock-up': 5013, 'error': 1618, 'knuckle-dragging': 4783, 'fondly': 5014, \"people's\": 2531, 'accidents': 1619, 'france': 5016, 'strolled': 1620, 'patented': 1621, 'hounds': 5017, 'literary': 2510, 'she': 5018, 'congratulations': 5019, 'champs': 1624, 'tapping': 6079, 'unable': 5020, \"sat's\": 166, 'hawaii': 5021, 'installed': 5022, 'goodwill': 1625, 'freed': 4231, 'danny': 5023, 'grain': 5024, 'whee': 1627, 'vote': 1628, 'kentucky': 5354, 'drown': 4232, 'according': 1629, 'benefits': 5827, 'meaningful': 5026, 'evil': 3460, 'effervescent': 5935, 'holds': 5027, 'haiti': 5355, 'sniffs': 5028, 'wow': 5029, 'heals': 5031, 'awake': 5034, \"ain't\": 5033, 'youngsters': 1633, 'part-time': 1634, \"department's\": 1769, 'flames': 1635, 'maman': 5035, 'throats': 5037, 'shindig': 1636, 'once': 1637, \"thing's\": 5038, 'astronauts': 1638, 'judge_snyder:': 1639, 'buffet': 5357, 'befouled': 1640, 'world-class': 1641, 'acceptance': 1642, 'clears': 6488, 'wiggum': 2963, 'shove': 1643, 'elves:': 267, 'stones': 5039, 'understanding': 1646, 'madison': 1647, 'maya': 1648, 'enter': 5937, 'clothespins': 5040, 'rupert_murdoch:': 1649, 'clandestine': 5041, 'sickened': 5042, 'short': 5359, 'espousing': 5043, 'gheet': 1652, 'yard': 1653, 'macgregor': 1654, 'endorsement': 4236, 'whistling': 1655, 'closing': 1076, 'punkin': 1656, 'shoulda': 1657, 'exploiter': 5044, 'grease': 5047, 'shush': 5046, 'spotting': 5321, 'hilarious': 5048, 'almond': 271, 'eggs': 1658, \"man's\": 5049, 'producers': 5050, 'amends': 5051, 'high-definition': 5052, 'railroad': 3652, \"mopin'\": 5053, 'lincoln': 3571, 'cut': 5054, 'shuts': 1663, 'len-ny': 1664, 'ought': 4786, 'bad-mouth': 1665, 'subject': 3077, 'casual': 1666, 'atari': 5055, 'criminal': 5056, 'boozebag': 6644, 'encouraged': 5057, 't-shirt': 1668, 'maher': 5058, 'trouble': 5059, \"poundin'\": 823, 'horrified': 5060, 'trail': 1669, 'a-lug': 1670, 'securities': 5061, 'chairman': 1671, 'turning': 1672, 'assert': 5063, 'muscle': 5064, '<period>': 5065, 'femininity': 5066, 'cavern': 1675, 'x': 5067, 'peach': 5068, 'thought_bubble_homer:': 5070, 'door': 5071, \"beer's\": 5072, 'pictured': 5073, 'difference': 5074, 'dan_gillick:': 5075, \"spiffin'\": 1678, 'ironic': 5076, 'conditioners': 1679, 'continuing': 1680, 'bless': 5077, 'ingested': 4305, 'memory': 1681, 'six-barrel': 1682, 'roy': 1315, 'over': 5078, 'chum': 5079, 'bumblebee_man:': 1683, 'mill': 1684, 'sticker': 5080, 'easy': 5081, \"hell's\": 5082, 'alky': 5083, 'football_announcer:': 5084, 'carve': 1686, 'pus-bucket': 1687, 'flowers': 1688, 'dispenser': 4239, 'regulations': 1689, 'fast-paced': 5086, 'throw': 1690, 'broken': 1691, 'b-day': 1692, 'creme': 1693, 'flack': 5087, 'kennedy': 1694, \"playin'\": 6606, 'rude': 829, 'ineffective': 1695, 'unlocked': 1696, 'fayed': 5089, 'naked': 1698, 'chest': 1699, 'hot-rod': 1700, 'toilet': 5091, 'whaaaa': 5097, 'delightfully': 5094, 'times': 5095, 'decision': 5098, 'domestic': 5099, 'intoxicants': 1184, 'underwear': 5100, 'studied': 5101, 'take-back': 5102, 'company': 5103, 'spread': 1990, 'pine': 1702, 'paris': 1703, 'treasure': 1704, \"cheerin'\": 1398, 'died': 1705, 'old': 5106, 'other': 5107, 'blamed': 1706, \"enjoyin'\": 1707, 'football': 5109, 'cares': 5110, 'scratcher': 5111, '1895': 5112, 'summer': 1708, 'un-sults': 831, 'likes': 1709, 'allow': 1710, 'wait': 5113, 'taps': 1711, 'boxer:': 1713, 'this': 5114, 'corner': 5116, 'parenting': 6506, 'chocolate': 5117, 'charlie': 1714, 'continuum': 5118, 'wistful': 1715, 'routine': 1716, \"wonderin'\": 5119, 'natural': 5120, 'ecru': 5121, 'rest': 5122, 'moesy': 1717, 'way': 1718, 'silent': 5124, 'players': 4797, 'manjula': 1719, 'cab': 1721, 'did': 1722, 'reasonable': 283, 'obese': 1723, 'kills': 1724, 'unbelievably': 285, 'tonic': 1725, 'offended': 5950, 'process': 1726, 'novelty': 5125, 'pit': 1727, 'court': 1728, 'modern': 5127, 'mad': 5128, 'catch-phrase': 5129, 'enough': 5130, 'lady': 1729, 'highest': 1400, 'shaky': 1730, 'flaming': 1731, 'boyhood': 1732, 'diamond': 1733, 'necessary': 1734, 'ma': 1735, 'whiny': 1736, 'benjamin': 1737, 'indigenous': 2550, 'crimes': 5135, 'damn': 5133, 'tomahto': 5136, 'toasting': 1738, 'guns': 5137, 'measurements': 1739, 'supervising': 5139, 'liar': 5140, 'mariah': 1740, 'nigel_bakerbutcher:': 1741, 'official': 5141, \"c'mon\": 1742, 'whip': 1743, 'togetherness': 1744, 'slaps': 5143, 'title': 1745, '&': 6514, 'guttural': 5144, 'whatchamacallit': 1746, 'girlfriend': 5147, 'grudgingly': 5148, 'mommy': 4248, 'railroads': 5149, 'yourselves': 1747, \"wouldn't-a\": 5954, 'root': 3089, \"buffalo's\": 1748, 'pointy': 5150, 'humiliation': 5151, 'anyway': 1749, 'kent_brockman:': 5152, 'chanting': 1750, 'hi': 5153, 'taste': 3663, 'malfeasance': 5154, 'soft': 1752, 'hooters': 5156, 'cartoons': 1753, 'filled': 5157, 'ultimate': 5158, 'betcha': 1754, 'ominous': 5160, 'spanish': 287, 'glummy': 1755, 'swelling': 839, 'parents': 1756, 'music': 5162, 'moment': 2552, 'focus': 5163, 'manchego': 5164, 'hangout': 960, 'cough': 5165, 'dull': 1757, 'fonzie': 5956, 'hexa-': 5167, \"toot's\": 1758, 'problems': 5168, 'crowned': 1759, \"something's\": 1761, 'shoes': 1762, 'blurbs': 1763, 'billy_the_kid:': 5170, 'polls': 1764, 'alright': 1765, 'gin': 4249, 'bit': 1767, 'puffy': 1768, 'drunk': 1770, 'crowbar': 1771, 'shut': 5173, 'faith': 292, \"fishin'\": 5175, 'suspiciously': 1772, 'wore': 5841, 'bright': 5176, 'has': 1773, 'weirded-out': 5178, 'overstressed': 1774, 'eighteen': 1775, 'hawking:': 1776, 'reptile': 2559, '6': 1778, 'mountain': 5180, 'kansas': 2001, 'elder': 1779, 'feeling': 5958, 'the_rich_texan:': 1780, 'agh': 5181, 'everything': 3686, 'mistakes': 1781, 'joking': 1406, 'oopsie': 1782, 'unrelated': 5182, 'kermit': 5183, 'carlotta:': 1783, 'neat': 1784, 'chuckle': 1785, 'dry': 5184, 'cigarette': 1786, 'courthouse': 5186, 'crying': 5187, 'instrument': 1787, 'menacing': 5189, 'mural': 5190, 'stupidest': 5191, 'solved': 1408, 'gabriel:': 5192, \"everyone's\": 3667, 'slugger': 1788, 'resigned': 1789, 'freaky': 5385, 'eye-gouger': 1790, 'eve': 1791, 'dracula': 1792, 'businessman_#1:': 1793, 'sloe': 5195, 'option': 1794, 'bake': 1795, 'judges': 1796, 'blown': 1797, 'eyeballs': 5196, 'street': 5694, 'man_with_crazy_beard:': 1799, 'isle': 6523, 'pirate': 2006, 'terrorizing': 5198, 'happily:': 5199, 'buyer': 1800, 'belly-aching': 1412, 'thirsty': 1801, 'cigarettes': 1802, 'prefer': 1803, 'lie': 1804, 'deliberate': 848, 'beyond': 1805, 'parasol': 5202, 'rivalry': 1806, 'being': 5204, 'dejected': 5962, 'noticing': 5205, 'cross-country': 5207, 'larry': 5963, 'completely': 1807, 'blues': 5208, \"smokin'_joe_frazier:\": 3378, 'sniper': 1808, 'breathalyzer': 1809, 'disturbing': 5209, 'woo-hoo': 1811, \"i'm-so-stupid\": 1812, 'kissing': 1813, 'supposed': 1814, 'cloudy': 5211, 'feast': 1815, 'burns': 1816, 'junior': 5212, 'tap': 1817, 'heartily': 1818, 'morning-after': 5213, 'cries': 5214, 'face-macer': 6499, 'courage': 1821, 'dan': 1822, 'shakespeare': 1823, 'jokes': 5215, 'contest': 1824, 'nos': 5216, 'gums': 1825, 'what-for': 297, 'poplar': 5218, 'mmmmm': 5219, 'dum-dum': 1826, 'rife': 5222, 'occurred': 298, 'director:': 5223, 'outside': 1828, 'original': 5224, 'ignoring': 5702, 'minus': 1829, 'suspenders': 5225, 'ragtime': 1830, 'pepto-bismol': 1831, \"poisonin'\": 1832, 'voyager': 1833, 'tracks': 1834, \"lenny's\": 5226, 'swings': 5227, 'guinea': 1835, 'richard:': 5228, 'teenage_bart:': 5229, 'full': 5230, 'sec_agent_#2:': 5232, \"number's\": 1836, 'gabriel': 5233, 'hike': 1837, 'sponsor': 1838, 'puzzled': 1839, 'twentieth': 5964, 'crony': 1842, 'selection': 1843, 'ollie': 2570, 'rented': 1844, 'begging': 5236, 'resenting': 1845, 'taken': 1846, 'moon-bounce': 1847, 'clown': 1848, 'frontrunner': 1849, 'não': 1851, 'stopped': 5239, 'terrific': 4268, 'yak': 833, 'ehhhhhh': 1421, 'beam': 1852, 'gas': 5392, 'liver': 1853, \"plaster's\": 1854, 'following': 1422, 'few': 5241, 'country-fried': 1855, 'gesture': 1856, 'form': 5242, 'jazz': 1857, 'depression': 5245, 'sleeps': 6531, 'officer': 1858, 'half-day': 5246, 'carney': 5247, 'caveman': 1859, 'subscriptions': 1860, 'told': 5210, 'barney': 1861, 'considering': 1862, 'squabbled': 5248, \"games'd\": 1863, 'increased': 5249, 'brine': 5250, 'soothing': 5251, 'waters': 5252, 'lists': 1866, 'quiet': 6533, 'k-zug': 1867, 'exasperated': 1869, 'yet': 1870, 'ronstadt': 1871, 'tin': 1872, 'film': 5253, 'nineteen': 5254, 'meditative': 5255, \"coffee'll\": 1873, 'emotion': 5256, 'ab': 1874, 'led': 1875, \"tryin'\": 1876, 'sells': 6534, 'friend:': 1877, 'however': 1878, 'flame': 1879, 'sat': 2016, 'assistant': 5257, 'amid': 4273, 'darn': 5258, \"bart'd\": 5260, 'je': 1881, 'code': 5261, 'pointing': 1882, 'quarterback': 5262, 'invite': 5263, 'drinking': 5264, 'pick': 5265, 'happily': 5266, 'rome': 5267, 'purse': 858, 'quimby_#2:': 1883, 'perverse': 1885, 'rainforest': 5269, 'sympathizer': 6097, 'knocks': 5270, 'ordered': 1886, 'true': 5271, 'goodbye': 1887, 'errrrrrr': 5273, 'radiation': 6535, 'sips': 5274, 'finger': 1888, 'combination': 5276, 'number': 5277, 'conclude': 5278, 'squashing': 1889, 'chinese_restaurateur:': 1890, 'cuckoo': 1891, 'sex': 1892, 'built': 1893, 'formico': 5283, 'cheaper': 1895, 'copy': 6536, 'familiar': 1896, 'action': 5284, 'language': 5285, 'power': 5286, 'ghouls': 5288, 'find': 1897, 'enforced': 2019, 'barkeeps': 4276, 'make': 1898, 'king': 5289, 'toy': 1899, \"y'know\": 5290, 'finished': 6362, 'seven': 1900, 'folk': 5292, 'cocoa': 1901, 'wanted': 1902, \"nothin's\": 1903, 'skills': 1904, 'strictly': 6537, 'record': 1905, 'stillwater:': 5295, 'shesh': 5296, 'andalay': 5297, 'course': 5299, 'gals': 5300, 'ago': 1906, 'mumble': 5301, 'distinct': 1909, \"seein'\": 6538, 'jigger': 5303, 'kazoo': 1910, 'finally': 5304, 'kramer': 304, 'ruin': 1911, 'marched': 1912, 'good': 1913, 'sooo': 1914, 'purveyor': 1915, 'cool': 5305, 'mckinley': 1916, 'forget-me-shot': 5306, 'doors': 5308, 'liser': 1917, 'retired': 1918, 'slipped': 1919, 'stevie': 5310, 'renee:': 5311, 're:': 1920, 'poin-dexterous': 1921, 'frink-y': 5312, 'sunny': 1922, 'doctor': 2025, 'pledge': 1924, 'sneering': 5314, 'average': 309, 'normal': 1925, \"wino's\": 5315, 'elmer': 1926, \"coaster's\": 1929, 'my': 1928, \"who'da\": 5316, 'delays': 1930, 'zeal': 1931, 'lenny': 1932, 'satisfaction': 1933, 'alfred': 1934, 'quick-like': 5318, 'states': 1935, 'bears': 1936, 'gasoline': 1433, 'by': 5319, 'rat': 3116, 'proudly': 3682, 'innocence': 1939, 'alcoholic': 1938, 'recreate': 5651, 'schizophrenia': 868, 'jack_larson:': 1295, 'a-a-b-b-a': 5942, 'suing': 1940, 'impatient': 1941, 'kang:': 1942, 'marvin': 5323, 'whistles': 6546, 'wooooo': 5324, 'beast': 5978, \"round's\": 1944, 'sec': 1945, 'attraction': 1946, 'prime': 5326, 'eyeball': 5327, 'nope': 5973, 'rainier': 1947, 'energy': 5404, 'flips': 1948, 'caught': 1949, 'scruffy_blogger:': 1950, 'grunts': 1951, 'occupancy': 3122, 'earth': 5328, \"lookin'\": 5329, 'stagehand:': 5330, 'lots': 3684, 'calmly': 5331, 'kissed': 5332, 'trying': 1435, 'superior': 1952, 'child': 5333, \"monroe's\": 1953, 'sexton': 6547, 'sings': 5334, 'compare': 1954, \"rentin'\": 3127, 'doll': 5335, 'rage': 1956, 'banned': 1957, 'flush': 720, 'write': 1958, 'ye': 1437, 'platinum': 5336, 'yelp': 1959, 'follow': 1960, 'grabs': 1961, 'play/': 5338, 'mexicans': 5339, 'forty-five': 1439, 'most:': 1962, 'veux': 5340, 'homunculus': 318, 'chorus:': 1963, 'upsetting': 5341, 'richard': 1037, 'crew': 5342, 'spacey': 5343, 'cliff': 1965, 'raises': 1966, 'l': 1967, 'defiantly': 1968, 'citizens': 1969, 'declan_desmond:': 5345, 'drive': 4826, 'we-we-we': 5346, 'vacations': 5347, 'decadent': 1970, 'tsking': 1971, 'eyeing': 6548, 'school': 5349, 'bets': 5350, 'stock': 1973, 'disguised': 1976, 'glad': 2591, 'kadlubowski': 5351, 'hemorrhage-amundo': 2034, 'ways': 5352, 'quickly': 874, 'developed': 5353, 'conference': 1977, 'michael_stipe:': 1978, 'granted': 1979, 'hands': 1980, 'linda': 1981, 'involving': 5356, \"lefty's\": 1982, 'do': 5358, 'foil': 5982, 'killer': 5361, 'stained-glass': 1985, \"brady's\": 1943, 'per': 5362, 'ocean': 1986, 'example': 5363, 'alls': 5364, 'henry': 4828, \"they're\": 321, 'flanders': 1987, 'photos': 3136, \"kiddin'\": 5410, 'grains': 878, 'duff': 6465, 'candidate': 1988, 'al': 1989, 'sperm': 1991, 'interested': 1992, \"c'mere\": 5365, 'value': 879, 'bagged': 1993, 'walked': 5366, 'pushes': 5367, 'text': 5368, 'bees': 1995, \"somethin's\": 1445, 'stole': 1996, 'countryman': 5369, 'commission': 5370, 'terminated': 5371, 'misfire': 1997, \"cleanin'\": 1998, 'manipulation': 1999, 'handing': 2000, 'conversion': 5372, 'lifts': 5373, 'kodos:': 5374, 'oak': 5375, \"'now\": 5376, 'impress': 5377, 'knit': 5379, 'mock': 5380, 'reserve': 5381, \"murphy's\": 5382, 'snake': 5383, 'buttons': 2002, 'lord': 5384, 'candles': 4833, 'planning': 2003, 'sensitivity': 2004, 'religious': 5386, 'loud': 2005, 'forgets': 2008, 'flashing': 2007, 'hooray': 2009, 'nitwit': 6552, 'insulted': 2010, 'post-suicide': 1446, 'state': 2011, 'comfortable': 5387, 'one': 6553, 'legal': 2012, 'bon-bons': 5388, 'ninety-nine': 2013, 'robin': 5389, 'moe-lennium': 5390, 'ventriloquism': 5415, 'psst': 5391, 'asks': 5393, 'maitre': 5394, 'blubberino': 2014, 'dating': 2015, 'worldly': 6068, 'break-up': 5395, 'yammering': 5396, 'boxcars': 5397, 'brains': 2017, 'rubbed': 2018, 'face': 5398, 'princesses': 2020, 'shhh': 2021, 'place': 2022, \"tester's\": 5399, 'traditions': 2023, 'bought': 328, 'jack': 5400, 'mindless': 5401, 'fortensky': 2024, 'bear': 5402, 'clown-like': 6558, 'slapped': 2026, 'lise:': 5403, 'disgraceful': 2028, 'lard': 1449, 'sauce': 2029, 'wieners': 4137, 'disaster': 2030, \"ya'\": 5405, 'grub': 5406, 'instead': 6498, 'temple': 2031, 'nobel': 5407, 'broad': 2032, 'aboard': 5408, 'hyahh': 2033, 'land': 2035, 'mine': 5409, 'stage': 2036, 'scared': 2037, 'fbi_agent:': 2038, 'emporium': 2039, 'insecure': 2040, 'measure': 5411, 'therapist': 5412, 'yap': 5413, 'helped': 5414, 'all:': 5420, 'each': 5416, 'grave': 5417, 'utility': 5418, \"'ceptin'\": 2041, 'medieval': 2042, \"scammin'\": 2044, 'party': 4844, 'knowingly': 2045, 'hideous': 2046, 'cotton': 5421, 'open': 2047, 'wire': 2048, 'tommy': 5422, 'bunch': 2049, 'tying': 2050, 'montrer': 2051, 'sixty': 2052, 'someday': 3700, 'well-wisher': 5423, \"doesn't\": 2054, 'depending': 2055, 'venom': 5424, 'adeleine': 5425, 'academy': 832, 'homeland': 6562, 'greystash': 2056, 'blessing': 2057, 'long': 2058, 'ihop': 2059, 'beer-dorf': 1456, 'nicer': 5428, 'africanized': 2060, 'brings': 5429, 'blame': 4848, 'consciousness': 2061, 'all-star': 2062, \"sittin'\": 1458, 'sexy': 5430, 'hillbillies': 5431, 'loved': 5434, 'ninety-eight': 2064, 'punches': 2065, 'chapter': 5435, 'fwooof': 2067, 'lights': 5437, 'agents': 2068, 'eighty-one': 5438, 'rom': 5439, 'skoal': 2071, 'nbc': 5440, 'tinkle': 2602, 'burger': 5441, 'lonely': 5443, 'mrs': 6615, 'giving': 1626, 'confidentially': 2073, 'wrap': 6298, 'sing-song': 2074, \"squeezin'\": 5444, 'gibson': 2075, 'forgive': 2076, 'yells': 5445, '1979': 2077, 'discriminate': 5378, 'radical': 5448, 'thousand-year': 3702, 'vulnerable': 3151, 'felt': 5449, 'singers:': 2078, 'keeps': 2079, 'heather': 2080, '2': 2081, 'red': 5451, 'starve': 5452, 'show': 5453, 'simultaneous': 2082, 'startup': 2784, 'stomach': 5455, 'flash': 2083, 'author': 5458, \"weren't\": 2085, \"cashin'\": 2086, 'inserted': 2087, \"school's\": 5459, 'uglier': 2088, 'fan': 2090, 'brought': 2091, 'cranberry': 2092, 'lookalike:': 5460, 'sob': 2093, 'beards': 2094, 'brakes': 5426, 'shill': 2095, 'science': 5463, \"could've\": 2096, 'wonder': 2097, 'ball': 5466, 'health': 5467, 'army': 5468, 'wheel': 2098, 'buying': 5470, 'england': 2099, 'dirty': 2100, 'fridge': 4856, 'beers': 5476, 'muffled': 5996, 'priceless': 5477, 'victory': 2101, 'warm_female_voice:': 2104, 'canyonero': 2103, 'authorized': 2105, 'adopted': 2106, 'pets': 5480, 'knuckles': 2107, 'puff': 5481, 'slab': 2108, 'tv_announcer:': 5474, 'perfume': 2109, \"bo's\": 2110, 'dea-d-d-dead': 5482, 'grocery': 2111, 'goodnight': 5483, 'used': 5484, 'available': 5485, 'as': 5486, 'skirt': 2112, 'jägermeister': 2113, 'activity': 5487, 'voicemail': 2114, 'sooner': 4301, 'fevered': 2115, 'manboobs': 896, 'griffith': 5489, 'tomorrow': 5490, 'blinds': 2116, 'intrigued': 2117, 'awkward': 1094, 'gluten': 2118, 'ear': 5493, 'xx': 5494, 'wall': 2119, 'suspicious': 5496, 'half': 5497, 'businessman_#2:': 2120, \"springfield's\": 5498, 'crumble': 2121, 'murdoch': 2122, 'aerosmith': 5502, 'spilled': 2123, 'bury': 5504, 'cushion': 2125, 'dallas': 5505, 'drives': 5506, 'now': 4919, 'and/or': 5508, 'pawed': 2614, 'sap': 2126, \"fans'll\": 5509, 'runt': 2127, 'wok': 2130, 'picnic': 2129, 'hemoglobin': 5514, 'plastered': 2131, 'rent': 5516, 'audience': 3426, 'ohmygod': 6734, 'mortgage': 2063, 'combines': 5519, 'bill': 5520, 'generosity': 5433, 'raggie': 2132, 'talkers': 5464, 'later': 5522, 'fighter': 2133, 'audience:': 2134, 'poisoning': 2135, 'who': 1468, 'heavyweight': 2136, 'everyday': 5526, 'takes': 5527, 'little_man:': 2137, 'twin': 3158, 'stretch': 2138, 'learn': 5529, 'traitor': 2139, 'early': 2140, 'floor': 2066, 'memories': 5531, 'express': 2141, 'bible': 1469, 'shame': 3718, 'people': 901, 'point': 6572, \"tv's\": 5533, 'seem': 2142, 'obvious': 5534, 'deer': 5535, 'happens': 2143, \"they'd\": 5536, 'save': 5537, 'wasting': 2144, 'three': 2146, 'punching': 5436, 'hates': 5539, 'suit': 5540, 'grenky': 5541, \"washin'\": 5542, 'life-partner': 2147, 'kearney_zzyzwicz:': 2148, 'anyhoo': 2150, 'vincent': 1470, 'cyrano': 2151, 'mmm': 5544, 'envy-tations': 5545, 'badmouth': 5546, 'sneeze': 4866, 'ladder': 5547, 'ginger': 2152, 'steam': 2153, 'dumb-asses': 6576, 'orphan': 2154, 'this:': 5549, 'selective': 5769, 'diets': 5550, 'bliss': 2155, 'walks': 6078, 'certainly': 2156, 'injury': 2157, 'already': 2158, 'cutting': 2069, 'storms': 5553, 'cat': 2159, 'cheap': 5554, 'rebuilt': 2162, \"show's\": 3719, 'snout': 2164, 'masks': 5557, 'bindle': 5558, 'lecture': 1480, 'sinister': 2166, 'cars': 5559, 'robbers': 2072, 'nuts': 5560, 'finishing': 2168, '_marvin_monroe:': 5561, 'reached': 2169, 'seriously': 5325, \"shootin'\": 5562, 'spoken': 2170, 'jig': 5442, 'world': 5564, \"stinkin'\": 2171, 'sold': 5565, 'couch': 2172, 'larry:': 2173, 'punch': 5566, 'grab': 5567, 'ale': 2174, 'case': 5569, 'rasputin': 2175, 'laws': 5571, 'whoopi': 5572, 'bothered': 5573, 'wins': 2176, 'sizes': 5574, 'christmas': 2177, 'duff_announcer:': 5575, 'ferry': 6007, 'dory': 5576, 'lost': 4872, 'wraps': 2178, 'everyone': 3162, 'around': 548, 'coal': 5578, 'clammy': 2620, 'blocked': 5580, 'coy': 5581, \"'kay-zugg'\": 2179, 'onto': 2180, 'diddilies': 2181, 'tomatoes': 5583, 'hibbert': 2183, 'glyco-load': 2184, 'derek': 5585, 'despite': 5586, \"fun's\": 2185, 'remember': 5587, 'stein-stengel-': 2186, 'stacey': 5588, 'items': 5589, 'brassiest': 1478, 'loves': 2187, 'lurleen': 2188, 'gorgeous': 2189, 'seymour_skinner:': 2190, 'cuff': 4873, 'caused': 2191, 'calvin': 2192, 'aggie': 5590, \"someone's\": 2193, 'pep': 2194, 'manjula_nahasapeemapetilon:': 5591, 'omit': 3727, 'evasive': 2195, 'dennis_kucinich:': 2198, 'shriners': 2197, 'gig': 4875, \"fightin'\": 2200, 'alcoholism': 2623, 'trip': 2201, 'tavern': 5594, 'finance': 5595, 'yelling': 2202, 'connection': 2203, \"gettin'\": 2204, 'superpower': 2205, 'fourteen:': 5596, 'approval': 2206, 'hide': 5597, 'broncos': 2207, 'arrange': 2208, 'camera': 5446, 'uninhibited': 1482, 'jeez': 5134, 'higher': 5600, 'and': 5601, 'ruuuule': 2209, 'share': 2211, 'tabs': 3169, 'contract': 5603, 'dear': 5986, 'address': 2212, 'focused': 5447, 'shipment': 5604, 'cover': 5605, 'managing': 5606, 'same': 1123, 'gulliver_dark:': 2213, 'zone': 6706, 'whoever': 5608, 'nap': 5609, 'clincher': 2214, 'figures': 2216, 'fact': 5610, 'holidays': 2217, 'malabar': 5611, 'rather': 2218, 'cup': 1975, 'bums': 2219, 'crank': 2220, 'unattractive': 5612, 'duffed': 2221, 'doll-baby': 2222, 'upset': 5613, 'canyoner-oooo': 5614, 'than': 5615, 'high': 2223, 'bupkus': 5450, \"couldn't\": 913, 'airport': 2224, 'design': 6586, 'inquiries': 2225, 'mary': 2226, 'el': 6588, 'see': 3732, 'territorial': 5618, 'pre-game': 1249, 'tree_hoper:': 2228, 'writer:': 6013, 'motorcycle': 5621, 'smokes': 2229, 'telling': 5622, 'dump': 4319, 'arse': 2230, 'collapse': 5624, 'specializes': 5940, 'entering': 5876, 'regulars': 5625, 'cowboys': 5626, 'forty': 2231, 'pays': 2232, 'jeff': 5627, 'fired': 5628, 'event': 2233, 'dee-fense': 2234, 'politicians': 5629, 'bathing': 2235, 'recently': 5631, 'cigars': 4882, 'flatly': 2236, \"i-i'll\": 5632, 'relaxing': 1489, 'dang': 2237, 'peabody': 5633, 'sticking': 5634, 'so': 5635, 'mess': 5636, 'padres': 2238, 'lead': 5637, 'without:': 1490, 'nash': 2239, 'neighboreeno': 2240, 'zero': 2241, 'disappear': 5639, '_julius_hibbert:': 5640, 'voice': 2242, 'furry': 5641, 'wrestle': 2243, 'gee': 3735, 'distaste': 5643, 'bourbon': 2244, 'strokkur': 3177, 'irrelevant': 5645, 'opportunity': 2245, 'streetlights': 5648, 'social': 2246, \"talkin'\": 916, 'fence': 2249, 'brain-switching': 2250, 'steamed': 2251, 'roll': 2252, 'since': 5650, 'radio': 5951, 'fiction': 5652, 'racially-diverse': 2253, 'heck': 3740, 'wish': 5653, 'daniel': 5654, 'blaze': 2254, 'ram': 2255, 'edna': 5656, 'x-men': 2256, 'marry': 2257, 'with': 5657, 'firing': 2258, 'refreshingness': 4046, 'sheet': 5658, 'leprechaun': 5659, 'jail': 2259, 'ninety-six': 918, 'handling': 5660, 'tried': 5661, 'sat-is-fac-tion': 2260, 'wally': 360, 'beloved': 6019, 'rabbits': 2261, 'crossed': 2262, 'jamaican': 2263, 'end': 5456, 'belch': 2264, 'yesterday': 5302, \"battin'\": 2265, 'committee': 6222, 'restaurant': 2266, 'aside': 5663, 'carey': 2267, 'asleep': 2268, 'thought_bubble_lenny:': 2269, 'accent': 2270, 'machine': 2271, 'spooky': 3744, 'pleasure': 5665, 'droning': 2272, 'chicken': 5667, 'lady-free': 4284, 'padre': 5668, 'neck': 2273, 'sunday': 4893, 'worthless': 5669, 'huge': 4914, 'million': 2274, 'lingus': 5280, 'easily': 2275, 'hole': 2084, 'backwards': 2276, 'exchanged': 5671, 'bolting': 5672, 'motel': 5673, 'screw': 2277, 'done:': 2278, 'extra': 2279, 'ow': 5674, 'shorter': 6667, 'access': 5675, 'wagering': 1501, 'special': 2280, 'boyfriend': 2282, 'excellent': 5677, 'saint': 5679, 'olive': 1313, 'reviews': 2283, 'turn': 1536, 'seductive': 2284, 'mayor': 2285, 'mob': 5681, 'possessions': 5682, 'majority': 5684, 'fixes': 2286, 'vampires': 5685, 'clips': 6597, 'recommend': 2287, 'charming': 5686, 'teddy': 5687, 'wondered': 2288, 'smell': 5688, 'if': 924, 'prayers': 2289, 'sideshow': 2290, 'veteran': 5690, 'prepared': 2291, 'deserve': 5691, 'drug': 2293, '<semicolon>': 5461, 'men': 2295, 'lush': 5695, 'those': 5795, 'whirlybird': 2296, \"you'll\": 5282, \"valentine's\": 2297, 'wholeheartedly': 5696, 'sunglasses': 2298, 'march': 5697, 'attractive_woman_#1:': 2299, 'inches': 5698, 'cruiser': 2300, 'joining': 6024, \"somethin':\": 5756, 'birthplace': 5699, 'quimby': 5700, 'spit': 5701, 'meaningless': 2301, 'adult_bart:': 1451, 'milks': 2302, 'studio': 2303, 'hope': 1507, 'paints': 4335, 'detecting': 2305, 'notorious': 2306, 'encouraging': 5704, 'chill': 5705, 'gum': 2307, 'surgery': 5706, 'hippies': 5707, 'mixed': 2309, 'clear': 5709, \"bringin'\": 2310, 'win': 2311, 'sea': 5710, 'fireworks': 2312, 'flourish': 5711, \"mcstagger's\": 5712, \"soundin'\": 1508, 'ducked': 2313, 'sorry': 5713, 'chief_wiggum:': 4897, 'large': 5714, 'lemonade': 2314, 'male_singers:': 2315, 'barkeep': 5716, 'erasers': 5717, 'pretzels': 2316, 'backing': 2317, 'superdad': 5718, 'start': 2318, 'hotel': 5719, 'yo': 5720, 'beer': 2319, 'beverage': 2320, 'shoe': 2321, 'ready': 5721, 'ali': 5722, 'local': 2322, \"didn't\": 5802, 'real': 5723, 'brawled': 2323, 'totalitarians': 5724, 'aged_moe:': 4337, 'unlucky': 2324, 'balls': 5725, 'won': 5469, 'blew': 5471, 'springfield': 5726, \"'your\": 2325, 'enemies': 2326, 'wacky': 2327, 'boston': 2328, 'flaking': 5729, \"y'money's\": 3673, 'clientele': 2329, 'star': 2330, 'ha-ha': 2331, 'don': 5730, 'calendars': 2332, 'roach': 2333, 'stick': 2334, 'bottoms': 5731, 'forget-me-drinks': 2335, 'buried': 2336, 'nahasapeemapetilon': 2338, 'cozy': 2339, 'at': 5733, 'temporarily': 2340, 'cracked': 4901, 'naval': 2342, \"homer's\": 5734, 'key': 2343, 'super': 5736, 'appointment': 5457, 'concerned': 6604, 'cocking': 2344, 'hundred': 5739, 'applesauce': 2345, 'thirty-five': 5740, 'us': 2346, 'up-bup-bup': 2347, 'steely-eyed': 4338, \"tab's\": 5741, 'unearth': 2349, 'booze': 5742, 'office': 5743, 'karaoke': 5473, 'fountain': 2355, 'mind': 2352, 'crow': 2354, 'shack': 3754, 'roomy': 5745, 'nelson': 4904, 'cesss': 5475, 'important': 5683, 'wildfever': 5900, 'paparazzo': 5746, 'hours': 1515, 'pope': 5747, 'forecast': 2356, 'jackass': 5749, \"livin'\": 2357, 'increasingly': 2358, 'cheers': 3757, 'bird': 5753, 'given': 2360, 'intention': 5754, 'affectations': 5755, 'universe': 2361, \"'bout\": 371, 'liable': 5757, \"bashir's\": 5758, 'bail': 5759, 'hammer': 2102, 'william': 6032, 'intakes': 2364, 'hiya': 2365, 'dark': 2366, 'opens': 4910, 'anything': 2367, 'feed': 5764, 'anti-lock': 5765, 'scum-sucking': 2368, 'adequate': 2369, 'bam': 5766, 'sad': 2370, 'passes': 2371, 'scrubbing': 2373, \"tv'll\": 2374, \"doctor's\": 5768, 'less': 938, 'heart-broken': 2375, 'cameras': 2376, 'whaddya': 4347, 'marge_simpson:': 4911, 'chumbawamba': 2377, 'guessing': 2378, 'drawing': 5770, 'no': 2379, 'destroyed': 2380, \"ma's\": 2381, 'mater': 3194, 'hootie': 2382, 'dryer': 5771, 'quitcher': 2383, 'rods': 5772, 'occasional': 5773, 'sang': 2384, 'try': 6614, 'unhappy': 2387, 'testing': 4349, 'bill_james:': 5774, 'took': 1220, 'limits': 2388, 'hunger': 63, 'winning': 2389, 'weird': 2390, 'haikus': 2391, 'silence': 2392, 'sports_announcer:': 5775, 'question': 942, 'tones': 5776, 'fragile': 6037, 'bounced': 1521, 'brothers': 2393, 'tale': 377, 'strain': 2394, 'not': 2395, 'frogs': 5777, 'boys': 2396, 'young_homer:': 1523, 'landfill': 2397, 'bush': 1524, \"plank's\": 2649, 'owes': 5779, 'scram': 5495, \"don't\": 2398, 'aah': 2399, \"one's\": 5780, 'generally': 5781, 'nice': 5782, 'incarcerated': 5783, 'deacon': 5784, 'wittgenstein': 2400, 'barn': 5785, 'friendship': 1526, 'cream': 2401, 'fund': 2402, 'when': 3175, \"eatin'\": 2403, 'brandy': 2404, 'hats': 5788, 'sight': 2405, 'amazing': 6696, 'chuck': 2406, 'knife': 6077, 'gulps': 2407, 'eyes': 2408, 'recorder': 2409, 'uhhhh': 5840, 'eat': 3766, \"they've\": 2410, 'latin': 5791, 'make:': 2411, 'knees': 4737, 'speed': 5793, 'our': 1529, \"ol'\": 2412, 'shaken': 2413, '/mr': 5794, 'ditched': 2416, 'smoothly': 2415, 'planet': 1810, 'dint': 625, 'woe:': 2418, 'sister-in-law': 2419, 'frustrated': 5890, 'sweaty': 2420, 'reentering': 6409, 'tab': 2421, 'swishkabobs': 5797, 'gardens': 2422, 'war': 5798, 'drawn': 2423, 'wham': 5800, 'lives': 5801, 'oh-ho': 2424, 'move': 2425, 'frosty': 2426, 'pretzel': 2427, 'media': 5488, 'park': 5803, 'dead': 2429, 'weeks': 5804, 'right': 2430, 'fast': 5806, \"brockman's\": 2431, 'replace': 2432, 'bring': 5808, 'most': 5809, 'influence': 5810, \"somebody's\": 5811, 'ad': 2433, 'swooning': 3487, 'payday': 5813, 'shall': 2434, \"car's\": 2435, 'exciting': 2436, 'oh': 5814, 'having': 2505, 'hubub': 5816, 'mug': 5817, 'stan': 5727, 'various': 5818, 'fry': 4921, 'publishers': 2438, 'honored': 2440, 'tree': 5820, 'breath': 2441, 'tongue': 5821, 'snackie': 5822, 'boxcar': 2442, 'elaborate': 2443, 'straight': 2444, 'bitterly': 2445, 'collateral': 3203, 'tastes': 3562, 'fixed': 2985, 'grow': 6603, 'reach': 5491, 'tribute': 5823, 'turkey': 5824, 'notch': 5825, 'wish-meat': 6626, 'church': 2446, 'milk': 2447, 'backgammon': 3696, 'full-blooded': 2448, 'perch': 2450, 'rounds': 952, 'ruled': 5830, 'pointed': 2451, 'pitch': 953, 'electronic': 1537, 'paintings': 2453, 'touch': 5832, 'joke': 2454, 'actor': 5833, 'and-and': 1103, 'gees': 2455, 'regretted': 5835, 'civil': 5836, 'damage': 6629, 'authenticity': 5849, 'screams': 5837, 'buffalo': 5838, 'extinguishers': 1541, 'getaway': 3498, 'all': 2456, 'gator': 5499, 'tiger': 2457, 'tasimeter': 5500, 'oil': 5843, 'ingredient': 2458, 'jar': 5844, 'dance': 2459, 'kegs': 2460, 'senators': 5845, 'worldview': 5846, 'overhearing': 2461, 'accepting': 5848, 'whatsit': 2463, 'feminine': 2464, 'upn': 5850, 'window': 2465, 'professor': 5851, \"it'll\": 2466, 'reaction': 5852, 'single': 5853, 'waking-up': 1545, 'online': 5503, 'na': 6049, 'rings': 5854, 'charter': 5855, 'tank': 4595, 'fly': 1577, 'says': 5857, 'rap': 5859, 'oof': 957, 'county': 5860, 'rolls': 958, '7g': 5861, 'administration': 2467, '50%': 2124, 'moe-ron': 959, 'george': 2468, 'elizabeth': 2469, 'truth': 5864, 'compete': 2470, 'word': 5866, 'supermarket': 2471, \"city's\": 5867, \"'cause\": 2472, 'menlo': 2473, 'prolonged': 2474, 'bloodiest': 2475, 'pas': 4376, 'kidney': 2476, 'bowl': 2477, \"hobo's\": 5869, 'presidential': 5507, 'manfred': 2478, 'hellhole': 5871, \"'ere\": 5872, \"blowin'\": 5873, 'fat-free': 2479, \"what's\": 4934, 'insightful': 2480, 'stirring': 5874, 'confession': 2481, 'louse': 5875, 'justice': 3772, 'president': 5877, 'breaking': 5878, 'gore': 2483, 'faced': 2484, 'huggenkiss': 5880, 'landlord': 5881, 'regretful': 2485, '2nd_voice_on_transmitter:': 5882, 'half-beer': 4940, 'tapered': 5884, 'looked': 2486, 'diablo': 5885, 'queer': 5886, \"mother's\": 2487, 'mel': 5513, 'bumpy-like': 2488, 'showing': 2489, 'legally': 2490, 'fault': 965, 'dictating': 5511, 'spinning': 5888, 'stars': 2491, 'farewell': 2492, 'stagy': 5510, 'chic': 2493, 'witches': 967, 'who-o-oa': 2495, 'repay': 2496, 'sam:': 5891, 'toys': 5892, 'type': 2497, 'prettiest': 2500, 'shifty': 2128, 'cents': 1549, '91': 5896, 'terrible': 6133, 'doubt': 5898, 'affection': 2501, 'organ': 5901, 'thank': 2502, 'sincerely': 5515, 'ambrosia': 2503, 'sigh': 251, 'undies': 5903, 'fellas': 2504, 'yell': 6635, 'ton': 1450, 'cowboy': 2506, 'bartenders': 2507, 'painted': 2508, 'bar_rag:': 2509, 'walther_hotenhoffer:': 5909, 'hmm': 5910, 'andy': 5911, 'covering': 5819, 'braun:': 400, 'prices': 5912, 'asses': 5913, 'rims': 2511, 'bushes': 5914, 'pages': 5915, 'foundation': 2512, 'hate-hugs': 3779, 'feels': 2514, 'met': 5917, 'coincidentally': 2516, 'lotsa': 2517, 'probably': 5918, 'versus': 3221, 'telegraph': 2518, 'whoo': 5521, 'reciting': 2519, 'homeless': 1503, 'stickers': 2521, 'weep': 5921, 'corporation': 5922, 'forward': 5923, 'fair': 5924, 'heaving': 6640, 'little': 5523, 'surgeonnn': 5925, 'britannia': 2522, 'tickets': 5926, 'treats': 5927, 'einstein': 2053, 'brag': 2524, 'insulin': 2525, 'from': 2526, \"ridin'\": 5524, 'maybe': 2527, 'musta': 4303, 'next': 5929, 'temples': 5930, 'director': 6059, 'deadly': 5931, 'eddie:': 2528, 'disgracefully': 2530, \"y'see\": 2532, 'accident': 5525, 'pre-recorded': 5934, 'edgy': 2533, 'sounds': 2534, 'alibi': 2535, 'justify': 2536, 'healthier': 6061, 'protecting': 2537, 'lainie:': 2538, 'premiering': 5936, 'ignorant': 2539, 'tuna': 5938, 'woo': 5939, 'geez': 3783, 'hoo': 5941, 'kinds': 2089, 'raging': 2540, 'crowded': 5943, 'saget': 2541, 'rhyme': 2542, 'writers': 2543, 'these': 1610, 'awfully': 5946, 'drunkenly': 2544, 'dazed': 2545, 'scientific': 3786, 'al_gore:': 5947, \"s'cuse\": 2546, 'table': 2547, 'triangle': 2548, 'mistresses': 5948, 'rapidly': 5949, 'pretends': 2549, 'in-ground': 5532, 'shakes': 3224, 'ring': 3788, 'crisis': 969, 'mouse': 2551, 'ralphie': 5952, 'fustigate': 5953, 'exception:': 2553, 'camp': 2554, 'fainted': 2555, 'throat': 2556, 'salad': 1685, 'steel': 2557, 'moe-clone': 2558, 'tablecloth': 5957, 'way:': 2560, 'winded': 5272, 'hostages': 2561, 'teams': 2801, 'scatter': 2562, 'synthesize': 5960, 'yeah': 3179, 'steampunk': 2563, 'angry': 5961, 'rid': 2564, 'death': 2565, 'shape': 2566, 'gloop': 2567, 'michelin': 2568, 'getup': 2569, 'botanical': 412, 'prints': 4386, 'rats': 2571, 'leno': 5965, 'country': 3790, 'song': 2573, 'hero-phobia': 2681, 'mouth': 1555, 'federal': 5967, 'warning': 2574, 'highway': 6650, 'chipper': 971, 'shoots': 2575, 'cannoli': 2576, 'lied': 2577, 'motto': 5968, 'smallest': 6253, 'changed': 2578, 'renders': 2579, 'press': 6652, 'conditioner': 2580, 'frazier': 4390, \"'im\": 5969, 'laughter': 5970, 'ech': 2581, 'represents': 6069, 'jelly': 5971, 'mac-who': 2582, 'vulgar': 2583, 'bret:': 2584, 'waitress': 2585, 'jubilation': 2586, 'philip': 5975, 'tired': 5976, 'asking': 5977, 'walther': 2685, 'minors': 5979, 'southern': 2587, 'st': 5980, 'absentminded': 2588, 'hero': 975, 'sealed': 5981, 'small_boy:': 2145, 'gimmicks': 2589, 'tears': 2590, 'celebration': 3793, 'bottles': 2592, 'tolerance': 5538, 'appropriate': 5115, 'unavailable': 2593, 'hoagie': 6256, 'dean': 2594, 'laughing': 5983, 'bucket': 2595, 'knowledge': 5984, 'dramatic': 5985, 'moustache': 5987, 'gary:': 3796, 'shrieks': 5988, 'thoughts': 5989, 'choked': 2596, \"c'mom\": 1402, 'alien': 5990, 'jets': 2597, 'brilliant': 5991, 'moonnnnnnnn': 5993, 'susie-q': 5994, 'usually': 2598, 'undated': 2599, 'dignified': 2600, 'handsome': 2601, 'open-casket': 5995, 'therapy': 2603, 'pardon': 2604, 'gotten': 2605, 'dough': 2606, 'snotball': 4957, 'horrible': 4397, '<comma>': 2607, 'tourist': 2149, 'liven': 2608, 'softer': 2609, 'here': 2610, 'locked': 5997, 'else': 5998, 'deeper': 2611, 'involved': 5999, 'bartholomé:': 2612, 'bull': 5543, 'fork': 6001, 'edge': 4283, 'run': 2613, 'united': 6003, 'stab': 2615, 'wiener': 6004, 'snort': 2616, 'old_jewish_man:': 6005, 'disco_stu:': 6601, 'leg': 2618, 'actors': 5738, 'incriminating': 3803, 'canoodling': 6006, \"ma'am\": 2619, 'annoying': 2621, 'wonderful': 2688, 'smile:': 2622, 'choice': 1259, 'rector': 6008, 'reckless': 6009, 'mike_mills:': 6010, 'trash': 2626, 'chug-monkeys': 2624, 'squirrel': 2625, \"neighbor's\": 980, 'top': 6705, 'delivery_man:': 6011, 'negative': 2627, 'grumpy': 1561, 'funniest': 2628, 'manage': 6012, 'broken:': 2215, 'forgotten': 3807, 'szyslak': 2629, 'neither': 6014, 'presumir': 1562, 'coins': 6015, 'afloat': 6658, 'though': 6016, 'toss': 6017, \"it'd\": 2630, '_hooper:': 2631, 'wad': 6018, 'trapped': 6020, 'bars': 2632, \"o'clock\": 5548, 'earpiece': 1363, 'repeating': 6021, 'agreement': 5904, 'waste': 6349, 'displeased': 2633, 'buttocks': 2634, 'laney_fontaine:': 2635, 'cheesecake': 6022, 'brooklyn': 3809, 'krabappel': 6023, 'principal': 1564, \"wife's\": 2636, 'sharps': 2637, 'pennies': 1148, \"ball's\": 3810, 'blob': 6025, 'glove': 6661, 'sen': 2638, 'wa': 2639, 'ooo': 5829, 'politics': 6026, 'spit-backs': 6027, 'utensils': 2640, 'water': 6028, 'hibachi': 6029, 'mahatma': 2641, 'coyly': 6030, 'lenny:': 2642, 'mike': 2643, 'admit': 2644, 'beatings': 6031, 'overflowing': 4404, 'improv': 6033, 'terrifying': 2645, 'closed': 2646, 'ummmmmmmmm': 6390, 'larson': 6034, 'duffman:': 2647, 'scientists': 6376, 'resist': 6035, 'lovely': 6036, 'sweat': 6038, 'kneeling': 2648, 'tonight': 2650, 'delightful': 2651, 'vegas': 2652, 'branding': 2653, 'kirk_voice_milhouse:': 2654, 'plow': 6040, 'mccall': 2655, 'foot': 6663, 'fritz:': 2656, 'luckily': 6041, 'kept': 6042, 'cheated': 6043, 'wrapped': 2160, \"table's\": 2657, 'words': 1568, 'legoland': 5555, 'jacks': 2658, 'worry': 2659, 'civilization': 2163, 'woooooo': 2660, 'souvenir': 2695, 'be': 6044, 'stinger': 1570, 'closes': 5556, 'insults': 6665, 'poetry': 6045, 'premise': 2661, 'stinks': 6046, 'finale': 2662, 'hmf': 2663, 'matter-of-fact': 6047, 'random': 6048, 'exhale': 2664, 'beer:': 6050, \"summer's\": 2665, 'minister': 2666, 'ourselves': 6051, 'notably': 2667, 'occurs': 2668, 'mean': 428, 'tell': 2669, 'poker': 2670, 'nervous': 2671, 'mice': 2672, 'joey': 6052, 'happened': 2673, 'grumbling': 6054, 'politician': 6055, 'saga': 2674, 'valley': 2675, 'bart': 3815, 'domed': 6057, 'si-lent': 6058, 'pleased': 3252, 'snow': 6060, 'daaaaad': 4409, 'slop': 2676, 'moving': 6062, 'johnny': 6063, 'rip': 6064, 'wind': 988, 'listens': 6065, 'best': 6066, 'shark': 3817, 'complete': 2677, 'haircuts': 2678, 'looking': 6067, 'ruint': 2679, 'dessert': 6673, 'ugly': 2680, 'uneasy': 2682, 'refinanced': 2683, 'salvation': 2684, 'home': 6070, 'provide': 2686, \"'morning\": 2687, 'breaks': 6071, 'quit': 6072, 'painting': 2700, 'tenuous': 2167, 'twenty-two': 6073, 'scrutinizing': 6393, \"what'll\": 3819, 'space-time': 6074, 'pernt': 5501, 'clearing': 2689, 'reward': 2690, 'works': 6075, 'starving': 2691, 'agree': 6076, 'hoping': 2692, 'explain': 2693, 'meeting': 4410, 'illustrates': 2694, 'something': 6080, 'penmanship': 6081, 'attend': 6082, 'together': 6083, 'dennis_conroy:': 3255, 'baseball': 6084, 'scarf': 436, 'bank': 6085, 'correct': 2696, 'mop': 2697, 'culkin': 2698, 'kl5-4796': 6086, 'joined': 6087, 'lib': 2699, 'lizard': 4529, 'launch': 6088, 'changing': 2701, 'pian-ee': 5563, 'alec_baldwin:': 6090, \"aren'tcha\": 2702, 'on': 4970, 'saucy': 2703, 'fustigation': 2704, 'lovers': 2705, 'squirrels': 2706, 'u2:': 6092, 'temper': 6093, 'jubilant': 6094, 'driver': 6095, 'legs': 2707, 'reunion': 2708, 'excavating': 1221, 'mcclure': 2709, 'achem': 2710, 'percent': 6098, 'bottom': 6099, 'which': 3258, 'ireland': 6103, 'privacy': 1382, 'guard': 2713, 'slender': 6104, 'wound': 6105, 'carl': 6106, 'jewelry': 6107, 'self': 6108, 'behavior': 2714, 'hears': 2715, 'stamps': 3507, 'direction': 6109, \"dolph's_dad:\": 6110, 'lose': 997, 'paid': 6111, 'grateful': 439, \"dad's\": 1578, 'fledgling': 3339, 'cleaner': 2717, 'when-i-get-a-hold-of-you': 2718, 'reactions': 6115, 'hustle': 6116, 'bidet': 2719, 'oooo': 2720, 'degradation': 6118, 'wang': 2721, 'sense': 6120, 'then': 6121, 'attitude': 2722, 'gayer': 5518, 'based': 5568, 'handwriting': 6123, 'joey_kramer:': 2723, 'gargoyles': 1580, 'theme': 2724, 'bald': 6124, 'vermont': 6125, 'surprised': 2725, 'glorious': 5570, 'ratted': 6126, 'mr': 2726, 'grieving': 6127, 'handshake': 6128, 'slick': 6129, 'noooooooooo': 2727, 'talk-sings': 2728, 'upbeat': 6096, 'build': 2729, 'troy:': 2730, 'pall': 6132, 'mall': 2731, 'break': 6091, 'stengel': 2733, 'stats': 6134, 'surprised/thrilled': 6136, 'car': 6137, 'winner': 6138, 'family': 1583, 'cursed': 6139, 'night': 6140, 'shoo': 1002, 'awe': 6142, 'simp-sonnnn': 1004, 'whispered': 6143, 'para': 6144, 'goods': 2735, 'sadistic_barfly:': 6145, \"kearney's_dad:\": 6147, 'toxins': 1005, 'owner': 4979, 'louisiana': 2736, 'lowers': 2737, 'aw': 6491, 'clearly': 2449, 'lazy': 2739, 'coach:': 2740, 'astonishment': 4449, 'classy': 2741, 'luck': 3828, 'just': 6102, 'completing': 6151, 'nail': 3829, 'kick-ass': 2742, 'her': 2743, 'agent_johnson:': 6153, 'whoa-ho': 2744, 'fill': 2745, \"tramp's\": 6154, 'pad': 6155, 'suburban': 2746, 'watashi': 6157, 'd': 2747, 'trustworthy': 2748, 'seymour': 2749, 'suffering': 2751, 'spitting': 2752, 'project': 2753, 'indignant': 2754, 'julep': 2755, 'logos': 6158, 'strong': 2756, 'pub': 2757, 'tv-station_announcer:': 2758, 'heart': 6160, 'lou:': 1007, 'predictable': 6459, 'beats': 2759, 'cushions': 2760, 'ugliest': 2762, 'hang': 2763, 'baloney': 2764, 'brusque': 6163, 'hugh:': 2765, 'know': 2767, 'sequel': 6164, 'blade': 6165, \"g'ahead\": 2768, 'absentmindedly': 6166, 'dae': 1010, 'extreme': 2769, 'shooting': 2770, 'dive': 6168, 'jackpot-thief': 2771, 'napkins': 449, 'exhaust': 6169, 'play': 5577, 'noble': 2772, 'sloppy': 2773, 'all-all-all': 6171, 'mathis': 269, 'cannot': 1587, 'beating': 2774, 'brave': 2777, 'awed': 6521, \"choosin'\": 2778, 'banks': 6172, 'profiling': 2779, 'fabulous': 3830, 'ees': 2780, 'your': 5579, 'brain': 2781, 'mention': 1012, 'moonshine': 2782, 'grrrreetings': 2783, 'hourly': 6176, 'crushed': 2785, 'indifferent': 2786, 'repressed': 6177, 'sighs': 6178, 'employment': 2788, 'possibly': 6179, 'loboto-moth': 2789, 'splendid': 6180, 'wienerschnitzel': 6181, 'ease': 6182, 'paying': 6183, 'voters': 6184, 'stumble': 2790, \"dimwit's\": 6185, 'shades': 6186, 'bits': 6187, 'pint': 1591, 'credit': 1293, 'bigger': 6188, 'declan': 5203, \"i-i'm\": 6189, 'harv': 3791, 'pond': 5582, 'detail': 2791, 'dna': 2716, 'year': 6191, 'hit': 2792, 'wrestling': 2793, 'monkeyshines': 2794, 'kings': 2795, 'peace': 6192, 'annual': 2796, 'grammy': 6194, 'nine': 2797, \"pullin'\": 6195, 'crippling': 6112, 'decent': 2798, 'stored': 2799, 'pig': 2800, 'dressed': 2182, 'ayyy': 6196, 'rich': 6197, 'cocktail': 2802, 'thinking': 2803, 'imitating': 1594, 'sounded': 6113, 'outstanding': 1662, 'laney': 1596, 'cupid': 5584, 'pants': 6199, 'idealistic': 3267, 'does': 2804, \"narratin'\": 4427, 'shreda': 6201, 'balloon': 2805, 'decency': 2896, 'friend': 6202, 'dice': 2806, 'gus': 6203, 'rumor': 2807, 'formico:': 2808, 'murderously': 4099, 'reconsidering': 6206, 'wide': 1018, 'illegal': 6208, 'geyser': 2809, 'amber': 2810, 'shout': 4429, 'blissful': 2811, \"patrick's\": 2812, 'served': 6209, 'steal': 6210, 'beautiful': 2814, 'fdic': 6211, 'turlet': 6117, 'looting': 6213, \"hawkin'\": 1600, \"they'll\": 6214, 'movies': 6215, 'cute': 6216, 'housing': 2815, 'leathery': 6217, 'binoculars': 460, 'teeth': 2816, '<right_paren>': 2817, 'chapstick': 6218, 'clench': 2818, 'fumigated': 2819, 'waterfront': 6219, 'shows': 3837, 'staying': 1022, 'scooter': 2820, 'scores': 6221, \"s'okay\": 2821, 'floated': 6223, 'longest': 6119, 'anyhow': 2822, 'thing': 1601, 'hated': 2823, 'tasty': 6225, 'gary_chalmers:': 2824, 'please': 2825, 'simplest': 6227, 'uncomfortable': 2826, \"idea's\": 6699, 'favor': 1025, 'picky': 6229, 'far': 2827, 'dynamite': 6230, 'burps': 2829, 'filed': 6231, 'boisterous': 6232, 'abusive': 6233, 'hyper-credits': 5472, 'amazed': 6234, 'costume': 2830, 'anti-intellectualism': 2831, 'beard': 6235, 'dislike': 6236, 'compadre': 2832, 'poking': 6238, 'arabs': 1026, 'ones': 2833, 'cooker': 3840, 'quimbys:': 2834, 'anniversary': 2835, 'makes': 4433, \"heat's\": 6240, 'beached': 2836, 'badge': 488, 'remote': 2837, 'rancid': 6246, 'workers': 2838, 'hops': 1029, 'barflies': 6247, 'freak': 2839, 'harm': 6248, 'worked': 6249, 'license': 2840, 'flush-town': 2841, 'flanders:': 2842, 'cruel': 6250, 'moe-heads': 6251, 'plotz': 6252, 'stuff': 2843, 'kill': 5279, 'ons': 6254, \"wearin'\": 6255, 'scully': 2844, \"b-52's:\": 6257, 'johnny_carson:': 6258, 'nonchalant': 2845, \"year's\": 6530, 'ura': 6375, 'ron': 2847, 'pressure': 1608, 'locklear': 2848, 'bride': 2849, 'cricket': 6261, 'cheat': 2850, 'coughs': 6262, 'attracted': 2851, 'barbed': 6264, 'modest': 2852, 'burning': 4675, 'edna-lover-one-seventy-two': 2854, 'selma': 6267, 'actress': 6268, 'smiles': 2857, 'elite': 2856, 'dumbbell': 2858, 'wars': 5001, 'der': 2859, 'something:': 6270, 'transfer': 2860, 'it:': 2861, 'everywhere': 6272, 'homer_': 2862, 'figured': 6273, 'sports': 6274, 'teenage_homer:': 2863, 'ing': 6275, 'woman:': 1034, 'distributor': 3844, \"wouldn't\": 6276, 'tactful': 2864, 'fad': 6277, 'zoomed': 6278, 'passenger': 2865, 'tear': 2866, 'light': 2867, 'admiring': 2868, \"she's\": 2869, 'parrot': 2870, 'passion': 6283, 'practically': 1039, 'fierce': 6284, 'ralph_wiggum:': 6285, 'nasty': 6286, 'arm-pittish': 2871, 'bedridden': 1509, 'off': 6287, 'grind': 1614, 'buy': 6288, 'poet': 6220, \"homer's_brain:\": 2872, 'h': 2196, 'list': 2873, 'shop': 6290, 'trucks': 6291, 'exit': 5592, \"who's\": 2874, 'moments': 2875, 'bartender': 2877, 'swear': 2199, 'jerking': 6398, 'four': 6292, 'streetcorner': 6293, 'confident': 5945, 'more': 2878, 'wing': 5593, 'guest': 2879, 'anybody': 1041, 'jumps': 2880, 're-al': 2881, 'intoxicated': 2882, 'rash': 5009, 'automobiles': 2883, 'hidden': 6130, 'rocks': 2884, 'goal': 471, 'wants': 6297, 'catholic': 5767, 'conversations': 4443, 'krusty': 3852, 'ruby-studded': 6300, 'winnings': 6301, 'th-th-th-the': 6303, 'career': 6304, 'grope': 6305, 'detective_homer_simpson:': 6306, 'swamp': 2886, 'bow': 6307, 'settled': 6308, 'gin-slingers': 6131, 'kemi:': 6309, 'everybody': 2887, 'sudden': 3854, 'driving': 2888, 'gently': 2889, 'mole': 6311, 'partially': 729, 'loyal': 473, 'chosen': 6312, 'edna_krabappel-flanders:': 6313, 'honest': 6314, 'bold': 6315, 'scratching': 6316, 'tie': 6317, 'reaching': 2890, \"cupid's\": 6319, 'raining': 2891, 'wooden': 6320, 'troy': 2732, 'winks': 2892, 'chipped': 2893, 'hell': 2894, 'somewhere': 2895, 'whoa': 6321, 'stalking': 2897, 'burg': 1520, \"fine-lookin'\": 2898, 'winston': 2899, 'hardy': 6324, 'eye': 2900, 'mcbain': 2901, 'indeedy': 4445, 'nonsense': 2902, 'stop': 6711, 'gentleman:': 2903, 'sacrifice': 6718, 'dimly': 3857, 'effects': 2905, \"other's\": 3259, 'considering:': 6328, 'ripcord': 2906, 'lips': 6329, 'yards': 2907, 'gruesome': 2909, 'sympathetic': 2911, 'tow': 2910, 'whether': 6331, 'keep': 6332, 'freely': 2912, 'cummerbund': 6579, 'belches': 6333, 'booking': 2913, 'betty:': 6334, 'answered': 2914, 'cage': 6335, 'victorious': 5598, \"puttin'\": 2915, 'dregs': 973, 'carl_carlson:': 6339, 'sanitary': 6341, 'honor': 2917, 'dollface': 5015, 'omigod': 2918, 'west': 2919, 'driveability': 6141, 'folks': 4451, 'groin': 2920, 'scout': 2922, 'hare-brained': 2923, 'went': 5517, 'working': 6344, 'how': 2924, 'chase': 3726, 'cauliflower': 5599, 'eddie': 2925, 'level': 6724, 'strips': 2927, 'graves': 2928, 'bumbling': 2734, 'jay': 1868, 'boxers': 2929, 'bubbles': 2930, \"mecca's\": 2931, 'chug': 2932, 'cheered': 6345, 'fanciest': 2933, 'mini-dumpsters': 6346, 'snail': 6347, 'depressed': 2935, 'precious': 2936, 'debonair': 2937, 'listen': 2938, 'superhero': 2939, 'reading:': 1623, 'bachelor': 2941, 'artie_ziff:': 3466, 'chuckling': 2942, 'wolfe': 2943, 'gel': 6352, 'gentle': 2944, 'act': 6146, 'absorbent': 2945, 'sweetheart': 6355, 'youth': 1139, \"larry's\": 2947, 'patient': 5465, 'about': 1050, 'appreciated': 6357, 'flophouse': 6727, 'snatch': 6359, \"today's\": 1052, 'highball': 2948, 'sobs': 6360, 'alive': 2949, 'shortcomings': 2950, 'klown': 2951, 'occurrence': 6149, 'student': 2952, 'foam': 2953, 'additional-seating-capacity': 2954, 'practice': 2955, 'whaaa': 6363, 'speaking': 2956, 'williams': 2738, 'ha': 6365, 'six': 3865, 'monkey': 2957, 'pitcher': 3864, 'swigmore': 4588, 'image': 2958, 'aww': 6367, 'friday': 6368, 'expecting': 2959, 'channel': 2960, 'motor': 6369, 'believe': 2210, 'concentrate': 2961, 'disposal': 480, 'monorails': 6338, 'shores': 6373, 'linda_ronstadt:': 2964, 'thankful': 6374, 'craft': 2965, 'lighten': 2970, 'exquisite': 2967, 'laramie': 482, 'kent': 2969, 'trees': 6377, 'source': 6380, 'only': 2971, 'trenchant': 6381, 'windshield': 6382, 'jam': 6383, 'smiled': 2972, 'darts': 6384, 'sentimonies': 2973, 'title:': 2974, 'helpless': 6386, 'contact': 2975, 'law': 5528, 'me': 6388, 'gunter:': 2976, 'deals': 6389, 'began': 2977, 'straining': 5492, 'dizer': 6391, 'is': 6392, 'greatest': 2978, 'düff': 6394, 'itself': 6150, 'ideal': 2979, \"liftin'\": 6396, 'cobbling': 2980, 'nevada': 6397, 'secrets': 2981, 'plans': 6732, 'lou': 6573, 'musses': 2982, 'say': 2983, 'busted': 2984, 'leaving': 6152, 'gordon': 3298, 'in-in-in': 2986, 'literature': 2988, 'bursts': 6399, 'presto:': 6400, 'named': 2989, 'infor': 5607, 'weekly': 2990, \"tap-pullin'\": 6401, 'done': 4461, 'hunky': 6402, 'finish': 2991, 'tender': 5551, 'eighty-five': 6403, 's-a-u-r-c-e': 6404, 'boxing': 6405, 'longer': 5025, 'might': 2993, 'rule': 6735, 'intriguing': 2994, 'housewife': 2995, 'counterfeit': 6406, 'burglary': 1058, 'coin': 3876, 'barely': 6407, 'stadium': 2996, 'bulldozing': 6353, 'crap': 2997, 'cold': 6410, 'penny': 6156, 'remembering': 2998, 'grienke': 2999, 'splash': 6575, 'college': 3000, 'customers': 3877, \"we've\": 3001, 'buddies': 6412, 'before': 1631, 'supreme': 3002, 'tax': 4463, 'swig': 3003, 'pronounce': 6414, 'sweetie': 6415, 'homer_simpson:': 1061, 'minutes': 5194, 'tar-paper': 5030, 'mona_simpson:': 3005, 'meyerhof': 3006, 'de': 6420, 'into': 4343, \"stallin'\": 3007, \"where's\": 6356, 'coming': 3009, 'treehouse': 5032, 'cheer': 3010, 'pass': 3011, 'greedy': 3012, 'microbrew': 3013, 'teenage_barney:': 3014, 'remain': 3015, 'wiping': 6422, 'lessons': 6423, \"startin'\": 3016, 'meals': 3017, 'castle': 1283, 'compared': 6424, 'upgrade': 6425, 'widow': 3018, 'soup': 6426, '35': 6427, 'son-of-a': 3019, '7-year-old_brockman:': 3020, 'mt': 6428, 'swimming': 6694, 'glee': 6430, 'heavens': 6431, 'first': 6740, 'until': 5221, 'ne': 6432, 'sacrilicious': 3021, 'cheering': 6433, 'thirty-nine': 3022, 'startled': 6434, 'every': 6435, 'huddle': 6437, 'amber_dempsey:': 5036, 'low': 6439, 'crinkly': 3023, 'crummy': 3024, 'expert': 6440, 'rain': 6441, 'comic': 6442, 'supports': 6159, 'ore': 6443, 'weak': 3025, 'frescas': 3026, 'said': 6444, \"d'\": 3027, 'kindly': 6445, 'fruit': 495, 'tense': 6446, 'y-you': 3028, 'horribilis': 6449, 'grampa_simpson:': 2515, 'loan': 3030, 'exits': 2043, 'selma_bouvier:': 3031, 'wh': 6450, 'eaters': 5616, 'hopeful': 6161, 'fat': 3032, 'threatening': 3033, 'solo': 3034, 'bowling': 2761, 'discussing': 6452, 'mudflap': 6453, 'swell': 3035, 'all-american': 5617, 'pronto': 1071, \"moe's\": 6455, 'tanked-up': 6456, 'slim': 3037, 'dude': 6457, 'meet': 3038, 'use': 3039, 'perón': 6458, 'elephants': 2766, 'refiero': 6460, 'bar:': 6266, \"i'm\": 6461, 'attractive': 3040, 'alma': 3041, 'tiny': 3042, 'other_player:': 3043, 'jukebox_record:': 3044, 'à': 3045, 'prettied': 3047, 'kisses': 3048, 'ho': 2529, 'clenched': 3049, 'texas': 6466, 'plaintive': 6467, 'new': 3050, 'sixty-five': 3051, 'third': 5828, 'internet': 6468, 'thumb': 3310, 'billiard': 6470, 'set': 6471, 'complicated': 3052, 'back': 3054, 'faded': 3055, 'dreamily': 3056, 'against': 6472, 'email': 6473, 'funny': 6474, 'are': 6475, 'watching': 6476, 'been': 3057, 'scornful': 4472, \"leavin'\": 3058, \"tellin'\": 3059, 'fox_mulder:': 6477, \"we'd\": 3061, 'chance': 6478, 'shock': 3062, 'you-need-man': 3063, 'forbids': 1645, 'raise': 6479, 'appearance-altering': 3064, 'cheryl': 3065, 'training': 3066, 'bottle': 3785, 'wave': 6480, 'gags': 5619, 'box': 6481, 'step': 6167, 'eva': 3068, 'male_inspector:': 3069, 'harmony': 6482, 'father': 3070, \"mtv's\": 4565, 'whatever': 6483, 'to': 6484, 'hundreds': 3071, 'none': 3072, 'hair': 6487, 'rewound': 2227, 'anarchy': 3073, 'sent': 4955, 'put': 3074, 'knives': 6489, 'wobbly': 6490, 'date': 3075, 'self-made': 6493, 'rub-a-dub': 3076, 'eager': 3892, 'clock': 6494, \"he'd\": 3078, 'homie': 6497, 'flat': 3079, 'chip': 6500, 'warranty': 6501, 'coms': 6502, 'private': 6503, 'risqué': 3080, 'blind': 5944, 'pyramid': 3081, 'begin': 6504, 'nelson_muntz:': 3083, 'stays': 6505, 'store': 3084, 'able': 3085, 'please/': 6507, '_zander:': 1650, 'comedies': 826, 'truck_driver:': 3086, \"comin'\": 6508, 'goes': 6509, 'urban': 3087, 'cash': 3088, 'desperate': 6511, 'eh': 6513, 'jerky': 3090, 'touches': 6515, \"tomorrow's\": 6516, \"breakin'\": 6517, 'terrace': 5623, 'wowww': 6518, 'lay': 6519, 'genuinely': 3091, 'jernt': 1651, 'boat': 3092, 'fit': 3093, \"spyin'\": 6522, 'squad': 3094, 'planted': 505, 'warned': 4073, 'musketeers': 6524, 'cab_driver:': 3095, 'slobs': 631, \"hasn't\": 3096, 'boo': 6525, \"queen's\": 6526, 'savvy': 3097, 'marmaduke': 3098, 'uncle': 3099, 'barbara': 3100, \"tinklin'\": 266, 'lately': 6527, 'rockers': 6528, 'donated': 3101, 'irish': 3102, 'co-sign': 4479, \"how're\": 6532, 'grammar': 3103, \"industry's\": 3104, 'giggle': 2776, 'feminist': 3105, 'puts': 3106, 'billingsley': 4481, \"costume's\": 3107, 'suru': 6749, 'pasta': 3108, 'fraud': 3109, 'bills': 1081, 'surprising': 4599, 'hand': 3110, 'facebook': 3111, 'atlanta': 3112, 'kinda': 1908, 'boozehound': 3113, 'koholic': 933, 'slaves': 3114, 'twenty-five': 1083, 'think': 6540, 'steinbrenner': 5045, 'jebediah': 6541, 'cadillac': 6542, 'delicately': 6543, 'visas': 3115, 'mind-numbing': 3899, \"thinkin'\": 6544, 'municipal': 3117, 'kick': 6545, \"marge's\": 3118, 'gumbo': 3119, 'looooooooooooooooooong': 3120, \"duelin'\": 3121, 'specific': 3123, 'scent': 3124, 'frankie': 3125, 'television': 3126, 'sing': 3128, \"drawin'\": 3129, 'righ': 3130, 'pigs': 3131, 'suicide': 3132, 'part': 3133, 'indecipherable': 3134, 'firmly': 6751, 'cowardly': 6549, 'young_barfly:': 3135, 'shoulders': 3137, 'positive': 6550, 'reynolds': 611, 'contemptuous': 3320, 'kissingher': 3138, 'knowing': 6551, 'stir': 3139, 'will': 6554, 'realizing': 6555, 'dreary': 3140, 'blank': 6556, 'needs': 6557, 'broadway': 3141, 'yep': 5462, 'betrayed': 6559, 'sadly': 3142, 'exited': 3143, 'encores': 1088, 'specialists': 3145, 'hardhat': 6560, 'acquaintance': 3146, 'spelling': 6561, 'offshoot': 3147, 'recent': 6174, 'results': 3148, 'man:': 3149, 'bras': 4486, 'hoped': 6563, \"clancy's\": 3150, 'operation': 6564, 'habit': 3152, 'byrne': 3153, 'earrings': 1659, 'deli': 3154, 'insist': 3155, 'delts': 6566, 'much': 6175, 'poured': 1132, 'krusty_the_clown:': 1660, 'stayed': 3923, \"bartender's\": 3156, 'there': 3157, 'natured': 6567, 'out': 4487, 'insensitive': 3904, 'mm-hmm': 6568, 'non-losers': 3159, 'jerry': 6569, 'breakdown': 6571, 'round': 1661, 'control': 3160, 'germs': 6574, 'denser': 3485, 'killing': 6577, 'wear': 2787, 'bones': 3161, 'would': 512, 'lot': 2281, 'manuel': 6595, 'seemed': 6578, 'symphonies': 3163, 'struggling': 568, 'standards': 6580, 'always': 3164, 'exact': 3165, 'behind': 3166, 'sucking': 3167, 'successful': 3168, 'bowie': 6581, 'easier': 6582, 'chief': 6584, 'heh-heh': 6294, 'dingy': 3170, 'chick': 5217, 'invisible': 3171, 'pinchpenny': 6585, 'blobbo': 3172, 'doing': 6587, 'wade_boggs:': 5638, 'er': 3173, 'arguing': 3174, 'customers-slash-only': 6589, \"jackpot's\": 6590, 'beneath': 6591, 'grunt': 3176, 'blinded': 6592, 'loaded': 3328, 'gutenberg': 1093, 'r': 6593, 'sack': 3178, 'choices:': 796, 'recorded': 6594, 'xanders': 4493, 'cent': 6596, 'novel': 3180, \"tootin'\": 1667, 'closer': 3181, 'snide': 3182, '-ry': 6598, 'hub': 3183, 'coney': 3184, 'owe': 6599, 'wakede': 6600, 'checking': 3185, 'conspiratorial': 3186, 'mmm-hmm': 6602, 'stalin': 3187, \"dog's\": 6492, 'deep': 3188, \"world's\": 5478, 'forgot': 3189, 'handler': 3190, 'stool': 3191, 'sun': 6605, 'milhouses': 3192, 'oblivious': 3193, 'above': 6607, 'call': 6608, 'christian': 6609, 'david': 5479, 'deal': 6610, 'brother-in-law': 6611, 'wordloaf': 3195, \"edna's\": 6613, 'wussy': 3926, 'four-star': 3196, 'thrilled': 3197, 'soap': 6617, 'creepy': 4072, 'creeps': 3198, 'plug': 6618, 'blimp': 6619, 'teach': 6620, 'waylon_smithers:': 3199, 'pillows': 3200, 'lobster-based': 6621, 'guy': 6622, 'incognito': 6623, 'f-l-a-n-r-d-s': 6624, 'dana_scully:': 3201, 'fire_inspector:': 6625, 'low-life': 3202, 'employees': 3204, 'publish': 3205, 'hospital': 6627, 'fellow': 6628, 'ripping': 5642, 'huh': 6454, 'vacuum': 3207, 'explanation': 3208, 'so-called': 5062, 'comedy': 6630, 'dunno': 6631, 'idiot': 3209, 'diaper': 3210, 'diminish': 3211, 'exclusive:': 6632, 'throws': 3212, 'glitz': 3213, 'clothespins:': 1819, \"payin'\": 3214, 'hollowed-out': 3685, 'robot': 6633, 'ivana': 6634, 'devastated': 3215, 'calls': 3216, 'better': 3217, 'renovations': 3218, 'mansions': 3219, 'pure': 6340, 'months': 3220, 'hearts': 6190, 'chunk': 6636, 'greetings': 3909, 'sticking-place': 6637, 'belly': 3222, 'koi': 6638, 'stirrers': 6639, 'rules': 6641, 'sassy': 1673, '<quotation_mark>': 6643, 'comic_book_guy:': 3911, 'american': 6645, 'game': 6646, 'beaumont': 3223, 'irs': 6647, 'buzz': 3225, 'advance': 5646, 'patting': 3226, 'sniffles': 6648, \"stabbin'\": 3227, 'snitch': 6649, \"that'd\": 3228, 'amused': 3229, 'nudge': 1101, 'unexplained': 6651, 'shareholder': 1674, 'festival': 6653, 'flower': 2247, 'poke': 3230, 'support': 3231, 'crime': 3232, 'passports': 3233, 'multiple': 3234, 'inexorable': 1196, 'ballclub': 3236, 'defeated': 1676, 'oblongata': 3237, 'sail': 2248, 'where': 6654, 'feld': 3238, 'escort': 6655, 'reliable': 3239, 'flayvin': 3240, 'shutting': 1199, 'but': 4502, 'stops': 3241, 'indifference': 6656, 'holiday': 6657, \"sippin'\": 6529, 'app': 6659, 'force': 3242, 'intimacy': 4505, 'jerk': 3243, 'excuse': 3244, 'fifth': 3246, 'wallet': 713, 'kahlua': 3338, 'buddy': 3247, 'ho-la': 3248, 'changes': 5069, 'sumatran': 6664, 'pizza': 3249, 'commit': 3250, 'ballot': 3251, \"raggin'\": 5649, \"messin'\": 6668, 'shocked': 6669, \"stayin'\": 996, 'cure': 6670, 'failure': 6671, 'tons': 6672, \"mo'\": 3253, 'community': 3254, 'mimes': 6675, 'mellow': 3256, 'service': 6677, 'page': 3257, 'take': 526, 'lend': 3260, 'honey': 5847, 'wally:': 3916, 'bee': 5552, 'bob': 1318, 'boned': 6679, \"challengin'\": 3261, 'ingrates': 6680, 'numeral': 6681, 'los': 3262, 'texan': 3263, 'fontaine': 6682, 'sure': 6265, 'lucinda': 4064, 'it': 6683, 'orgasmville': 1777, 'besides': 6684, 'decide': 6685, 'avenue': 6686, 'crawl': 6688, 'experience': 3264, 'talked': 6689, 'darkest': 6690, 'options': 6691, 'helpful': 3265, 'wipes': 6692, 'meteor': 2386, 'colonel:': 6693, 'flying': 3266, 'virile': 3269, 'button-pusher': 3268, 'grade': 6198, 'guide': 4159, 'cozies': 6695, 'married': 3969, 'wheeeee': 6697, 'thousand': 3270, \"moe's_thoughts:\": 3271, 'woodchucks': 6698, 'issues': 5655, 'spied': 3272, 'older': 6700, '_timothy_lovejoy:': 6701, 'reporter': 6702, 'character': 3273, 'ripped': 6703, \"yesterday's\": 6704, 'respect': 3274, 'chained': 3275, 'starters': 3276, 'easy-going': 6707, 'lotta': 3277, \"'em\": 6662, 'infestation': 3278, 'edner': 6708, 'stonewall': 6709, 'butterball': 2027, 'cecil': 6710, 'investigating': 3279, 'side:': 6712, 'limited': 3280, 'gag': 6713, 'bachelorette': 3281, 'dutch': 3282, 'cheaped': 3283, 'cakes': 534, 'procedure': 6714, 'tidy': 6715, 'situation': 6716, 'harvey': 3284, 'investment': 3285, 'hunting': 6717, 'pugilist': 3286, 'corporate': 6719, 'british': 3287, 'ivory': 6720, 'lofty': 6101, 'understood': 6721, 'hungry': 6722, 'life-sized': 5992, 'pigtown': 6723, 'skinner': 6725, 'twerpy': 6726, 'need': 1110, 'blood-thirsty': 3288, 'enterprising': 3289, 'presidents': 3290, 'foibles': 3920, 'freeze': 3291, 'andrew': 3292, 'earlier': 3925, 'iranian': 3747, 'application': 6728, 'apply': 4605, 'wolfcastle': 3293, 'normals': 3294, 'spy': 3295, 'wiggle': 3924, 'california': 6729, \"shan't\": 3296, 'again': 6730, \"he'll\": 3297, 'created': 6731, 'badges': 6244, 'boozy': 1111, \"hangin'\": 6733, 'learned': 3299, 'food': 3300, 'treat': 3301, 'damned': 6736, 'lindsay': 6738, 'interesting': 3302, 'adrift': 3303, 'losing': 1865, 'videotaped': 3629, 'mayor_joe_quimby:': 3992, 'skunk': 3304, \"phone's\": 6739, 'chow': 3927, \"others'\": 3305, 'grim': 3347, 'cheery': 3306, 'hairs': 6741, 'am': 3307, 'savagely': 3308, 'computer': 6742, 'hans:': 6743, 'calculate': 6744, 'or': 5177, 'recall': 3309, 'pickles': 3311, 'front': 5085, 'herself': 6745, 'tow-talitarian': 3312, 'curious': 3313, 'worst': 3314, 'smurfs': 265, 'living': 3315, 'p-k': 6746, 'judgments': 6747, 'gestated': 3316, 'hug': 3317, 'twelve-step': 6243, 'morlocks': 3318, 'race': 6205, 'falsetto': 6748, 'perverted': 6773, 'browns': 6204, 'blossoming': 6207, 'unintelligent': 3319, 'space': 6774, 'sits': 6750, 'fears': 3321, 'plywood': 3322, 'release': 3323, 'counter': 542, 'emphasis': 3324, 'slip': 3325, 'winch': 6777, 'hitler': 6752, 'promised': 3326, 'cappuccino': 3327, 'name': 6753, 'unkempt': 3329, 'belong': 6496, 'urge': 3330, 'misconstrue': 6122, 'brightening': 6310, 'portfolium': 3331, 'away': 6754, 'cops': 3332, 'white': 3333, 'website': 6755, 'remorseful': 6756, 'handoff': 6757, 'gut': 3334, 'lugs': 3335, 'grimly': 3336, 'gift:': 6758, 'reporter:': 6759, 'mission': 3337, 'brother': 545, 'african': 3759, 'disturbance': 6760, 'lodge': 2813, 'duty': 5790, 'background': 6761, 'ran': 3340, 'carpet': 3341, 'bide': 6762, 'proposing': 3342, 'runners': 3343, 'expression': 3915, 'finest': 3344, 'sass': 6764, \"father's\": 3345, 'seems': 6765, 'tee': 6766, 'corpses': 6767, 'panties': 6768, 'frog': 3346, 'eightball': 6769, 'nickel': 6770, 'lime': 3348, 'chinese': 5664, 'ya': 6771, 'oddest': 3349, 'reluctant': 3350, 'whatcha': 6212, 'cousin': 6772, 'tempting': 6056, 'lovejoy': 3937, 'lighter': 3351, 'dateline:': 6775, 'pause': 6776, 'safer': 6570, 'miserable': 3352, 'rotch': 3353, 'riding': 3354, 'onion': 5088, 'las': 3355, 'swatch': 3356, 'violations': 6778, 'pudgy': 3357}\n",
      "----\n",
      "{0: 'knock', 1: 'etc', 2: 'fumes', 3: 'latour', 4: 'rope', 5: 'yee-ha', 6: 'bum:', 7: 'icy', 8: 'bullet-proof', 9: 'snake_jailbird:', 10: 'thanksgiving', 11: 'playoff', 12: 'coast', 13: 'swill', 14: '530', 15: 'goblins', 16: 'stewart', 17: 'offa', 18: 'anger', 19: 'comforting', 20: 'wolverines', 21: 'friendly', 22: 'verdict', 23: 'childless', 24: 'grand', 25: 'hits', 26: 'score', 27: 'chin', 28: 'moe-clone:', 29: 'shopping', 30: 'eleven', 31: 'relax', 32: 'renew', 33: 'harv:', 34: 'coherent', 35: 'aisle', 36: 'recap:', 37: 'numbers', 38: 'sieben-gruben', 39: 'haws', 40: \"fendin'\", 41: 'associate', 42: 'tight', 43: \"'topes\", 44: 'anguished', 45: 'cerebral', 46: 'ass', 47: 'heavyset', 48: 'fool', 49: 'tall', 50: 'absolutely', 51: \"linin'\", 52: 'gentles', 53: 'otherwise', 54: 'charity', 55: 'order', 56: 'blowfish', 57: 'fletcherism', 58: 'thirty', 59: 'watt', 60: 'choke', 61: 'aims', 62: 'dirt', 63: 'hunger', 64: 'composer', 65: 'relationship', 66: 'theatrical', 67: 'accusing', 68: 'one-hour', 69: 'digging', 70: 'mint', 71: 'coupon', 72: 'remembered', 73: 'imported-sounding', 74: 'supply', 75: 'rob', 76: 'ivanna', 77: 'eyesore', 78: 'forced', 79: 'stay-puft', 80: 'making', 81: 'breakfast', 82: 'unless', 83: 'ideas', 84: 'located', 85: 'blue', 86: 'tyson/secretariat', 87: 'yawns', 88: 'borrow', 89: 'sexual', 90: 'marge', 91: \"duff's\", 92: 'modestly', 93: 'fold', 94: 'itchy', 95: 'advice', 96: 'regret', 97: 'homesick', 98: 'rafter', 99: 'janette', 100: 'side', 101: 'both', 102: 'safe', 103: 'collette:', 104: 'rump', 105: 'cuz', 106: 'reminded', 107: 'drunkening', 108: 'competitive', 109: 'clinton', 110: 'fluoroscope', 111: 'heh', 112: 'captain', 113: 'lipo', 114: 'present', 115: 'hunka', 116: 'carmichael', 117: \"takin'\", 118: 'admitting', 119: 'protesters', 120: 'paper', 121: 'wuss', 122: 'distract', 123: '10:15', 124: 'thighs', 125: 'compliment', 126: 'walking', 127: 'juice', 128: 'sickens', 129: 'lager', 130: 'micronesian', 131: 'certified', 132: 'contented', 133: 'slightly', 134: \"we'll\", 135: 'estranged', 136: 'decide:', 137: 'inspector', 138: 'may', 139: 'dank', 140: \"you're\", 141: 'opening', 142: 'sidelines', 143: \"d'ya\", 144: 'darkness', 145: 'fire', 146: 'such', 147: 'sees/', 148: 'shtick', 149: 'donor', 150: 'midnight', 151: 'medical', 152: 'accelerating', 153: 'divorced', 154: 'ambrose', 155: 'item', 156: 'germans', 157: 'cronies', 158: \"wasn't\", 159: 'demand', 160: 'pizzicato', 161: 'lucius', 162: 'annus', 163: 'admirer', 164: 'poor', 165: 'family-owned', 166: \"sat's\", 167: 'phony', 168: 'big', 169: 'curds', 170: 'punk', 171: 'argue', 172: 'sweeter', 173: 'throwing', 174: 'conspiracy', 175: 'disappointment', 176: 'skin', 177: 'thunder', 178: 'tied', 179: \"life's\", 180: 'package', 181: 'noggin', 182: 'allegiance', 183: 'heaven', 184: 'ahhhh', 185: 'totally', 186: 'banquo', 187: 'dipping', 188: 'o', 189: 'bathtub', 190: 'stunned', 191: 'marjorie', 192: 'vomit', 193: \"secret's\", 194: 'playful', 195: 'stealings', 196: 'magic', 197: 'hot', 198: 'unusual', 199: 'aiden', 200: 'consulting', 201: \"spaghetti-o's\", 202: 'lease', 203: 'jeff_gordon:', 204: 'sales', 205: 'getcha', 206: 'k', 207: 'price', 208: 'drivers', 209: 'shoulder', 210: 'piece', 211: 'pilsner-pusher', 212: 'thirty-three', 213: 'nick', 214: 'royal', 215: 'ninety-seven', 216: 'protesting', 217: 'sharing', 218: 'badmouths', 219: 'rainbows', 220: 'holding', 221: 'inspired', 222: 'scrutinizes', 223: 'babies', 224: 'iddilies', 225: \"hole'\", 226: 'starting', 227: 'simpsons', 228: 'crab', 229: 'sagely', 230: 'mafia', 231: 'starla:', 232: 'chastity', 233: 'selfish', 234: 'grinch', 235: 'station', 236: 'head-gunk', 237: \"i'll\", 238: 'gruff', 239: 'e-z', 240: 'faulkner', 241: 'rhode', 242: \"sayin'\", 243: 'fake', 244: 'tow-joes', 245: 'skinheads', 246: 'feelings', 247: 'train', 248: \"handwriting's\", 249: 'ken:', 250: 'talking', 251: 'sigh', 252: 'hired', 253: 'ugliness', 254: 'delighted', 255: '_kissingher:', 256: 'op', 257: 'jacques:', 258: 'potato', 259: 'luv', 260: 'except', 261: 'lifetime', 262: 'confidence', 263: 'book_club_member:', 264: 'mix', 265: 'smurfs', 266: \"tinklin'\", 267: 'elves:', 268: 'birth', 269: 'mathis', 270: 'radishes', 271: 'almond', 272: 'followed', 273: 'dreams', 274: 'understand', 275: 'bet', 276: 'sight-unseen', 277: 'consider', 278: 'alternative', 279: 'statues', 280: 'kay', 281: 'middle', 282: 'har', 283: 'reasonable', 284: 'shotgun', 285: 'unbelievably', 286: 'beeps', 287: 'spanish', 288: 'line', 289: 'doreen:', 290: 'candy', 291: 'comment', 292: 'faith', 293: 'glass', 294: 'offensive', 295: \"knockin'\", 296: 'beauty', 297: 'what-for', 298: 'occurred', 299: 'ohhhh', 300: 'second', 301: 'safety', 302: 'thing:', 303: 'bragging', 304: 'kramer', 305: 'ehhhhhhhhh', 306: 'sampler', 307: 'soul', 308: 'idea', 309: 'average', 310: 'poster', 311: 'sign', 312: 'sleep', 313: 'bottomless', 314: 'busy', 315: 'odd', 316: 'judge', 317: 'avalanche', 318: 'homunculus', 319: 'grandé', 320: 'mister', 321: \"they're\", 322: 'chew', 323: \"he's\", 324: 'system', 325: 'anyone', 326: 'barf', 327: 'shrugging', 328: 'bought', 329: 'champ', 330: 'drunks', 331: 'military', 332: 'soul-crushing', 333: 'shaking', 334: 'donut', 335: 'bags', 336: 'dinks', 337: 'wiggle-frowns', 338: 'hold', 339: 'spamming', 340: 'truck', 341: 'poorer', 342: 'engine', 343: 'must', 344: 'kidding', 345: 'choked-up', 346: \"ladies'\", 347: 'oughtta', 348: '8', 349: 'swan', 350: 'cutest', 351: 'sending', 352: 'pocket', 353: 'survive', 354: 'hostile', 355: 'i', 356: 'hangs', 357: 'full-time', 358: 'champignons', 359: 'patron_#2:', 360: 'wally', 361: \"floatin'\", 362: 'smug', 363: 'jaegermeister', 364: 'schmoe', 365: 'problemo', 366: 'ohh', 367: 'drummer', 368: 'sister', 369: 'düffenbraus', 370: 'free', 371: \"'bout\", 372: 'easygoing', 373: 'super-tough', 374: 'tanking', 375: 'yuh-huh', 376: 'salvador', 377: 'tale', 378: 'demo', 379: 'takeaway', 380: 'stuck', 381: 'giant', 382: 'c', 383: 'industry', 384: 'gal', 385: 'fox', 386: 'chauffeur', 387: 'mostrar', 388: 'aghast', 389: 'nose', 390: 'lisa', 391: 'nigerian', 392: 'car:', 393: 'gone', 394: 'tooth', 395: 'terror', 396: 'room', 397: 'congoleum', 398: 'helicopter', 399: 'boxing_announcer:', 400: 'braun:', 401: 'doooown', 402: 'standing', 403: 'using', 404: 'hiding', 405: 'michael', 406: 'crazy', 407: 'daddy', 408: 'reaches', 409: 'majesty', 410: 'shoot', 411: 'rationalizing', 412: 'botanical', 413: 'powerful', 414: 'referee', 415: 'work', 416: 'statesmanlike', 417: 'fresh', 418: 'pool', 419: 'want', 420: 'safely', 421: 'windelle', 422: 'prep', 423: 'womb', 424: 'eyed', 425: 'blooded', 426: 'runaway', 427: 'wildest', 428: 'mean', 429: 'sometime', 430: 'prizefighters', 431: 'quality', 432: 'temp', 433: \"grandmother's\", 434: 'remaining', 435: 'howya', 436: 'scarf', 437: 'ooh', 438: 'ah-ha', 439: 'grateful', 440: \"maggie's\", 441: 'reopen', 442: 'wears', 443: 'deny', 444: 'smoke', 445: 'moron', 446: 'biggest', 447: 'groans', 448: 'witty', 449: 'napkins', 450: 'fingers', 451: 'dancing', 452: 'trick', 453: 'look', 454: 'popular', 455: 'egg', 456: 'cheapskates', 457: 'comes', 458: 'enthusiasm', 459: 'squadron', 460: 'binoculars', 461: 'hosting', 462: 'its', 463: 'moxie', 464: 'ebullient', 465: \"neat's-foot\", 466: 'enjoyed', 467: 'solves', 468: 'boy', 469: 'allowance', 470: 'squishee', 471: 'goal', 472: 'ails', 473: 'loyal', 474: 'yellow-belly', 475: 'wine', 476: \"who'll\", 477: 'philosophical', 478: 'gifts', 479: 'propose', 480: 'disposal', 481: 'maggie', 482: 'laramie', 483: \"elmo's\", 484: 'pretend', 485: 'slight', 486: 'umm', 487: 'vestigial', 488: 'badge', 489: 'prison', 490: 'ten', 491: 'anti-crime', 492: \"i'd\", 493: \"somethin'\", 494: 'arms', 495: 'fruit', 496: 'sternly', 497: \"listenin'\", 498: 'sympathy', 499: 'picture', 500: 'fell', 501: 'wife-swapping', 502: 'drink', 503: 'strap', 504: 'scrape', 505: 'planted', 506: 'cologne', 507: 'dogs', 508: 'smelling', 509: 'glen:', 510: 'return', 511: 'trivia', 512: 'would', 513: \"santa's\", 514: 'nards', 515: \"lisa's\", 516: \"that'll\", 517: 'virtual', 518: '50-60', 519: 'arrived', 520: 'simple', 521: 'wenceslas', 522: 'rugged', 523: 'competing', 524: 'soon', 525: 'madman', 526: 'take', 527: 'barber', 528: 'hurting', 529: 'warren', 530: 'chunky', 531: 'idiots', 532: 'impeach', 533: 'porn', 534: 'cakes', 535: 'glen', 536: 'solid', 537: 'extract', 538: 'wise', 539: 'inside', 540: 'yellow', 541: 'unsafe', 542: 'counter', 543: 'bubbles-in-my-nose-y', 544: 'ungrateful', 545: 'brother', 546: 'sweetest', 547: 'baby', 548: 'around', 549: 'neon', 550: 'filth', 551: 'ga', 552: 'fica', 553: 'maude', 554: 'myself', 555: 'floating', 556: \"hadn't\", 557: 'depressant', 558: 'stares', 559: 'pridesters:', 560: 'drove', 561: 'dime', 562: 'tragedy', 563: 'polenta', 564: \"'pu\", 565: '<exclamation_mark>', 566: 'failed', 567: 'excitement', 568: 'struggling', 569: 'tv_daughter:', 570: 'fantasy', 571: 'crapmore', 572: 'message', 573: 'italian', 574: 'casting', 575: 'voodoo', 576: 'super-genius', 577: 'sesame', 578: 'somehow', 579: 'amount', 580: 'wha', 581: 'patterns', 582: 'donut-shaped', 583: 'louie:', 584: 'delivery', 585: 'advertising', 586: 'drop-off', 587: 'principles', 588: 'ned', 589: 'hate', 590: \"betsy'll\", 591: 'intelligent', 592: 'washed', 593: \"barney's\", 594: 'cosmetics', 595: \"collector's\", 596: 'pink', 597: 'hilton', 598: 'count', 599: 'theater', 600: 'then:', 601: 'playhouse', 602: 'spending', 603: 'consoling', 604: \"can't-believe-how-bald-he-is\", 605: 'pip', 606: 'happier', 607: 'tornado', 608: \"s'pose\", 609: 'mini-beret', 610: 'hank_williams_jr', 611: 'reynolds', 612: 'viva', 613: 'fourth', 614: 'saw', 615: 'cheese', 616: 'boring', 617: 'foodie', 618: 'james', 619: 'rag', 620: 'savings', 621: \"'er\", 622: 'brainheaded', 623: 'shirt', 624: 'cocks', 625: 'dint', 626: 'fresco', 627: 'wipe', 628: 'clipped', 629: 'nickels', 630: 'defensive', 631: 'slobs', 632: 'nagurski', 633: 'plain', 634: 'insured', 635: 'ground', 636: 'i-i', 637: \"foolin'\", 638: 'sadder', 639: 'wake', 640: 'killarney', 641: 'presses', 642: 'too', 643: 'spend', 644: 'artie', 645: 'hmmmm', 646: 'can', 647: 'whole', 648: 'cleaned', 649: 'ball-sized', 650: 'computer_voice_2:', 651: 'voted', 652: 'piling', 653: 'nearly', 654: 'helllp', 655: 'beans', 656: 'belt', 657: 'sponsoring', 658: 'promotion', 659: 'pull', 660: 'sick', 661: 'washouts', 662: 'period', 663: 'richer', 664: '1973', 665: 'orifice', 666: 'lewis', 667: 'saturday', 668: 'th', 669: 'ceremony', 670: '<question_mark>', 671: 'heave-ho', 672: 'miles', 673: 'alone', 674: 'harvard', 675: '3', 676: 'junkyard', 677: 'dejected_barfly:', 678: '/', 679: \"nixon's\", 680: 'suck', 681: 'man', 682: 'john', 683: 'wishes', 684: 'murmur', 685: 'rat-like', 686: 'plants', 687: '250', 688: 'sue', 689: 'raking', 690: 'replaced', 691: 'offer', 692: 'fl', 693: 'nation', 694: 'mid-conversation', 695: 'fudd', 696: \"money's\", 697: 'apu_nahasapeemapetilon:', 698: 'seat', 699: 'yoo', 700: \"burnin'\", 701: 'roz', 702: 'tv', 703: 'hotenhoffer', 704: 'convenient', 705: 'telemarketing', 706: 'outs', 707: 'stern', 708: 'born', 709: 'occupation', 710: \"i'd'a\", 711: 'appear', 712: 'eu', 713: 'wallet', 714: 'saved', 715: 'entire', 716: 'mouths', 717: 'crayola', 718: 'fix', 719: 'edison', 720: 'flush', 721: 'slice', 722: 'elocution', 723: 'patrons:', 724: 'distraught', 725: 'firm', 726: 'mailbox', 727: 'soot', 728: 'dinner', 729: 'partially', 730: 'pepsi', 731: \"starla's\", 732: 'obsessive-compulsive', 733: 'repeated', 734: 'celeste', 735: 'hey', 736: 'hard', 737: 'rummy', 738: 'peter', 739: 'brow', 740: 'pained', 741: 'partly', 742: 'village', 743: 'burt', 744: 'founded', 745: 'twenty-six', 746: 'bubble', 747: 'sobo', 748: 'obama', 749: 'habitrail', 750: 'democracy', 751: 'america', 752: 'drift', 753: 'snap', 754: 'sink', 755: 'morning', 756: 'weary', 757: 'intense', 758: 'limericks', 759: 'adult', 760: 'many', 761: 'exactly', 762: 'yea', 763: 'prejudice', 764: 'expense', 765: 'thorough', 766: 'mither', 767: 'phasing', 768: 'goldarnit', 769: 'bulked', 770: 'radioactive', 771: \"crawlin'\", 772: 'extremely', 773: 'bonfire', 774: 'grampa', 775: 'rock', 776: 'burnside', 777: 'left', 778: 'toms', 779: 'socratic', 780: 'booth', 781: 'suppose', 782: 'poulet', 783: 'hardwood', 784: 'signed', 785: 'phase', 786: 'they', 787: 'dumpster', 788: 'whale', 789: 'sale', 790: 'jay_leno:', 791: 'dizzy', 792: 'phrase', 793: 'splattered', 794: '1-800-555-hugs', 795: 'introduce', 796: 'choices:', 797: 'vanities', 798: 'felony', 799: 'hampstead-on-cecil-cecil', 800: 'blend', 801: 'gumbel', 802: 'vigilante', 803: 'dearest', 804: 'sitcom', 805: \"should've\", 806: 'cola', 807: 'briefly', 808: 'pretty', 809: \"'roids\", 810: 'lurks', 811: 'spirit', 812: 'vin', 813: 'towed', 814: 'coaster', 815: 'beanbag', 816: 'jacksons', 817: 'massive', 818: 'here-here-here', 819: 'pile', 820: 'smoker', 821: \"tatum'll\", 822: 'their', 823: \"poundin'\", 824: 'she-pu', 825: 'new_health_inspector:', 826: 'comedies', 827: 'became', 828: 'maxed', 829: 'rude', 830: 'naegle', 831: 'un-sults', 832: 'academy', 833: 'yak', 834: 'grubby', 835: 'ahead', 836: 'slyly', 837: \"aristotle's\", 838: \"fallin'\", 839: 'swelling', 840: 'stolen', 841: 'schorr', 842: 'gregor', 843: 'pageant', 844: 'prompting', 845: 'fulla', 846: 'ivy-covered', 847: 'carl:', 848: 'deliberate', 849: 'jolly', 850: 'sec_agent_#1:', 851: 'anderson', 852: 'sport', 853: 'guys', 854: 'considers', 855: 'faiths', 856: 'lousy', 857: 'languages', 858: 'purse', 859: 'stepped', 860: 'emotional', 861: 'smithers', 862: 'lungs', 863: 'unforgettable', 864: 'u', 865: 'tropical', 866: 'reader', 867: 'ref', 868: 'schizophrenia', 869: 'outlive', 870: 'alcohol', 871: 'crowd', 872: 'boneheaded', 873: 'zack', 874: 'quickly', 875: \"swishifyin'\", 876: 'spot', 877: \"jimbo's_dad:\", 878: 'grains', 879: 'value', 880: 'ping-pong', 881: 'louder', 882: 'assumed', 883: 'muttering', 884: 'sarcastic', 885: 'derisive', 886: 'malted', 887: 'great', 888: 'simon', 889: 'iran', 890: 'awkwardly', 891: 'brockman', 892: 'cause', 893: 'closet', 894: 'victim', 895: 'angrily', 896: 'manboobs', 897: 'offense', 898: 'welcome', 899: 'certain', 900: 'friends', 901: 'people', 902: 'needed', 903: '<dash>', 904: 'thanking', 905: 'believer', 906: 'happen', 907: 'eighty-seven', 908: 'duel', 909: 'militia', 910: 'outta', 911: 'packets', 912: 'permanent', 913: \"couldn't\", 914: 'gotcha', 915: 'interrupting', 916: \"talkin'\", 917: 'executive', 918: 'ninety-six', 919: 'female_inspector:', 920: 'dashes', 921: 'abolish', 922: 'massachusetts', 923: 'books', 924: 'if', 925: 'cow', 926: 'arm', 927: 'yoink', 928: 'eminence', 929: 'steaming', 930: 'government', 931: 'freshened', 932: 'guess', 933: 'koholic', 934: 'brotherhood', 935: 'alfalfa', 936: 'uh-oh', 937: 'known', 938: 'less', 939: 'willing', 940: 'log', 941: 'ron_howard:', 942: 'question', 943: 'speak', 944: 'morose', 945: 'fat_in_the_hat:', 946: 'sound', 947: 'nigeria', 948: 'mexican', 949: 'm', 950: 'weekend', 951: 'determined', 952: 'rounds', 953: 'pitch', 954: 'neighbor', 955: 'lock', 956: 'his', 957: 'oof', 958: 'rolls', 959: 'moe-ron', 960: 'hangout', 961: \"g'night\", 962: 'perfect', 963: 'sincere', 964: 'princess', 965: 'fault', 966: 'halloween', 967: 'witches', 968: 'unlike', 969: 'crisis', 970: 'friction', 971: 'chipper', 972: 'crunch', 973: 'dregs', 974: 'trusted', 975: 'hero', 976: 'gangrene', 977: 'nervously', 978: 'jump', 979: 'clap', 980: \"neighbor's\", 981: 'revenge', 982: 'infiltrate', 983: 'unattended', 984: 'helps', 985: 'due', 986: \"pressure's\", 987: 'future', 988: 'wind', 989: 'proud', 990: 'liability', 991: 'seamstress', 992: 'metal', 993: 'frankly', 994: 'snapping', 995: 'enveloped', 996: \"stayin'\", 997: 'lose', 998: 'dilemma', 999: 'noose', 1000: 'explaining', 1001: 'screws', 1002: 'shoo', 1003: 'cats', 1004: 'simp-sonnnn', 1005: 'toxins', 1006: 'cock', 1007: 'lou:', 1008: 'clothes', 1009: 'methinks', 1010: 'dae', 1011: 'called', 1012: 'mention', 1013: 'tease', 1014: 'nerve', 1015: 'yourself', 1016: 'funds', 1017: 'barflies:', 1018: 'wide', 1019: 'dramatically', 1020: 'teenage', 1021: 'dr', 1022: 'staying', 1023: 'roz:', 1024: 'dollar', 1025: 'favor', 1026: 'arabs', 1027: 'two-thirds-empty', 1028: 'merchants', 1029: 'hops', 1030: 'were', 1031: 'pockets', 1032: 'sanitation', 1033: 'western', 1034: 'woman:', 1035: \"america's\", 1036: 'trade', 1037: 'richard', 1038: 'letter', 1039: 'practically', 1040: 'badly', 1041: 'anybody', 1042: 'junebug', 1043: 'waltz', 1044: \"wait'll\", 1045: 'grin', 1046: 'agent_miller:', 1047: \"man'd\", 1048: 'sprawl', 1049: 'inherent', 1050: 'about', 1051: 'yes', 1052: \"today's\", 1053: 'wash', 1054: 'cruise', 1055: \"haven't\", 1056: 'directions', 1057: 'forty-two', 1058: 'burglary', 1059: \"must've\", 1060: 'human', 1061: 'homer_simpson:', 1062: 'lifters', 1063: 'miracle', 1064: 'cueball', 1065: 'confidential', 1066: \"buyin'\", 1067: 'warily', 1068: 'fonda', 1069: 'fbi', 1070: 'crooks', 1071: 'pronto', 1072: 'jailbird', 1073: 'skinny', 1074: 'started', 1075: 'oooh', 1076: 'closing', 1077: 'seminar', 1078: 'stinky', 1079: 'con', 1080: 'enabling', 1081: 'bills', 1082: 'unsanitary', 1083: 'twenty-five', 1084: 'stands', 1085: 'syndicate', 1086: 'self-satisfied', 1087: 'team', 1088: 'encores', 1089: 'bronco', 1090: 'j', 1091: 'covers', 1092: 'celebrity', 1093: 'gutenberg', 1094: 'awkward', 1095: 'aristotle:', 1096: 'triple-sec', 1097: 'across', 1098: 'fools', 1099: 'uh-huh', 1100: 'japanese', 1101: 'nudge', 1102: 'dame', 1103: 'and-and', 1104: 'lighting', 1105: 'love-matic', 1106: 'gunter', 1107: 'die', 1108: 'adventure', 1109: 'golden', 1110: 'need', 1111: 'boozy', 1112: 'snotty', 1113: 'tummies', 1114: 'soaked', 1115: 'specified', 1116: 'give', 1117: 'complaint', 1118: 'churchy', 1119: 'broke', 1120: 'knew', 1121: 'charlie:', 1122: 'dyspeptic', 1123: 'same', 1124: 'quotes', 1125: 'charged', 1126: 'fantastic', 1127: \"nothin'\", 1128: 'hooky', 1129: 'urine', 1130: 'certificate', 1131: 'ripper', 1132: 'poured', 1133: 'woman_bystander:', 1134: 'mines', 1135: 'scanning', 1136: 'seats', 1137: 'links', 1138: 'drawer', 1139: 'youth', 1140: \"yieldin'\", 1141: 'annie', 1142: 'jewish', 1143: 'rig', 1144: 'fortress', 1145: 'german', 1146: 'fights', 1147: 'guff', 1148: 'pennies', 1149: 'drinking:', 1150: 'spectacular', 1151: 'dollars', 1152: 'twelve', 1153: 'mirthless', 1154: 'november', 1155: 'refund', 1156: 'playing', 1157: 'professor_jonathan_frink:', 1158: 'verticality', 1159: 'hanh', 1160: 'putting', 1161: \"let's\", 1162: 'sheets', 1163: 'graveyard', 1164: 'soaking', 1165: 'nein', 1166: 'legend', 1167: 'marquee', 1168: 'english', 1169: 'religion', 1170: 'jane', 1171: 'growing', 1172: 'dumbass', 1173: 'compels', 1174: 'spender', 1175: 'bid', 1176: 'melodramatic', 1177: 'understood:', 1178: 'torn', 1179: 'combine', 1180: 'idioms', 1181: 'ehhhhhhhh', 1182: 'typing', 1183: 'weirder', 1184: 'intoxicants', 1185: 'vehicle', 1186: 'senator', 1187: \"how's\", 1188: 'distance', 1189: 'tofu', 1190: 'pussycat', 1191: 'frankenstein', 1192: 'sudoku', 1193: 'slot', 1194: 'indicates', 1195: 'tabooger', 1196: 'inexorable', 1197: 'abercrombie', 1198: 'choking', 1199: 'shutting', 1200: 'engraved', 1201: 'advertise', 1202: \"workin'\", 1203: 'remodel', 1204: 'gear-head', 1205: 'them', 1206: 'network', 1207: \"she'd\", 1208: 'rolling', 1209: 'statue', 1210: 'thinks', 1211: 'card', 1212: 'trunk', 1213: 'change', 1214: 'doug:', 1215: 'test-lady', 1216: 'enthused', 1217: 'pour', 1218: 'rem', 1219: 'occupied', 1220: 'took', 1221: 'excavating', 1222: 'forty-seven', 1223: 'bedbugs', 1224: 'la', 1225: 'mid-seventies', 1226: 'wikipedia', 1227: 'stagey', 1228: 'pregnancy', 1229: 'sorts', 1230: 'lottery', 1231: 'orders', 1232: \"readin'\", 1233: 'muertos', 1234: 'newsweek', 1235: 'brunswick', 1236: 'denver', 1237: \"drexel's\", 1238: 'answering', 1239: 'kicked', 1240: 'pickle', 1241: 'strategy', 1242: 'fondest', 1243: \"doin'\", 1244: 'hydrant', 1245: 'kidnaps', 1246: 'announcer:', 1247: 'irishman', 1248: 'nature', 1249: 'pre-game', 1250: 'double', 1251: 'sponge', 1252: 'ride', 1253: 'single-mindedness', 1254: \"g'on\", 1255: 'parking', 1256: 'catch', 1257: 'animals', 1258: 'dressing', 1259: 'choice', 1260: 'aid', 1261: 'ointment', 1262: 'greatly', 1263: 'repairman', 1264: 'lookalike', 1265: 'accurate', 1266: 'mobile', 1267: 'wage', 1268: 'plenty', 1269: 'thoughtfully', 1270: 'fistiana', 1271: 'karaoke_machine:', 1272: 'civic', 1273: 'volunteer', 1274: \"lady's\", 1275: 'bouquet', 1276: 'aged', 1277: 'wondering', 1278: 'ignorance', 1279: 'birthday', 1280: 'promise', 1281: 'troll', 1282: 'generous', 1283: 'castle', 1284: 'spoon', 1285: 'muslim', 1286: 'slurred', 1287: 'sturdy', 1288: \"where'd\", 1289: \"makin'\", 1290: 'life-extension', 1291: 'man_with_tree_hat:', 1292: 'salt', 1293: 'credit', 1294: 'years', 1295: 'jack_larson:', 1296: 'twenty-nine', 1297: 'tobacky', 1298: 'chug-a-lug', 1299: 'pews', 1300: 'forever', 1301: 'geysir', 1302: 'head', 1303: 'chateau', 1304: 'dentist', 1305: 'grabbing', 1306: 'european', 1307: 'road', 1308: 'moans', 1309: \"what're\", 1310: 'putty', 1311: 'beat', 1312: 'stories', 1313: 'olive', 1314: 'vengeance', 1315: 'roy', 1316: 'points', 1317: 'market', 1318: 'bob', 1319: 'tune', 1320: 'valuable', 1321: 'incredible', 1322: 'lowest', 1323: 'fausto', 1324: 'ratio', 1325: 'presided', 1326: 'fifty', 1327: 'another', 1328: 'pre-columbian', 1329: \"when's\", 1330: 'wayne', 1331: 'flew', 1332: 'diving', 1333: 'anymore', 1334: 'sweet', 1335: 'appendectomy', 1336: 'lady_duff:', 1337: 'walk', 1338: 'bret', 1339: 'blur', 1340: 'plucked', 1341: '70', 1342: 'apu', 1343: 'sisters', 1344: 'age', 1345: 'loneliness', 1346: 'danish', 1347: 'bleeding', 1348: 'celebrities', 1349: 'washer', 1350: 'published', 1351: 'hat', 1352: 'rebuttal', 1353: \"drinkin'\", 1354: 'babe', 1355: 'fever', 1356: 'dropping', 1357: 'apulina', 1358: 'beefs', 1359: 'corn', 1360: 'sinkhole', 1361: 'kind', 1362: \"waitin'\", 1363: 'earpiece', 1364: 'anxious', 1365: 'equal', 1366: 'julienne', 1367: 'abe', 1368: 'embarrassing', 1369: 'windex', 1370: 'spits', 1371: 'thirteen', 1372: 'rascals', 1373: 'uh', 1374: 'giggles', 1375: 'jumping', 1376: 'entrance', 1377: 'laughs', 1378: 'w', 1379: 'therefore', 1380: 'become', 1381: 'rueful', 1382: 'privacy', 1383: 'palmerston', 1384: 'sideshow_mel:', 1385: 'appalled', 1386: 'bye', 1387: 'bartending', 1388: 'brick', 1389: 'microphone', 1390: 'confused', 1391: 'necklace', 1392: 'capitalists', 1393: 'chips', 1394: 'bitter', 1395: 'go', 1396: 'humanity', 1397: 'forty-nine', 1398: \"cheerin'\", 1399: 'ford', 1400: 'highest', 1401: 'innocuous', 1402: \"c'mom\", 1403: 'intruding', 1404: 'even', 1405: 'assent', 1406: 'joking', 1407: 'lame', 1408: 'solved', 1409: 'legs:', 1410: 'eighty-six', 1411: 'cost', 1412: 'belly-aching', 1413: 'sober', 1414: 'wife', 1415: 'barney_gumble:', 1416: 'strongly', 1417: 'center', 1418: 'churchill', 1419: 'holy', 1420: 'wheels', 1421: 'ehhhhhh', 1422: 'following', 1423: 'scare', 1424: 'odor', 1425: 'small', 1426: 'koji', 1427: 'guts', 1428: 'complaining', 1429: 'naively', 1430: 'teriyaki', 1431: 'bookie', 1432: 'designated', 1433: 'gasoline', 1434: 'fatso', 1435: 'trying', 1436: 'mostly', 1437: 'ye', 1438: 'wealthy', 1439: 'forty-five', 1440: 'afternoon', 1441: \"wallet's\", 1442: 'sleigh-horses', 1443: 'arts', 1444: 'charge', 1445: \"somethin's\", 1446: 'post-suicide', 1447: 'means', 1448: 'multi-national', 1449: 'lard', 1450: 'ton', 1451: 'adult_bart:', 1452: 'doreen', 1453: 'optimistic', 1454: 'strategizing', 1455: 'suddenly', 1456: 'beer-dorf', 1457: 'de-scramble', 1458: \"sittin'\", 1459: 'haplessly', 1460: 'tips', 1461: 'wrong', 1462: 'innocent', 1463: 'invented', 1464: 'chili', 1465: 'hanging', 1466: 'thousands', 1467: 'endorsed', 1468: 'who', 1469: 'bible', 1470: 'vincent', 1471: 'gambler', 1472: 'declare', 1473: 'full-bodied', 1474: 'oww', 1475: 'lloyd:', 1476: 'mitts', 1477: 'quarter', 1478: 'brassiest', 1479: 'program', 1480: 'lecture', 1481: 'empty', 1482: 'uninhibited', 1483: 'bully', 1484: 'usual', 1485: 'eight-year-old', 1486: 'nonchalantly', 1487: 'f', 1488: 'feisty', 1489: 'relaxing', 1490: 'without:', 1491: 'fun', 1492: 'scene', 1493: 'harrowing', 1494: 'glum', 1495: 'ridiculous', 1496: 'scum', 1497: 'charm', 1498: 'grants', 1499: 'night-crawlers', 1500: 'entertainer', 1501: 'wagering', 1502: 'famous', 1503: 'homeless', 1504: 'glamour', 1505: 'rusty', 1506: 'marvelous', 1507: 'hope', 1508: \"soundin'\", 1509: 'bedridden', 1510: 'agency', 1511: 'spite', 1512: 'compressions', 1513: 'pal', 1514: 'mate', 1515: 'hours', 1516: 'praise', 1517: 'ancient', 1518: 'tv_wife:', 1519: 'lindsay_naegle:', 1520: 'burg', 1521: 'bounced', 1522: 'bannister', 1523: 'young_homer:', 1524: 'bush', 1525: 'raccoons', 1526: 'friendship', 1527: 'incapable', 1528: 'kirk_van_houten:', 1529: 'our', 1530: 'microwave', 1531: 'schedule', 1532: 'swine', 1533: 'check', 1534: 'preparation', 1535: 'ice', 1536: 'turn', 1537: 'electronic', 1538: 'correcting', 1539: 'chubby', 1540: 'moe_szyslak:', 1541: 'extinguishers', 1542: 'violin', 1543: 'tuborg', 1544: 'narrator:', 1545: 'waking-up', 1546: 'catty', 1547: 'pay', 1548: 'stools', 1549: 'cents', 1550: 'wood', 1551: 'stranger:', 1552: 'powered', 1553: 'wreck', 1554: 'neanderthal', 1555: 'mouth', 1556: 'amiable', 1557: 'men:', 1558: 'lawyer', 1559: 'sued', 1560: 'blokes', 1561: 'grumpy', 1562: 'presumir', 1563: 'depressing', 1564: 'principal', 1565: 'rafters', 1566: 'painless', 1567: 'jobs', 1568: 'words', 1569: 'doppler', 1570: 'stinger', 1571: 'sweden', 1572: 'nah', 1573: 'club', 1574: 'winces', 1575: 'mulder', 1576: \"kid's\", 1577: 'fly', 1578: \"dad's\", 1579: 'speech', 1580: 'gargoyles', 1581: 'bathed', 1582: 'proof', 1583: 'family', 1584: 'keys', 1585: 'telephone', 1586: 'city', 1587: 'cannot', 1588: 'hose', 1589: 'taxi', 1590: 'lap', 1591: 'pint', 1592: 'edelbrock', 1593: 'wasted', 1594: 'imitating', 1595: 'exhibit', 1596: 'laney', 1597: 'wings', 1598: 'aggravated', 1599: 'gay', 1600: \"hawkin'\", 1601: 'thing', 1602: 'pack', 1603: 'tip', 1604: 'expired', 1605: 'restroom', 1606: 'korea', 1607: 'self-centered', 1608: 'pressure', 1609: 'caper', 1610: 'these', 1611: 'index', 1612: 'surprise', 1613: 'taxes', 1614: 'grind', 1615: 'madonna', 1616: 'today/', 1617: 'onassis', 1618: 'error', 1619: 'accidents', 1620: 'strolled', 1621: 'patented', 1622: 'favorite', 1623: 'reading:', 1624: 'champs', 1625: 'goodwill', 1626: 'giving', 1627: 'whee', 1628: 'vote', 1629: 'according', 1630: 'often', 1631: 'before', 1632: 'nooo', 1633: 'youngsters', 1634: 'part-time', 1635: 'flames', 1636: 'shindig', 1637: 'once', 1638: 'astronauts', 1639: 'judge_snyder:', 1640: 'befouled', 1641: 'world-class', 1642: 'acceptance', 1643: 'shove', 1644: 'zinged', 1645: 'forbids', 1646: 'understanding', 1647: 'madison', 1648: 'maya', 1649: 'rupert_murdoch:', 1650: '_zander:', 1651: 'jernt', 1652: 'gheet', 1653: 'yard', 1654: 'macgregor', 1655: 'whistling', 1656: 'punkin', 1657: 'shoulda', 1658: 'eggs', 1659: 'earrings', 1660: 'krusty_the_clown:', 1661: 'round', 1662: 'outstanding', 1663: 'shuts', 1664: 'len-ny', 1665: 'bad-mouth', 1666: 'casual', 1667: \"tootin'\", 1668: 't-shirt', 1669: 'trail', 1670: 'a-lug', 1671: 'chairman', 1672: 'turning', 1673: 'sassy', 1674: 'shareholder', 1675: 'cavern', 1676: 'defeated', 1677: 'miss_lois_pennycandy:', 1678: \"spiffin'\", 1679: 'conditioners', 1680: 'continuing', 1681: 'memory', 1682: 'six-barrel', 1683: 'bumblebee_man:', 1684: 'mill', 1685: 'salad', 1686: 'carve', 1687: 'pus-bucket', 1688: 'flowers', 1689: 'regulations', 1690: 'throw', 1691: 'broken', 1692: 'b-day', 1693: 'creme', 1694: 'kennedy', 1695: 'ineffective', 1696: 'unlocked', 1697: 'well', 1698: 'naked', 1699: 'chest', 1700: 'hot-rod', 1701: 'circus', 1702: 'pine', 1703: 'paris', 1704: 'treasure', 1705: 'died', 1706: 'blamed', 1707: \"enjoyin'\", 1708: 'summer', 1709: 'likes', 1710: 'allow', 1711: 'taps', 1712: 'thru', 1713: 'boxer:', 1714: 'charlie', 1715: 'wistful', 1716: 'routine', 1717: 'moesy', 1718: 'way', 1719: 'manjula', 1720: '4x4', 1721: 'cab', 1722: 'did', 1723: 'obese', 1724: 'kills', 1725: 'tonic', 1726: 'process', 1727: 'pit', 1728: 'court', 1729: 'lady', 1730: 'shaky', 1731: 'flaming', 1732: 'boyhood', 1733: 'diamond', 1734: 'necessary', 1735: 'ma', 1736: 'whiny', 1737: 'benjamin', 1738: 'toasting', 1739: 'measurements', 1740: 'mariah', 1741: 'nigel_bakerbutcher:', 1742: \"c'mon\", 1743: 'whip', 1744: 'togetherness', 1745: 'title', 1746: 'whatchamacallit', 1747: 'yourselves', 1748: \"buffalo's\", 1749: 'anyway', 1750: 'chanting', 1751: \"what'd\", 1752: 'soft', 1753: 'cartoons', 1754: 'betcha', 1755: 'glummy', 1756: 'parents', 1757: 'dull', 1758: \"toot's\", 1759: 'crowned', 1760: 'e', 1761: \"something's\", 1762: 'shoes', 1763: 'blurbs', 1764: 'polls', 1765: 'alright', 1766: 'weather', 1767: 'bit', 1768: 'puffy', 1769: \"department's\", 1770: 'drunk', 1771: 'crowbar', 1772: 'suspiciously', 1773: 'has', 1774: 'overstressed', 1775: 'eighteen', 1776: 'hawking:', 1777: 'orgasmville', 1778: '6', 1779: 'elder', 1780: 'the_rich_texan:', 1781: 'mistakes', 1782: 'oopsie', 1783: 'carlotta:', 1784: 'neat', 1785: 'chuckle', 1786: 'cigarette', 1787: 'instrument', 1788: 'slugger', 1789: 'resigned', 1790: 'eye-gouger', 1791: 'eve', 1792: 'dracula', 1793: 'businessman_#1:', 1794: 'option', 1795: 'bake', 1796: 'judges', 1797: 'blown', 1798: 'ew', 1799: 'man_with_crazy_beard:', 1800: 'buyer', 1801: 'thirsty', 1802: 'cigarettes', 1803: 'prefer', 1804: 'lie', 1805: 'beyond', 1806: 'rivalry', 1807: 'completely', 1808: 'sniper', 1809: 'breathalyzer', 1810: 'planet', 1811: 'woo-hoo', 1812: \"i'm-so-stupid\", 1813: 'kissing', 1814: 'supposed', 1815: 'feast', 1816: 'burns', 1817: 'tap', 1818: 'heartily', 1819: 'clothespins:', 1820: '14', 1821: 'courage', 1822: 'dan', 1823: 'shakespeare', 1824: 'contest', 1825: 'gums', 1826: 'dum-dum', 1827: 'self-esteem', 1828: 'outside', 1829: 'minus', 1830: 'ragtime', 1831: 'pepto-bismol', 1832: \"poisonin'\", 1833: 'voyager', 1834: 'tracks', 1835: 'guinea', 1836: \"number's\", 1837: 'hike', 1838: 'sponsor', 1839: 'puzzled', 1840: \"'cept\", 1841: 'y', 1842: 'crony', 1843: 'selection', 1844: 'rented', 1845: 'resenting', 1846: 'taken', 1847: 'moon-bounce', 1848: 'clown', 1849: 'frontrunner', 1850: 'scary', 1851: 'não', 1852: 'beam', 1853: 'liver', 1854: \"plaster's\", 1855: 'country-fried', 1856: 'gesture', 1857: 'jazz', 1858: 'officer', 1859: 'caveman', 1860: 'subscriptions', 1861: 'barney', 1862: 'considering', 1863: \"games'd\", 1864: 'informant', 1865: 'losing', 1866: 'lists', 1867: 'k-zug', 1868: 'jay', 1869: 'exasperated', 1870: 'yet', 1871: 'ronstadt', 1872: 'tin', 1873: \"coffee'll\", 1874: 'ab', 1875: 'led', 1876: \"tryin'\", 1877: 'friend:', 1878: 'however', 1879: 'flame', 1880: 'satisfied', 1881: 'je', 1882: 'pointing', 1883: 'quimby_#2:', 1884: 'sketching', 1885: 'perverse', 1886: 'ordered', 1887: 'goodbye', 1888: 'finger', 1889: 'squashing', 1890: 'chinese_restaurateur:', 1891: 'cuckoo', 1892: 'sex', 1893: 'built', 1894: 'rumaki', 1895: 'cheaper', 1896: 'familiar', 1897: 'find', 1898: 'make', 1899: 'toy', 1900: 'seven', 1901: 'cocoa', 1902: 'wanted', 1903: \"nothin's\", 1904: 'skills', 1905: 'record', 1906: 'ago', 1907: 'beaumarchais', 1908: 'kinda', 1909: 'distinct', 1910: 'kazoo', 1911: 'ruin', 1912: 'marched', 1913: 'good', 1914: 'sooo', 1915: 'purveyor', 1916: 'mckinley', 1917: 'liser', 1918: 'retired', 1919: 'slipped', 1920: 're:', 1921: 'poin-dexterous', 1922: 'sunny', 1923: 'acquitted', 1924: 'pledge', 1925: 'normal', 1926: 'elmer', 1927: 'running', 1928: 'my', 1929: \"coaster's\", 1930: 'delays', 1931: 'zeal', 1932: 'lenny', 1933: 'satisfaction', 1934: 'alfred', 1935: 'states', 1936: 'bears', 1937: 'getting', 1938: 'alcoholic', 1939: 'innocence', 1940: 'suing', 1941: 'impatient', 1942: 'kang:', 1943: \"brady's\", 1944: \"round's\", 1945: 'sec', 1946: 'attraction', 1947: 'rainier', 1948: 'flips', 1949: 'caught', 1950: 'scruffy_blogger:', 1951: 'grunts', 1952: 'superior', 1953: \"monroe's\", 1954: 'compare', 1955: 'realize', 1956: 'rage', 1957: 'banned', 1958: 'write', 1959: 'yelp', 1960: 'follow', 1961: 'grabs', 1962: 'most:', 1963: 'chorus:', 1964: 'brunch', 1965: 'cliff', 1966: 'raises', 1967: 'l', 1968: 'defiantly', 1969: 'citizens', 1970: 'decadent', 1971: 'tsking', 1972: 'championship', 1973: 'stock', 1974: \"you've\", 1975: 'cup', 1976: 'disguised', 1977: 'conference', 1978: 'michael_stipe:', 1979: 'granted', 1980: 'hands', 1981: 'linda', 1982: \"lefty's\", 1983: 'bowled', 1984: 'during', 1985: 'stained-glass', 1986: 'ocean', 1987: 'flanders', 1988: 'candidate', 1989: 'al', 1990: 'spread', 1991: 'sperm', 1992: 'interested', 1993: 'bagged', 1994: 'thanks', 1995: 'bees', 1996: 'stole', 1997: 'misfire', 1998: \"cleanin'\", 1999: 'manipulation', 2000: 'handing', 2001: 'kansas', 2002: 'buttons', 2003: 'planning', 2004: 'sensitivity', 2005: 'loud', 2006: 'pirate', 2007: 'flashing', 2008: 'forgets', 2009: 'hooray', 2010: 'insulted', 2011: 'state', 2012: 'legal', 2013: 'ninety-nine', 2014: 'blubberino', 2015: 'dating', 2016: 'sat', 2017: 'brains', 2018: 'rubbed', 2019: 'enforced', 2020: 'princesses', 2021: 'shhh', 2022: 'place', 2023: 'traditions', 2024: 'fortensky', 2025: 'doctor', 2026: 'slapped', 2027: 'butterball', 2028: 'disgraceful', 2029: 'sauce', 2030: 'disaster', 2031: 'temple', 2032: 'broad', 2033: 'hyahh', 2034: 'hemorrhage-amundo', 2035: 'land', 2036: 'stage', 2037: 'scared', 2038: 'fbi_agent:', 2039: 'emporium', 2040: 'insecure', 2041: \"'ceptin'\", 2042: 'medieval', 2043: 'exits', 2044: \"scammin'\", 2045: 'knowingly', 2046: 'hideous', 2047: 'open', 2048: 'wire', 2049: 'bunch', 2050: 'tying', 2051: 'montrer', 2052: 'sixty', 2053: 'einstein', 2054: \"doesn't\", 2055: 'depending', 2056: 'greystash', 2057: 'blessing', 2058: 'long', 2059: 'ihop', 2060: 'africanized', 2061: 'consciousness', 2062: 'all-star', 2063: 'mortgage', 2064: 'ninety-eight', 2065: 'punches', 2066: 'floor', 2067: 'fwooof', 2068: 'agents', 2069: 'cutting', 2070: 'trainers', 2071: 'skoal', 2072: 'robbers', 2073: 'confidentially', 2074: 'sing-song', 2075: 'gibson', 2076: 'forgive', 2077: '1979', 2078: 'singers:', 2079: 'keeps', 2080: 'heather', 2081: '2', 2082: 'simultaneous', 2083: 'flash', 2084: 'hole', 2085: \"weren't\", 2086: \"cashin'\", 2087: 'inserted', 2088: 'uglier', 2089: 'kinds', 2090: 'fan', 2091: 'brought', 2092: 'cranberry', 2093: 'sob', 2094: 'beards', 2095: 'shill', 2096: \"could've\", 2097: 'wonder', 2098: 'wheel', 2099: 'england', 2100: 'dirty', 2101: 'victory', 2102: 'hammer', 2103: 'canyonero', 2104: 'warm_female_voice:', 2105: 'authorized', 2106: 'adopted', 2107: 'knuckles', 2108: 'slab', 2109: 'perfume', 2110: \"bo's\", 2111: 'grocery', 2112: 'skirt', 2113: 'jägermeister', 2114: 'voicemail', 2115: 'fevered', 2116: 'blinds', 2117: 'intrigued', 2118: 'gluten', 2119: 'wall', 2120: 'businessman_#2:', 2121: 'crumble', 2122: 'murdoch', 2123: 'spilled', 2124: '50%', 2125: 'cushion', 2126: 'sap', 2127: 'runt', 2128: 'shifty', 2129: 'picnic', 2130: 'wok', 2131: 'plastered', 2132: 'raggie', 2133: 'fighter', 2134: 'audience:', 2135: 'poisoning', 2136: 'heavyweight', 2137: 'little_man:', 2138: 'stretch', 2139: 'traitor', 2140: 'early', 2141: 'express', 2142: 'seem', 2143: 'happens', 2144: 'wasting', 2145: 'small_boy:', 2146: 'three', 2147: 'life-partner', 2148: 'kearney_zzyzwicz:', 2149: 'tourist', 2150: 'anyhoo', 2151: 'cyrano', 2152: 'ginger', 2153: 'steam', 2154: 'orphan', 2155: 'bliss', 2156: 'certainly', 2157: 'injury', 2158: 'already', 2159: 'cat', 2160: 'wrapped', 2161: 'touched', 2162: 'rebuilt', 2163: 'civilization', 2164: 'snout', 2165: 'syrup', 2166: 'sinister', 2167: 'tenuous', 2168: 'finishing', 2169: 'reached', 2170: 'spoken', 2171: \"stinkin'\", 2172: 'couch', 2173: 'larry:', 2174: 'ale', 2175: 'rasputin', 2176: 'wins', 2177: 'christmas', 2178: 'wraps', 2179: \"'kay-zugg'\", 2180: 'onto', 2181: 'diddilies', 2182: 'dressed', 2183: 'hibbert', 2184: 'glyco-load', 2185: \"fun's\", 2186: 'stein-stengel-', 2187: 'loves', 2188: 'lurleen', 2189: 'gorgeous', 2190: 'seymour_skinner:', 2191: 'caused', 2192: 'calvin', 2193: \"someone's\", 2194: 'pep', 2195: 'evasive', 2196: 'h', 2197: 'shriners', 2198: 'dennis_kucinich:', 2199: 'swear', 2200: \"fightin'\", 2201: 'trip', 2202: 'yelling', 2203: 'connection', 2204: \"gettin'\", 2205: 'superpower', 2206: 'approval', 2207: 'broncos', 2208: 'arrange', 2209: 'ruuuule', 2210: 'believe', 2211: 'share', 2212: 'address', 2213: 'gulliver_dark:', 2214: 'clincher', 2215: 'broken:', 2216: 'figures', 2217: 'holidays', 2218: 'rather', 2219: 'bums', 2220: 'crank', 2221: 'duffed', 2222: 'doll-baby', 2223: 'high', 2224: 'airport', 2225: 'inquiries', 2226: 'mary', 2227: 'rewound', 2228: 'tree_hoper:', 2229: 'smokes', 2230: 'arse', 2231: 'forty', 2232: 'pays', 2233: 'event', 2234: 'dee-fense', 2235: 'bathing', 2236: 'flatly', 2237: 'dang', 2238: 'padres', 2239: 'nash', 2240: 'neighboreeno', 2241: 'zero', 2242: 'voice', 2243: 'wrestle', 2244: 'bourbon', 2245: 'opportunity', 2246: 'social', 2247: 'flower', 2248: 'sail', 2249: 'fence', 2250: 'brain-switching', 2251: 'steamed', 2252: 'roll', 2253: 'racially-diverse', 2254: 'blaze', 2255: 'ram', 2256: 'x-men', 2257: 'marry', 2258: 'firing', 2259: 'jail', 2260: 'sat-is-fac-tion', 2261: 'rabbits', 2262: 'crossed', 2263: 'jamaican', 2264: 'belch', 2265: \"battin'\", 2266: 'restaurant', 2267: 'carey', 2268: 'asleep', 2269: 'thought_bubble_lenny:', 2270: 'accent', 2271: 'machine', 2272: 'droning', 2273: 'neck', 2274: 'million', 2275: 'easily', 2276: 'backwards', 2277: 'screw', 2278: 'done:', 2279: 'extra', 2280: 'special', 2281: 'lot', 2282: 'boyfriend', 2283: 'reviews', 2284: 'seductive', 2285: 'mayor', 2286: 'fixes', 2287: 'recommend', 2288: 'wondered', 2289: 'prayers', 2290: 'sideshow', 2291: 'prepared', 2292: 'blood', 2293: 'drug', 2294: 'theory', 2295: 'men', 2296: 'whirlybird', 2297: \"valentine's\", 2298: 'sunglasses', 2299: 'attractive_woman_#1:', 2300: 'cruiser', 2301: 'meaningless', 2302: 'milks', 2303: 'studio', 2304: 'philosophic', 2305: 'detecting', 2306: 'notorious', 2307: 'gum', 2308: 'beings', 2309: 'mixed', 2310: \"bringin'\", 2311: 'win', 2312: 'fireworks', 2313: 'ducked', 2314: 'lemonade', 2315: 'male_singers:', 2316: 'pretzels', 2317: 'backing', 2318: 'start', 2319: 'beer', 2320: 'beverage', 2321: 'shoe', 2322: 'local', 2323: 'brawled', 2324: 'unlucky', 2325: \"'your\", 2326: 'enemies', 2327: 'wacky', 2328: 'boston', 2329: 'clientele', 2330: 'star', 2331: 'ha-ha', 2332: 'calendars', 2333: 'roach', 2334: 'stick', 2335: 'forget-me-drinks', 2336: 'buried', 2337: 'rough', 2338: 'nahasapeemapetilon', 2339: 'cozy', 2340: 'temporarily', 2341: 'appealing', 2342: 'naval', 2343: 'key', 2344: 'cocking', 2345: 'applesauce', 2346: 'us', 2347: 'up-bup-bup', 2348: 'divine', 2349: 'unearth', 2350: 'faces', 2351: 'lanes', 2352: 'mind', 2353: 'choice:', 2354: 'crow', 2355: 'fountain', 2356: 'forecast', 2357: \"livin'\", 2358: 'increasingly', 2359: 'tries', 2360: 'given', 2361: 'universe', 2362: \"kids'\", 2363: 'nominated', 2364: 'intakes', 2365: 'hiya', 2366: 'dark', 2367: 'anything', 2368: 'scum-sucking', 2369: 'adequate', 2370: 'sad', 2371: 'passes', 2372: 'sometimes', 2373: 'scrubbing', 2374: \"tv'll\", 2375: 'heart-broken', 2376: 'cameras', 2377: 'chumbawamba', 2378: 'guessing', 2379: 'no', 2380: 'destroyed', 2381: \"ma's\", 2382: 'hootie', 2383: 'quitcher', 2384: 'sang', 2385: 'nerd', 2386: 'meteor', 2387: 'unhappy', 2388: 'limits', 2389: 'winning', 2390: 'weird', 2391: 'haikus', 2392: 'silence', 2393: 'brothers', 2394: 'strain', 2395: 'not', 2396: 'boys', 2397: 'landfill', 2398: \"don't\", 2399: 'aah', 2400: 'wittgenstein', 2401: 'cream', 2402: 'fund', 2403: \"eatin'\", 2404: 'brandy', 2405: 'sight', 2406: 'chuck', 2407: 'gulps', 2408: 'eyes', 2409: 'recorder', 2410: \"they've\", 2411: 'make:', 2412: \"ol'\", 2413: 'shaken', 2414: 'bash', 2415: 'smoothly', 2416: 'ditched', 2417: 'twins', 2418: 'woe:', 2419: 'sister-in-law', 2420: 'sweaty', 2421: 'tab', 2422: 'gardens', 2423: 'drawn', 2424: 'oh-ho', 2425: 'move', 2426: 'frosty', 2427: 'pretzel', 2428: 'falcons', 2429: 'dead', 2430: 'right', 2431: \"brockman's\", 2432: 'replace', 2433: 'ad', 2434: 'shall', 2435: \"car's\", 2436: 'exciting', 2437: 'shares', 2438: 'publishers', 2439: 'paint', 2440: 'honored', 2441: 'breath', 2442: 'boxcar', 2443: 'elaborate', 2444: 'straight', 2445: 'bitterly', 2446: 'church', 2447: 'milk', 2448: 'full-blooded', 2449: 'clearly', 2450: 'perch', 2451: 'pointed', 2452: 'brief', 2453: 'paintings', 2454: 'joke', 2455: 'gees', 2456: 'all', 2457: 'tiger', 2458: 'ingredient', 2459: 'dance', 2460: 'kegs', 2461: 'overhearing', 2462: 'lying', 2463: 'whatsit', 2464: 'feminine', 2465: 'window', 2466: \"it'll\", 2467: 'administration', 2468: 'george', 2469: 'elizabeth', 2470: 'compete', 2471: 'supermarket', 2472: \"'cause\", 2473: 'menlo', 2474: 'prolonged', 2475: 'bloodiest', 2476: 'kidney', 2477: 'bowl', 2478: 'manfred', 2479: 'fat-free', 2480: 'insightful', 2481: 'confession', 2482: 'stooges', 2483: 'gore', 2484: 'faced', 2485: 'regretful', 2486: 'looked', 2487: \"mother's\", 2488: 'bumpy-like', 2489: 'showing', 2490: 'legally', 2491: 'stars', 2492: 'farewell', 2493: 'chic', 2494: 'whatchacallit', 2495: 'who-o-oa', 2496: 'repay', 2497: 'type', 2498: 'shot', 2499: 'billion', 2500: 'prettiest', 2501: 'affection', 2502: 'thank', 2503: 'ambrosia', 2504: 'fellas', 2505: 'having', 2506: 'cowboy', 2507: 'bartenders', 2508: 'painted', 2509: 'bar_rag:', 2510: 'literary', 2511: 'rims', 2512: 'foundation', 2513: 'model', 2514: 'feels', 2515: 'grampa_simpson:', 2516: 'coincidentally', 2517: 'lotsa', 2518: 'telegraph', 2519: 'reciting', 2520: 'effigy', 2521: 'stickers', 2522: 'britannia', 2523: 'papa', 2524: 'brag', 2525: 'insulin', 2526: 'from', 2527: 'maybe', 2528: 'eddie:', 2529: 'ho', 2530: 'disgracefully', 2531: \"people's\", 2532: \"y'see\", 2533: 'edgy', 2534: 'sounds', 2535: 'alibi', 2536: 'justify', 2537: 'protecting', 2538: 'lainie:', 2539: 'ignorant', 2540: 'raging', 2541: 'saget', 2542: 'rhyme', 2543: 'writers', 2544: 'drunkenly', 2545: 'dazed', 2546: \"s'cuse\", 2547: 'table', 2548: 'triangle', 2549: 'pretends', 2550: 'indigenous', 2551: 'mouse', 2552: 'moment', 2553: 'exception:', 2554: 'camp', 2555: 'fainted', 2556: 'throat', 2557: 'steel', 2558: 'moe-clone', 2559: 'reptile', 2560: 'way:', 2561: 'hostages', 2562: 'scatter', 2563: 'steampunk', 2564: 'rid', 2565: 'death', 2566: 'shape', 2567: 'gloop', 2568: 'michelin', 2569: 'getup', 2570: 'ollie', 2571: 'rats', 2572: 'cattle', 2573: 'song', 2574: 'warning', 2575: 'shoots', 2576: 'cannoli', 2577: 'lied', 2578: 'changed', 2579: 'renders', 2580: 'conditioner', 2581: 'ech', 2582: 'mac-who', 2583: 'vulgar', 2584: 'bret:', 2585: 'waitress', 2586: 'jubilation', 2587: 'southern', 2588: 'absentminded', 2589: 'gimmicks', 2590: 'tears', 2591: 'glad', 2592: 'bottles', 2593: 'unavailable', 2594: 'dean', 2595: 'bucket', 2596: 'choked', 2597: 'jets', 2598: 'usually', 2599: 'undated', 2600: 'dignified', 2601: 'handsome', 2602: 'tinkle', 2603: 'therapy', 2604: 'pardon', 2605: 'gotten', 2606: 'dough', 2607: '<comma>', 2608: 'liven', 2609: 'softer', 2610: 'here', 2611: 'deeper', 2612: 'bartholomé:', 2613: 'run', 2614: 'pawed', 2615: 'stab', 2616: 'snort', 2617: 'lennyy', 2618: 'leg', 2619: \"ma'am\", 2620: 'clammy', 2621: 'annoying', 2622: 'smile:', 2623: 'alcoholism', 2624: 'chug-monkeys', 2625: 'squirrel', 2626: 'trash', 2627: 'negative', 2628: 'funniest', 2629: 'szyslak', 2630: \"it'd\", 2631: '_hooper:', 2632: 'bars', 2633: 'displeased', 2634: 'buttocks', 2635: 'laney_fontaine:', 2636: \"wife's\", 2637: 'sharps', 2638: 'sen', 2639: 'wa', 2640: 'utensils', 2641: 'mahatma', 2642: 'lenny:', 2643: 'mike', 2644: 'admit', 2645: 'terrifying', 2646: 'closed', 2647: 'duffman:', 2648: 'kneeling', 2649: \"plank's\", 2650: 'tonight', 2651: 'delightful', 2652: 'vegas', 2653: 'branding', 2654: 'kirk_voice_milhouse:', 2655: 'mccall', 2656: 'fritz:', 2657: \"table's\", 2658: 'jacks', 2659: 'worry', 2660: 'woooooo', 2661: 'premise', 2662: 'finale', 2663: 'hmf', 2664: 'exhale', 2665: \"summer's\", 2666: 'minister', 2667: 'notably', 2668: 'occurs', 2669: 'tell', 2670: 'poker', 2671: 'nervous', 2672: 'mice', 2673: 'happened', 2674: 'saga', 2675: 'valley', 2676: 'slop', 2677: 'complete', 2678: 'haircuts', 2679: 'ruint', 2680: 'ugly', 2681: 'hero-phobia', 2682: 'uneasy', 2683: 'refinanced', 2684: 'salvation', 2685: 'walther', 2686: 'provide', 2687: \"'morning\", 2688: 'wonderful', 2689: 'clearing', 2690: 'reward', 2691: 'starving', 2692: 'hoping', 2693: 'explain', 2694: 'illustrates', 2695: 'souvenir', 2696: 'correct', 2697: 'mop', 2698: 'culkin', 2699: 'lib', 2700: 'painting', 2701: 'changing', 2702: \"aren'tcha\", 2703: 'saucy', 2704: 'fustigation', 2705: 'lovers', 2706: 'squirrels', 2707: 'legs', 2708: 'reunion', 2709: 'mcclure', 2710: 'achem', 2711: 'updated', 2712: 'dumbest', 2713: 'guard', 2714: 'behavior', 2715: 'hears', 2716: 'dna', 2717: 'cleaner', 2718: 'when-i-get-a-hold-of-you', 2719: 'bidet', 2720: 'oooo', 2721: 'wang', 2722: 'attitude', 2723: 'joey_kramer:', 2724: 'theme', 2725: 'surprised', 2726: 'mr', 2727: 'noooooooooo', 2728: 'talk-sings', 2729: 'build', 2730: 'troy:', 2731: 'mall', 2732: 'troy', 2733: 'stengel', 2734: 'bumbling', 2735: 'goods', 2736: 'louisiana', 2737: 'lowers', 2738: 'williams', 2739: 'lazy', 2740: 'coach:', 2741: 'classy', 2742: 'kick-ass', 2743: 'her', 2744: 'whoa-ho', 2745: 'fill', 2746: 'suburban', 2747: 'd', 2748: 'trustworthy', 2749: 'seymour', 2750: 'bugging', 2751: 'suffering', 2752: 'spitting', 2753: 'project', 2754: 'indignant', 2755: 'julep', 2756: 'strong', 2757: 'pub', 2758: 'tv-station_announcer:', 2759: 'beats', 2760: 'cushions', 2761: 'bowling', 2762: 'ugliest', 2763: 'hang', 2764: 'baloney', 2765: 'hugh:', 2766: 'elephants', 2767: 'know', 2768: \"g'ahead\", 2769: 'extreme', 2770: 'shooting', 2771: 'jackpot-thief', 2772: 'noble', 2773: 'sloppy', 2774: 'beating', 2775: 'disgrace', 2776: 'giggle', 2777: 'brave', 2778: \"choosin'\", 2779: 'profiling', 2780: 'ees', 2781: 'brain', 2782: 'moonshine', 2783: 'grrrreetings', 2784: 'startup', 2785: 'crushed', 2786: 'indifferent', 2787: 'wear', 2788: 'employment', 2789: 'loboto-moth', 2790: 'stumble', 2791: 'detail', 2792: 'hit', 2793: 'wrestling', 2794: 'monkeyshines', 2795: 'kings', 2796: 'annual', 2797: 'nine', 2798: 'decent', 2799: 'stored', 2800: 'pig', 2801: 'teams', 2802: 'cocktail', 2803: 'thinking', 2804: 'does', 2805: 'balloon', 2806: 'dice', 2807: 'rumor', 2808: 'formico:', 2809: 'geyser', 2810: 'amber', 2811: 'blissful', 2812: \"patrick's\", 2813: 'lodge', 2814: 'beautiful', 2815: 'housing', 2816: 'teeth', 2817: '<right_paren>', 2818: 'clench', 2819: 'fumigated', 2820: 'scooter', 2821: \"s'okay\", 2822: 'anyhow', 2823: 'hated', 2824: 'gary_chalmers:', 2825: 'please', 2826: 'uncomfortable', 2827: 'far', 2828: 'polish', 2829: 'burps', 2830: 'costume', 2831: 'anti-intellectualism', 2832: 'compadre', 2833: 'ones', 2834: 'quimbys:', 2835: 'anniversary', 2836: 'beached', 2837: 'remote', 2838: 'workers', 2839: 'freak', 2840: 'license', 2841: 'flush-town', 2842: 'flanders:', 2843: 'stuff', 2844: 'scully', 2845: 'nonchalant', 2846: 'perking', 2847: 'ron', 2848: 'locklear', 2849: 'bride', 2850: 'cheat', 2851: 'attracted', 2852: 'modest', 2853: 'ape-like', 2854: 'edna-lover-one-seventy-two', 2855: 'fury', 2856: 'elite', 2857: 'smiles', 2858: 'dumbbell', 2859: 'der', 2860: 'transfer', 2861: 'it:', 2862: 'homer_', 2863: 'teenage_homer:', 2864: 'tactful', 2865: 'passenger', 2866: 'tear', 2867: 'light', 2868: 'admiring', 2869: \"she's\", 2870: 'parrot', 2871: 'arm-pittish', 2872: \"homer's_brain:\", 2873: 'list', 2874: \"who's\", 2875: 'moments', 2876: 'schnapps', 2877: 'bartender', 2878: 'more', 2879: 'guest', 2880: 'jumps', 2881: 're-al', 2882: 'intoxicated', 2883: 'automobiles', 2884: 'rocks', 2885: 'inclination', 2886: 'swamp', 2887: 'everybody', 2888: 'driving', 2889: 'gently', 2890: 'reaching', 2891: 'raining', 2892: 'winks', 2893: 'chipped', 2894: 'hell', 2895: 'somewhere', 2896: 'decency', 2897: 'stalking', 2898: \"fine-lookin'\", 2899: 'winston', 2900: 'eye', 2901: 'mcbain', 2902: 'nonsense', 2903: 'gentleman:', 2904: 'shrugs', 2905: 'effects', 2906: 'ripcord', 2907: 'yards', 2908: 'infatuation', 2909: 'gruesome', 2910: 'tow', 2911: 'sympathetic', 2912: 'freely', 2913: 'booking', 2914: 'answered', 2915: \"puttin'\", 2916: 'aerospace', 2917: 'honor', 2918: 'omigod', 2919: 'west', 2920: 'groin', 2921: 'fringe', 2922: 'scout', 2923: 'hare-brained', 2924: 'how', 2925: 'eddie', 2926: 'roses', 2927: 'strips', 2928: 'graves', 2929: 'boxers', 2930: 'bubbles', 2931: \"mecca's\", 2932: 'chug', 2933: 'fanciest', 2934: 'seeing', 2935: 'depressed', 2936: 'precious', 2937: 'debonair', 2938: 'listen', 2939: 'superhero', 2940: 'fireball', 2941: 'bachelor', 2942: 'chuckling', 2943: 'wolfe', 2944: 'gentle', 2945: 'absorbent', 2946: 'kim_basinger:', 2947: \"larry's\", 2948: 'highball', 2949: 'alive', 2950: 'shortcomings', 2951: 'klown', 2952: 'student', 2953: 'foam', 2954: 'additional-seating-capacity', 2955: 'practice', 2956: 'speaking', 2957: 'monkey', 2958: 'image', 2959: 'expecting', 2960: 'channel', 2961: 'concentrate', 2962: 'sub-monkeys', 2963: 'wiggum', 2964: 'linda_ronstadt:', 2965: 'craft', 2966: \"changin'\", 2967: 'exquisite', 2968: 'reason', 2969: 'kent', 2970: 'lighten', 2971: 'only', 2972: 'smiled', 2973: 'sentimonies', 2974: 'title:', 2975: 'contact', 2976: 'gunter:', 2977: 'began', 2978: 'greatest', 2979: 'ideal', 2980: 'cobbling', 2981: 'secrets', 2982: 'musses', 2983: 'say', 2984: 'busted', 2985: 'fixed', 2986: 'in-in-in', 2987: 'duh', 2988: 'literature', 2989: 'named', 2990: 'weekly', 2991: 'finish', 2992: 'wisconsin', 2993: 'might', 2994: 'intriguing', 2995: 'housewife', 2996: 'stadium', 2997: 'crap', 2998: 'remembering', 2999: 'grienke', 3000: 'college', 3001: \"we've\", 3002: 'supreme', 3003: 'swig', 3004: 'applicant', 3005: 'mona_simpson:', 3006: 'meyerhof', 3007: \"stallin'\", 3008: \"o'problem\", 3009: 'coming', 3010: 'cheer', 3011: 'pass', 3012: 'greedy', 3013: 'microbrew', 3014: 'teenage_barney:', 3015: 'remain', 3016: \"startin'\", 3017: 'meals', 3018: 'widow', 3019: 'son-of-a', 3020: '7-year-old_brockman:', 3021: 'sacrilicious', 3022: 'thirty-nine', 3023: 'crinkly', 3024: 'crummy', 3025: 'weak', 3026: 'frescas', 3027: \"d'\", 3028: 'y-you', 3029: 'instantly', 3030: 'loan', 3031: 'selma_bouvier:', 3032: 'fat', 3033: 'threatening', 3034: 'solo', 3035: 'swell', 3036: 'awareness', 3037: 'slim', 3038: 'meet', 3039: 'use', 3040: 'attractive', 3041: 'alma', 3042: 'tiny', 3043: 'other_player:', 3044: 'jukebox_record:', 3045: 'à', 3046: 'perplexed', 3047: 'prettied', 3048: 'kisses', 3049: 'clenched', 3050: 'new', 3051: 'sixty-five', 3052: 'complicated', 3053: 'hockey-fight', 3054: 'back', 3055: 'faded', 3056: 'dreamily', 3057: 'been', 3058: \"leavin'\", 3059: \"tellin'\", 3060: 'pipes', 3061: \"we'd\", 3062: 'shock', 3063: 'you-need-man', 3064: 'appearance-altering', 3065: 'cheryl', 3066: 'training', 3067: 'groveling', 3068: 'eva', 3069: 'male_inspector:', 3070: 'father', 3071: 'hundreds', 3072: 'none', 3073: 'anarchy', 3074: 'put', 3075: 'date', 3076: 'rub-a-dub', 3077: 'subject', 3078: \"he'd\", 3079: 'flat', 3080: 'risqué', 3081: 'pyramid', 3082: 'white_rabbit:', 3083: 'nelson_muntz:', 3084: 'store', 3085: 'able', 3086: 'truck_driver:', 3087: 'urban', 3088: 'cash', 3089: 'root', 3090: 'jerky', 3091: 'genuinely', 3092: 'boat', 3093: 'fit', 3094: 'squad', 3095: 'cab_driver:', 3096: \"hasn't\", 3097: 'savvy', 3098: 'marmaduke', 3099: 'uncle', 3100: 'barbara', 3101: 'donated', 3102: 'irish', 3103: 'grammar', 3104: \"industry's\", 3105: 'feminist', 3106: 'puts', 3107: \"costume's\", 3108: 'pasta', 3109: 'fraud', 3110: 'hand', 3111: 'facebook', 3112: 'atlanta', 3113: 'boozehound', 3114: 'slaves', 3115: 'visas', 3116: 'rat', 3117: 'municipal', 3118: \"marge's\", 3119: 'gumbo', 3120: 'looooooooooooooooooong', 3121: \"duelin'\", 3122: 'occupancy', 3123: 'specific', 3124: 'scent', 3125: 'frankie', 3126: 'television', 3127: \"rentin'\", 3128: 'sing', 3129: \"drawin'\", 3130: 'righ', 3131: 'pigs', 3132: 'suicide', 3133: 'part', 3134: 'indecipherable', 3135: 'young_barfly:', 3136: 'photos', 3137: 'shoulders', 3138: 'kissingher', 3139: 'stir', 3140: 'dreary', 3141: 'broadway', 3142: 'sadly', 3143: 'exited', 3144: 'nightmare', 3145: 'specialists', 3146: 'acquaintance', 3147: 'offshoot', 3148: 'results', 3149: 'man:', 3150: \"clancy's\", 3151: 'vulnerable', 3152: 'habit', 3153: 'byrne', 3154: 'deli', 3155: 'insist', 3156: \"bartender's\", 3157: 'there', 3158: 'twin', 3159: 'non-losers', 3160: 'control', 3161: 'bones', 3162: 'everyone', 3163: 'symphonies', 3164: 'always', 3165: 'exact', 3166: 'behind', 3167: 'sucking', 3168: 'successful', 3169: 'tabs', 3170: 'dingy', 3171: 'invisible', 3172: 'blobbo', 3173: 'er', 3174: 'arguing', 3175: 'when', 3176: 'grunt', 3177: 'strokkur', 3178: 'sack', 3179: 'yeah', 3180: 'novel', 3181: 'closer', 3182: 'snide', 3183: 'hub', 3184: 'coney', 3185: 'checking', 3186: 'conspiratorial', 3187: 'stalin', 3188: 'deep', 3189: 'forgot', 3190: 'handler', 3191: 'stool', 3192: 'milhouses', 3193: 'oblivious', 3194: 'mater', 3195: 'wordloaf', 3196: 'four-star', 3197: 'thrilled', 3198: 'creeps', 3199: 'waylon_smithers:', 3200: 'pillows', 3201: 'dana_scully:', 3202: 'low-life', 3203: 'collateral', 3204: 'employees', 3205: 'publish', 3206: 'juan', 3207: 'vacuum', 3208: 'explanation', 3209: 'idiot', 3210: 'diaper', 3211: 'diminish', 3212: 'throws', 3213: 'glitz', 3214: \"payin'\", 3215: 'devastated', 3216: 'calls', 3217: 'better', 3218: 'renovations', 3219: 'mansions', 3220: 'months', 3221: 'versus', 3222: 'belly', 3223: 'beaumont', 3224: 'shakes', 3225: 'buzz', 3226: 'patting', 3227: \"stabbin'\", 3228: \"that'd\", 3229: 'amused', 3230: 'poke', 3231: 'support', 3232: 'crime', 3233: 'passports', 3234: 'multiple', 3235: 'mechanical', 3236: 'ballclub', 3237: 'oblongata', 3238: 'feld', 3239: 'reliable', 3240: 'flayvin', 3241: 'stops', 3242: 'force', 3243: 'jerk', 3244: 'excuse', 3245: 'mabel', 3246: 'fifth', 3247: 'buddy', 3248: 'ho-la', 3249: 'pizza', 3250: 'commit', 3251: 'ballot', 3252: 'pleased', 3253: \"mo'\", 3254: 'community', 3255: 'dennis_conroy:', 3256: 'mellow', 3257: 'page', 3258: 'which', 3259: \"other's\", 3260: 'lend', 3261: \"challengin'\", 3262: 'los', 3263: 'texan', 3264: 'experience', 3265: 'helpful', 3266: 'flying', 3267: 'idealistic', 3268: 'button-pusher', 3269: 'virile', 3270: 'thousand', 3271: \"moe's_thoughts:\", 3272: 'spied', 3273: 'character', 3274: 'respect', 3275: 'chained', 3276: 'starters', 3277: 'lotta', 3278: 'infestation', 3279: 'investigating', 3280: 'limited', 3281: 'bachelorette', 3282: 'dutch', 3283: 'cheaped', 3284: 'harvey', 3285: 'investment', 3286: 'pugilist', 3287: 'british', 3288: 'blood-thirsty', 3289: 'enterprising', 3290: 'presidents', 3291: 'freeze', 3292: 'andrew', 3293: 'wolfcastle', 3294: 'normals', 3295: 'spy', 3296: \"shan't\", 3297: \"he'll\", 3298: 'gordon', 3299: 'learned', 3300: 'food', 3301: 'treat', 3302: 'interesting', 3303: 'adrift', 3304: 'skunk', 3305: \"others'\", 3306: 'cheery', 3307: 'am', 3308: 'savagely', 3309: 'recall', 3310: 'thumb', 3311: 'pickles', 3312: 'tow-talitarian', 3313: 'curious', 3314: 'worst', 3315: 'living', 3316: 'gestated', 3317: 'hug', 3318: 'morlocks', 3319: 'unintelligent', 3320: 'contemptuous', 3321: 'fears', 3322: 'plywood', 3323: 'release', 3324: 'emphasis', 3325: 'slip', 3326: 'promised', 3327: 'cappuccino', 3328: 'loaded', 3329: 'unkempt', 3330: 'urge', 3331: 'portfolium', 3332: 'cops', 3333: 'white', 3334: 'gut', 3335: 'lugs', 3336: 'grimly', 3337: 'mission', 3338: 'kahlua', 3339: 'fledgling', 3340: 'ran', 3341: 'carpet', 3342: 'proposing', 3343: 'runners', 3344: 'finest', 3345: \"father's\", 3346: 'frog', 3347: 'grim', 3348: 'lime', 3349: 'oddest', 3350: 'reluctant', 3351: 'lighter', 3352: 'miserable', 3353: 'rotch', 3354: 'riding', 3355: 'las', 3356: 'swatch', 3357: 'pudgy', 3358: 'lee', 3359: 'mother', 3360: 'arimasen', 3361: 'pumping', 3362: 'pinball', 3363: 'nantucket', 3364: \"you'd\", 3365: 'story', 3366: 'disguise', 3367: 'person', 3368: 'rub', 3369: 'cards', 3370: 'quick', 3371: 'restless', 3372: 'arab_man:', 3373: \"chewin'\", 3374: 'captain:', 3375: 'homers', 3376: 'mayan', 3377: 'troubles', 3378: \"smokin'_joe_frazier:\", 3379: 'beef', 3380: 'bulletin', 3381: 'indeed', 3382: 'refreshment', 3383: 'renee', 3384: 'pajamas', 3385: 'reed', 3386: \"'evening\", 3387: \"i've\", 3388: \"cat's\", 3389: 'stripes', 3390: 'chinua', 3391: 'weight', 3392: 'spellbinding', 3393: 'proper', 3394: 'wolveriskey', 3395: 'hour', 3396: 'kickoff', 3397: 'bachelorhood', 3398: 'two', 3399: 'jasper_beardly:', 3400: 'election', 3401: 'toledo', 3402: 'effervescence', 3403: 'lift', 3404: 'plant', 3405: 'creates', 3406: 'someplace', 3407: 'cans', 3408: 'courts', 3409: 'starts', 3410: 'grey', 3411: 'care', 3412: 'swallowed', 3413: 'stamp', 3414: 'hygienically', 3415: 'w-a-3-q-i-zed', 3416: 'furiously', 3417: 'rickles', 3418: 'dexterous', 3419: 'gonna', 3420: 'lifestyle', 3421: 'nuked', 3422: 'written', 3423: \"havin'\", 3424: 'grandiose', 3425: 'while', 3426: 'audience', 3427: 'inning', 3428: 'sotto', 3429: \"men's\", 3430: \"smokin'\", 3431: 'arrest', 3432: 'dials', 3433: 'book', 3434: 'dad', 3435: 'relaxed', 3436: 'discuss', 3437: 'acting', 3438: 'busiest', 3439: 'beer-jerks', 3440: 'booze-bags', 3441: 'mom', 3442: 'lookalikes', 3443: 'equivalent', 3444: 'traitors', 3445: 'riveting', 3446: \"goin'\", 3447: 'hooked', 3448: 'wishing', 3449: 'nods', 3450: 'hammy', 3451: 'whenever', 3452: 'mm', 3453: 'quebec', 3454: 'dennis', 3455: 'lessee', 3456: 'talkative', 3457: 'tv_husband:', 3458: \"bladder's\", 3459: 'furniture', 3460: 'evil', 3461: 'booger', 3462: 'enemy', 3463: 'dreamy', 3464: \"'tis\", 3465: 'alva', 3466: 'artie_ziff:', 3467: 'a-b-', 3468: 'duke', 3469: 'so-ng', 3470: 'eternity', 3471: 'afterglow', 3472: 'fictional', 3473: 'kids', 3474: 'pointedly', 3475: 'conditioning', 3476: 'cobra', 3477: \"carl's\", 3478: 'shower', 3479: 'really', 3480: 'liquor', 3481: 'scoffs', 3482: 'pin', 3483: 'impending', 3484: 'plan', 3485: 'denser', 3486: 'unusually', 3487: 'swooning', 3488: 'draw', 3489: 'ding-a-ding-ding-a-ding-ding', 3490: \"showin'\", 3491: 'island', 3492: 'for', 3493: 'host', 3494: 'supplying', 3495: 'art', 3496: 'fuhgetaboutit', 3497: 'panicky', 3498: 'getaway', 3499: 'i/you', 3500: 'placed', 3501: 'labels', 3502: 'sleeping', 3503: 'an', 3504: 'patriotic', 3505: 'sideshow_bob:', 3506: 'composite', 3507: 'stamps', 3508: 'appreciate', 3509: 'mexican_duffman:', 3510: 'massage', 3511: 'shaved', 3512: 'david_byrne:', 3513: 'navy', 3514: 'pulls', 3515: \"here's\", 3516: \"son's\", 3517: 'polite', 3518: 'mason', 3519: 'lemme', 3520: 'wounds', 3521: 'either', 3522: 'conversation', 3523: 'sobbing', 3524: 'bono', 3525: 'luckiest', 3526: 'virility', 3527: 'rev', 3528: 'oh-so-sophisticated', 3529: \"'round\", 3530: 'lovelorn', 3531: 'lucky', 3532: 'banquet', 3533: 'bonding', 3534: 'rookie', 3535: 'watered', 3536: 'baritone', 3537: 'nothing', 3538: 'newly-published', 3539: \"depressin'\", 3540: 'let', 3541: 'cases', 3542: 'hear', 3543: 'keeping', 3544: 'flashbacks', 3545: 'loss', 3546: 'listened', 3547: 'life:', 3548: 'p', 3549: 'bart_simpson:', 3550: 'hoax', 3551: 'bon', 3552: 'noise', 3553: 'lurleen_lumpkin:', 3554: 'threw', 3555: 'population', 3556: 'uniforms', 3557: 'sees', 3558: 'stationery', 3559: 'settlement', 3560: 'neighbors', 3561: 'any', 3562: 'tastes', 3563: 'peppy', 3564: 'joe', 3565: 'crowds', 3566: 'enjoy', 3567: 'four-drink', 3568: 'names', 3569: 'tipsy', 3570: 'prayer', 3571: 'lincoln', 3572: 'awww', 3573: 'sensible', 3574: 'intervention', 3575: 'looks', 3576: 'east', 3577: 'i-i-i', 3578: 'sitar', 3579: 'spews', 3580: 'effect', 3581: 'dealt', 3582: 'meaning', 3583: 'priority', 3584: 'adjust', 3585: 'stingy', 3586: 'could', 3587: 'africa', 3588: \"this'll\", 3589: '_burns_heads:', 3590: 'flea:', 3591: 'charges', 3592: 'carefully', 3593: 'generously', 3594: 'amnesia', 3595: 'hearing', 3596: 'rush', 3597: \"there's\", 3598: 'expensive', 3599: 'neil_gaiman:', 3600: 'sir', 3601: 'pursue', 3602: 'woozy', 3603: 'ahh', 3604: 'rutabaga', 3605: 'ate', 3606: 'between', 3607: 'tradition', 3608: 'prince', 3609: 'mccarthy', 3610: 'hammock', 3611: 'evergreen', 3612: 'beginning', 3613: \"soakin's\", 3614: 'smells', 3615: 'labor', 3616: 'mount', 3617: 'onions', 3618: 'disco', 3619: 'overturned', 3620: 'health_inspector:', 3621: 'string', 3622: 'horses', 3623: 'waist', 3624: 'mortal', 3625: '<left_paren>', 3626: 'addiction', 3627: 'hotline', 3628: 'reluctantly', 3629: 'videotaped', 3630: 'van', 3631: 'bad', 3632: 'owns', 3633: 'including', 3634: 'sugar-me-do', 3635: 'handle', 3636: 'shelf', 3637: \"homer'll\", 3638: 'season', 3639: 'chuckles', 3640: 'society', 3641: 'data', 3642: 'sledge-hammer', 3643: 'billboard', 3644: 'muhammad', 3645: 'lump', 3646: 'non-american', 3647: 'tokens', 3648: 'whispers', 3649: 'jeers', 3650: 'lobster-politans', 3651: 'heading', 3652: 'railroad', 3653: 'poem', 3654: 'potatoes', 3655: 'jogging', 3656: 'passed', 3657: 'loathe', 3658: 'signal', 3659: 'losers', 3660: 'espn', 3661: 'meal', 3662: 'seething', 3663: 'taste', 3664: \"rustlin'\", 3665: 'squeal', 3666: 'unjustly', 3667: \"everyone's\", 3668: 'martini', 3669: 'typed', 3670: 'moe', 3671: '100', 3672: 'assume', 3673: \"y'money's\", 3674: 'dig', 3675: 'honeys', 3676: 'gimme', 3677: 'sangre', 3678: 'wanna', 3679: 'worth', 3680: 'help', 3681: 'tentative', 3682: 'proudly', 3683: 'trust', 3684: 'lots', 3685: 'hollowed-out', 3686: 'everything', 3687: 'lance', 3688: 'fatty', 3689: \"disrobin'\", 3690: 'public', 3691: 'acronyms', 3692: 'jer', 3693: 'plum', 3694: 'inspection', 3695: 'dangerous', 3696: 'backgammon', 3697: 'unbelievable', 3698: 'monroe', 3699: 'fat_tony:', 3700: 'someday', 3701: 'add', 3702: 'thousand-year', 3703: 'clams', 3704: 'mirror', 3705: 'bleacher', 3706: 'rip-off', 3707: 'things', 3708: 'wayne:', 3709: 'pointless', 3710: 'gift', 3711: 'babar', 3712: 'desperately', 3713: \"singin'\", 3714: 'suits', 3715: 'easter', 3716: 'clone', 3717: 'lily-pond', 3718: 'shame', 3719: \"show's\", 3720: 'ladies', 3721: 'assassination', 3722: 'dumb', 3723: 'reserved', 3724: 'common', 3725: 'sour', 3726: 'chase', 3727: 'omit', 3728: 'kyoto', 3729: 'gunk', 3730: 'fills', 3731: 'lucius:', 3732: 'see', 3733: 'murmurs', 3734: 'diet', 3735: 'gee', 3736: \"she'll\", 3737: 'fish', 3738: 'push', 3739: 'cajun', 3740: 'heck', 3741: 'buddha', 3742: 'position', 3743: 'traffic', 3744: 'spooky', 3745: \"smackin'\", 3746: 'capitol', 3747: 'iranian', 3748: 'sodas', 3749: 'magnanimous', 3750: 'talk', 3751: 'carll', 3752: 'tatum', 3753: 'job', 3754: 'shack', 3755: 'norway', 3756: 'puke', 3757: 'cheers', 3758: \"fryer's\", 3759: 'african', 3760: 'rolled', 3761: 'avec', 3762: 'taking', 3763: 'researching', 3764: 'freaking', 3765: 'coffee', 3766: 'eat', 3767: 'anthony_kiedis:', 3768: 'fink', 3769: '_montgomery_burns:', 3770: 'and:', 3771: 'fleabag', 3772: 'justice', 3773: 'meanwhile', 3774: 'refresh', 3775: 'whining', 3776: \"treatin'\", 3777: \"dyin'\", 3778: 'groan', 3779: 'hate-hugs', 3780: 'dumptruck', 3781: 'swimmers', 3782: \"shouldn't\", 3783: 'geez', 3784: 'plane', 3785: 'bottle', 3786: 'scientific', 3787: 'careful', 3788: 'ring', 3789: 'eww', 3790: 'country', 3791: 'harv', 3792: 'barney-shaped_form:', 3793: 'celebration', 3794: 'maya:', 3795: 'different', 3796: 'gary:', 3797: 'poison', 3798: 'disdainful', 3799: 'fall', 3800: 'compliments', 3801: 'sucks', 3802: 'pills', 3803: 'incriminating', 3804: 'lenny_leonard:', 3805: \"won't\", 3806: 'drank', 3807: 'forgotten', 3808: 'gallon', 3809: 'brooklyn', 3810: \"ball's\", 3811: 'size', 3812: 'fortune', 3813: 'excuses', 3814: 'comeback', 3815: 'bart', 3816: 'man_at_bar:', 3817: 'shark', 3818: 'peaked', 3819: \"what'll\", 3820: 'polygon', 3821: 'scream', 3822: 'frightened', 3823: 'decided', 3824: 'burt_reynolds:', 3825: 'sandwich', 3826: 'disillusioned', 3827: 'conclusions', 3828: 'luck', 3829: 'nail', 3830: 'fabulous', 3831: 'writing', 3832: 'radiator', 3833: 'total', 3834: 'join', 3835: 'delicious', 3836: 'laid', 3837: 'shows', 3838: 'soaps', 3839: 'cap', 3840: 'cooker', 3841: 'ticks', 3842: 'du', 3843: 'society_matron:', 3844: 'distributor', 3845: 'heatherton', 3846: \"'s\", 3847: 'benjamin:', 3848: 'bed', 3849: 'till', 3850: 'delete', 3851: 'cake', 3852: 'krusty', 3853: 'late', 3854: 'sudden', 3855: 'column', 3856: 'bus', 3857: 'dimly', 3858: 'aquafresh', 3859: 'scotch', 3860: 'watched', 3861: 'halvsies', 3862: 'pontiff', 3863: 'um', 3864: 'pitcher', 3865: 'six', 3866: 'photographer', 3867: 'youse', 3868: 'smiling', 3869: 'awful', 3870: 'halfway', 3871: 'afraid', 3872: 'safecracker', 3873: 'phlegm', 3874: 'vampire', 3875: 'whaddaya', 3876: 'coin', 3877: 'customers', 3878: 'investor', 3879: \"daughter's\", 3880: 'kidneys', 3881: 'week', 3882: \"renee's\", 3883: 'maintenance', 3884: 'willy', 3885: '_powers:', 3886: 'though:', 3887: 'stiffening', 3888: \"askin'\", 3889: 'mozzarella', 3890: 'commanding', 3891: 'phone', 3892: 'eager', 3893: \"o'reilly\", 3894: 'horns', 3895: 'gotta', 3896: 'polishing', 3897: 'low-blow', 3898: 'dies', 3899: 'mind-numbing', 3900: 'cheerleaders:', 3901: 'crestfallen', 3902: 'thrust', 3903: 'hems', 3904: 'insensitive', 3905: 'coward', 3906: 'perfected', 3907: 'newsies', 3908: 'thorn', 3909: 'greetings', 3910: 'dying', 3911: 'comic_book_guy:', 3912: 'attractive_woman_#2:', 3913: 'letters', 3914: 'tick', 3915: 'expression', 3916: 'wally:', 3917: \"family's\", 3918: 'over-pronouncing', 3919: '21', 3920: 'foibles', 3921: 'arise', 3922: 'along', 3923: 'stayed', 3924: 'wiggle', 3925: 'earlier', 3926: 'wussy', 3927: 'chow', 3928: \"feelin's\", 3929: 'nuclear', 3930: 'although', 3931: 'bar', 3932: 'committing', 3933: 'almost', 3934: 'cable', 3935: 'shaggy', 3936: 'old-time', 3937: 'lovejoy', 3938: 'teacup', 3939: 'barney-type', 3940: 'kiss', 3941: 'emergency', 3942: 'flexible', 3943: 'what', 3944: 'asked', 3945: 'moe-near-now', 3946: \"bein'\", 3947: 'seconds', 3948: 'view', 3949: 'admiration', 3950: 'send', 3951: 'perhaps', 3952: 'mull', 3953: 'skeptical', 3954: 'lover', 3955: 'horror', 3956: 'devils:', 3957: 'stupid', 3958: 'jury', 3959: 'hello', 3960: 'news', 3961: 'unhook', 3962: 'menace', 3963: 'spare', 3964: 'woulda', 3965: 'wild', 3966: 'pfft', 3967: 'serve', 3968: 'pantsless', 3969: 'married', 3970: 'bunion', 3971: 'sharity', 3972: 'toward', 3973: 'thought', 3974: 'whose', 3975: 'capuchin', 3976: 'eaten', 3977: 'killjoy', 3978: 'paramedic:', 3979: 'nor', 3980: 'band', 3981: 'warmly', 3982: 'pickled', 3983: 'shelbyville', 3984: 'urinal', 3985: 'coma', 3986: 'portuguese', 3987: 'starla', 3988: 'gun', 3989: 'nightmares', 3990: 'pride', 3991: 'icelandic', 3992: 'mayor_joe_quimby:', 3993: 'products', 3994: 'watch', 3995: 'love', 3996: 'tolerable', 3997: 'be-stainèd', 3998: 'clubs', 3999: 'shaker', 4000: 'panicked', 4001: 'close', 4002: 'looser', 4003: 'nobody', 4004: 'belts', 4005: 'squeals', 4006: 'searching', 4007: 'because', 4008: 'imagine', 4009: 'customer', 4010: 'row', 4011: 'rosey', 4012: 'ancestors', 4013: 'cutie', 4014: 'grace', 4015: 'remembers', 4016: 'yours', 4017: 'entirely', 4018: 'awwww', 4019: 'skins', 4020: 'farthest', 4021: 'sniffing', 4022: 'tv_father:', 4023: 'average-looking', 4024: 'represent', 4025: 'going', 4026: 'lorre', 4027: 'anonymous', 4028: 'frink', 4029: 'hafta', 4030: 'pee', 4031: 'owned', 4032: 'produce', 4033: 'twenty', 4034: 'mcstagger', 4035: 'angel', 4036: 'nasa', 4037: 'donuts', 4038: \"liberty's\", 4039: 'hall', 4040: 'ask', 4041: 'blows', 4042: 'knows', 4043: 'attached', 4044: 'quite', 4045: 'town', 4046: 'refreshingness', 4047: 'hottest', 4048: 'ironed', 4049: 'timbuk-tee', 4050: 'taught', 4051: 'shag', 4052: 'turned', 4053: 'americans', 4054: 'peppers', 4055: 'harder', 4056: 'piano', 4057: 'thirty-thousand', 4058: 'albeit', 4059: 'priest', 4060: 'missed', 4061: 'sucked', 4062: 'cecil_terwilliger:', 4063: 'begins', 4064: 'lucinda', 4065: 'games', 4066: 'placing', 4067: 'refreshing', 4068: \"game's\", 4069: 'seas', 4070: 'jovial', 4071: 'wrote', 4072: 'creepy', 4073: 'warned', 4074: 'killed', 4075: \"robbin'\", 4076: \"watchin'\", 4077: 'isotopes', 4078: 'resolution', 4079: 'lenford', 4080: 'homer', 4081: 'appeals', 4082: 'golf', 4083: 'answers', 4084: 'skydiving', 4085: 'attack', 4086: 'frat', 4087: 'tom', 4088: 'mistake', 4089: 'forgiven', 4090: 'strains', 4091: 'carlson', 4092: 'au', 4093: 'pancakes', 4094: 'voice_on_transmitter:', 4095: 'eighty-three', 4096: 'semi-imported', 4097: 'watered-down', 4098: 'starlets', 4099: 'murderously', 4100: 'pipe', 4101: 'diapers', 4102: 'glowers', 4103: 'suave', 4104: 'lisa_simpson:', 4105: 'harvesting', 4106: 'releases', 4107: 'seek', 4108: 'under', 4109: 'feet', 4110: \"cuckold's\", 4111: 'forget', 4112: 'invited', 4113: 'nurse', 4114: 'trapping', 4115: 'contemplates', 4116: 'crowd:', 4117: 'nascar', 4118: 'milhouse', 4119: 'gentlemen', 4120: 'themselves', 4121: 'young', 4122: 'stalwart', 4123: 'had', 4124: 'sacajawea', 4125: 'serum', 4126: 'jackson', 4127: 'pathetic', 4128: 'embarrassed', 4129: 'lachrymose', 4130: 'declared', 4131: 'plus', 4132: 'eurotrash', 4133: 'ah', 4134: 'b', 4135: 'dirge-like', 4136: 'daughter', 4137: 'wieners', 4138: 'square', 4139: 'predecessor', 4140: 'ticket', 4141: 'sneak', 4142: 'drapes', 4143: 'jerks', 4144: 'pain', 4145: 'still', 4146: 'five', 4147: 'sheriff', 4148: 'bono:', 4149: 'bedroom', 4150: 'mail', 4151: 'slurps', 4152: 'half-back', 4153: \"ragin'\", 4154: 'label', 4155: 'joint', 4156: 'came', 4157: \"lovers'\", 4158: 'vance', 4159: 'guide', 4160: 'business', 4161: 'noises', 4162: 'short_man:', 4163: 'feedbag', 4164: 'him', 4165: 'after', 4166: 'carny:', 4167: 'colossal', 4168: 'scornfully', 4169: 'astronaut', 4170: 'presentable', 4171: 'trolls', 4172: 'pushing', 4173: 'murdered', 4174: 'also', 4175: 'refill', 4176: \"'n'\", 4177: 'leftover', 4178: 'moe_recording:', 4179: 'journey', 4180: 'officials', 4181: 'socialize', 4182: 'crotch', 4183: 'eliminate', 4184: 'kako:', 4185: 'sixty-nine', 4186: 'should', 4187: 'romantic', 4188: 'tomato', 4189: 'slays', 4190: 'astrid', 4191: 'bluff', 4192: 'helping', 4193: 'bathroom', 4194: 'leonard', 4195: 'attention', 4196: 'jacques', 4197: 'knocked', 4198: \"what'sa\", 4199: 'dress', 4200: 'imaginary', 4201: 'jukebox', 4202: 'police', 4203: 'medicine', 4204: 'bender:', 4205: 'prove', 4206: \"i'unno\", 4207: 'creature', 4208: 'ziff', 4209: 'delivery_boy:', 4210: 'disappointed', 4211: 'quietly', 4212: 'couple', 4213: 'frozen', 4214: 'woman', 4215: 'nibble', 4216: 'whim', 4217: 'die-hard', 4218: 'gets', 4219: 'rug', 4220: 'releasing', 4221: 'garbage', 4222: 'like', 4223: 'villanova', 4224: 'elect', 4225: 'own', 4226: 'simpson', 4227: \"children's\", 4228: \"nick's\", 4229: 'register', 4230: 'we', 4231: 'freed', 4232: 'drown', 4233: 'mis-statement', 4234: 'shred', 4235: 'pen', 4236: 'endorsement', 4237: 'boozer', 4238: 'wishful', 4239: 'dispenser', 4240: 'recipe', 4241: 'a', 4242: 'ribbon', 4243: 'mystery', 4244: 'held', 4245: 'photo', 4246: 'ears', 4247: 'wantcha', 4248: 'mommy', 4249: 'gin', 4250: 'professional', 4251: 'tells', 4252: 'fifteen', 4253: 'sistine', 4254: 'butt', 4255: 'moon', 4256: 'burn', 4257: 'crack', 4258: 'heads', 4259: 'apron', 4260: 'palm', 4261: 'gr-aargh', 4262: \"getting'\", 4263: 'super-nice', 4264: 'mustard', 4265: 'pleading', 4266: 'wearing', 4267: 'newspaper', 4268: 'terrific', 4269: 'connor-politan', 4270: 'peter_buck:', 4271: 'aggravazes', 4272: 'duffman', 4273: 'amid', 4274: 'rice', 4275: 'shutup', 4276: 'barkeeps', 4277: 'drinker', 4278: 'noosey', 4279: 'counting', 4280: 'insurance', 4281: 'site', 4282: 'statistician', 4283: 'edge', 4284: 'lady-free', 4285: 'spiritual', 4286: 'twenty-four', 4287: 'hollye', 4288: 'hiring', 4289: 'achebe', 4290: 'bridges', 4291: \"friend's\", 4292: 'gosh', 4293: 'north', 4294: 'gang', 4295: 'general', 4296: 'nordiques', 4297: 'days', 4298: 'showed', 4299: 'crayon', 4300: \"high-falutin'\", 4301: 'sooner', 4302: 'chapel', 4303: 'musta', 4304: \"'til\", 4305: 'ingested', 4306: 'heartless', 4307: 'ling', 4308: 'slobbo', 4309: 'answer', 4310: 'hugh', 4311: 'smugglers', 4312: 'prohibit', 4313: 'snake-handler', 4314: 'show-off', 4315: 'affects', 4316: 'taunting', 4317: 'calm', 4318: 'contractors', 4319: 'dump', 4320: 'helen', 4321: 'ahem', 4322: 'pulling', 4323: 'broom', 4324: 'clapping', 4325: \"callin'\", 4326: 'freedom', 4327: 'turns', 4328: 'tire', 4329: 'fans', 4330: 'fritz', 4331: 'chub', 4332: 'abcs', 4333: 'snaps', 4334: 'figure', 4335: 'paints', 4336: 'bite', 4337: 'aged_moe:', 4338: 'steely-eyed', 4339: 'stripe', 4340: 'secret', 4341: 'enlightened', 4342: 'wazoo', 4343: 'into', 4344: 'drop', 4345: 'ever', 4346: 'presents', 4347: 'whaddya', 4348: 'jams', 4349: 'testing', 4350: 'brockelstein', 4351: 'enthusiastically', 4352: 'black', 4353: 'pop', 4354: 'burp', 4355: 'buds', 4356: 'lear', 4357: 'faceful', 4358: 'encore', 4359: 'enjoys', 4360: 'glasses', 4361: 'actually', 4362: 'rotten', 4363: 'teacher', 4364: 'margarita', 4365: \"rasputin's\", 4366: 'load', 4367: 'transylvania', 4368: 'sweater', 4369: 'term', 4370: 'tony', 4371: 'suspended', 4372: 'chilly', 4373: 'inflated', 4374: 'squeezed', 4375: 'yourse', 4376: 'pas', 4377: 'initially', 4378: 'serious', 4379: 'lobster', 4380: 'vicious', 4381: \"renovatin'\", 4382: 'specials', 4383: 'meant', 4384: 'go-near-', 4385: 'abandon', 4386: 'prints', 4387: 'made', 4388: 'puke-pail', 4389: 'carolina', 4390: 'frazier', 4391: 'heroism', 4392: \"beggin'\", 4393: 'thawing', 4394: 'why', 4395: 'hispanic_crowd:', 4396: 'up', 4397: 'horrible', 4398: 'relieved', 4399: 'evening', 4400: 's', 4401: 'past', 4402: \"professor's\", 4403: 'manatee', 4404: 'overflowing', 4405: 'coat', 4406: 'match', 4407: 'in', 4408: 'marshmallow', 4409: 'daaaaad', 4410: 'meeting', 4411: 'smuggled', 4412: 'finding', 4413: 'theatah', 4414: 'vengeful', 4415: 'teen', 4416: 'smitty:', 4417: 'picked', 4418: 'relative', 4419: 'gamble', 4420: 'bleak', 4421: 'guzzles', 4422: 'slit', 4423: 'heliotrope', 4424: 'sketch', 4425: 'alter', 4426: 'presently', 4427: \"narratin'\", 4428: 'fine', 4429: 'shout', 4430: 'absolut', 4431: 'kid', 4432: 'name:', 4433: 'makes', 4434: 'dawning', 4435: 'kool', 4436: 'contemplated', 4437: 'century', 4438: 'marriage', 4439: 'south', 4440: 'triumphantly', 4441: 'god', 4442: 'barney-guarding', 4443: 'conversations', 4444: 'agent', 4445: 'indeedy', 4446: 'have', 4447: 'reminds', 4448: 'partners', 4449: 'astonishment', 4450: 'gasp', 4451: 'folks', 4452: 'arrested:', 4453: 'tremendous', 4454: 'popped', 4455: 'sanctuary', 4456: 'muscles', 4457: 'quadruple-sec', 4458: 'grandmother', 4459: 'frenchman', 4460: 'he', 4461: 'done', 4462: 'sustain', 4463: 'tax', 4464: 'inspiring', 4465: 'factor', 4466: 'dog', 4467: 'physical', 4468: 'uncreeped-out', 4469: 'through', 4470: 'unsourced', 4471: 'sector', 4472: 'scornful', 4473: 'mediterranean', 4474: 'fight', 4475: 'nfl_narrator:', 4476: 'wigs', 4477: 'reasons', 4478: 'depository', 4479: 'co-sign', 4480: 'filthy', 4481: 'billingsley', 4482: 'showered', 4483: 'basement', 4484: 'girls', 4485: 'alarm', 4486: 'bras', 4487: 'out', 4488: 'ringing', 4489: 'evils', 4490: 'pity', 4491: 'heard', 4492: 'spreads', 4493: 'xanders', 4494: 'personal', 4495: 'beach', 4496: 'singer', 4497: 'eventually', 4498: 'down', 4499: 'nucular', 4500: 'said:', 4501: 'guiltily', 4502: 'but', 4503: 'least', 4504: 'yee-haw', 4505: 'intimacy', 4506: 'tenor:', 4507: '3rd_voice:', 4508: 'catching', 4509: 'moved', 4510: 'santeria', 4511: 'dropped', 4512: 'ahhh', 4513: 'tape', 4514: 'smelly', 4515: 'delicate', 4516: 'deeply', 4517: 'stupidly', 4518: \"writin'\", 4519: 'shard', 4520: 'wobble', 4521: 'anywhere', 4522: 'got', 4523: 'meaningfully', 4524: 'multi-purpose', 4525: 'day', 4526: \"england's\", 4527: 'other_book_club_member:', 4528: 'hm', 4529: 'lizard', 4530: 'husband', 4531: 'dammit', 4532: 'two-drink', 4533: 'tester', 4534: 'gol-dangit', 4535: 'cookies', 4536: 'forbidden', 4537: 'dads', 4538: 'pulitzer', 4539: \"president's\", 4540: 'wudgy', 4541: 'samples', 4542: 'fancy', 4543: 'beady', 4544: \"football's\", 4545: 'suds', 4546: 'barstools', 4547: 'tigers', 4548: 'sunk', 4549: 'bastard', 4550: \"man's_voice:\", 4551: 'was', 4552: 'allowed', 4553: 'slow', 4554: 'happy', 4555: 'carb', 4556: 'prank', 4557: 'libido', 4558: 'disappointing', 4559: 'selling', 4560: 'dungeon', 4561: 'extended', 4562: 'dreamed', 4563: 'settles', 4564: 'pouring', 4565: \"mtv's\", 4566: 'needy', 4567: 'ashamed', 4568: 'impressed', 4569: 'mamma', 4570: 'wrecking', 4571: 'test', 4572: 'poetics', 4573: 'pair', 4574: 'gimmick', 4575: 'peanut', 4576: 'bedtime', 4577: 'wednesday', 4578: 'mags', 4579: 'invulnerable', 4580: 'alley', 4581: 'archaeologist', 4582: 'windowshade', 4583: 'libraries', 4584: 'aer', 4585: 'leave', 4586: 'fighting', 4587: 'yew', 4588: 'swigmore', 4589: 'batmobile', 4590: 'remains', 4591: 'partner', 4592: 'lone', 4593: 'feel', 4594: 'difficult', 4595: 'tank', 4596: 'warmth', 4597: 'drag', 4598: 'designer', 4599: 'surprising', 4600: 'live', 4601: 'without', 4602: 'last', 4603: 'loser', 4604: 'santa', 4605: 'apply', 4606: 'boggs', 4607: 'rainier_wolfcastle:', 4608: 'choose', 4609: 'alphabet', 4610: 'young_marge:', 4611: 'stocking', 4612: 'kwik-e-mart', 4613: \"tree's\", 4614: 'himself', 4615: 'monster', 4616: 'realized', 4617: 'nauseous', 4618: 'moan', 4619: 'salary', 4620: \"bart's\", 4621: 'albert', 4622: 'color', 4623: 'stood', 4624: 'jobless', 4625: 'reading', 4626: 'singing', 4627: 'mic', 4628: 'steak', 4629: 'tapestry', 4630: \"drivin'\", 4631: 'enhance', 4632: 'trashed', 4633: 'bumped', 4634: 'bridge', 4635: 'layer', 4636: 'patty_bouvier:', 4637: 'environment', 4638: 'jay:', 4639: 'mumbling', 4640: 'powers', 4641: 'examines', 4642: 'experienced', 4643: 'annoyed', 4644: 'venture', 4645: 'very', 4646: 'group', 4647: 'colorado', 4648: 'expose', 4649: 'bites', 4650: 'field', 4651: 'minute', 4652: 'contemporary', 4653: 'vacation', 4654: 'befriend', 4655: 'terrified', 4656: 'ned_flanders:', 4657: \"speakin'\", 4658: 'democrats', 4659: 'nectar', 4660: 'maiden', 4661: 'plastic', 4662: 'schemes', 4663: \"meanin'\", 4664: 'somebody', 4665: 'progress', 4666: '<return>', 4667: 'girl', 4668: 'compromise:', 4669: 'thrown', 4670: 'information', 4671: 'moonlight', 4672: 'thoughtless', 4673: 'never', 4674: 'severe', 4675: 'burning', 4676: 'nachos', 4677: 'women', 4678: 'sheepish', 4679: 'read:', 4680: 'inserts', 4681: 'maximum', 4682: 'breathless', 4683: 'material', 4684: 'quero', 4685: 'malibu', 4686: 'flailing', 4687: 'uses', 4688: 'backbone', 4689: 'stairs', 4690: 'read', 4691: 'homer_doubles:', 4692: \"boy's\", 4693: 'pissed', 4694: 'stu', 4695: 'paste', 4696: 'parked', 4697: 'tha', 4698: 'warn', 4699: 'sickly', 4700: 'dames', 4701: 'children', 4702: 'mmmm', 4703: 'bust', 4704: \"team's\", 4705: 'shyly', 4706: 'fastest', 4707: 'feat', 4708: 'patrons', 4709: 'sobriety', 4710: 'travel', 4711: 'chicks', 4712: 'roller', 4713: 'milhouse_van_houten:', 4714: 'brown', 4715: 'crappy', 4716: 'swe-ee-ee-ee-eet', 4717: 'neighborhood', 4718: 'movement', 4719: 'pepper', 4720: 'improved', 4721: 'hillary', 4722: 'underpants', 4723: 'oils', 4724: 'bobo', 4725: \"gentleman's\", 4726: 'cop', 4727: 'cuddling', 4728: 'technical', 4729: 'aidens', 4730: 'connor', 4731: 'genius', 4732: 'reads', 4733: 'young_moe:', 4734: 'challenge', 4735: 'knock-up', 4736: 'bell', 4737: 'knees', 4738: 'lumpa', 4739: 'smart', 4740: 'today', 4741: 'inspire', 4742: 'nursemaid', 4743: 'supermodel', 4744: 'chain', 4745: 'fella', 4746: 'fiiiiile', 4747: 'hollywood', 4748: 'apology', 4749: 'haw', 4750: 'hurry', 4751: \"countin'\", 4752: 'crystal', 4753: 'eating', 4754: 'deliberately', 4755: 'jeter', 4756: 'aging', 4757: 'mushy', 4758: 'ashtray', 4759: 'reflected', 4760: 'awesome', 4761: 'adjourned', 4762: 'bloodball', 4763: 'punishment', 4764: 'cooking', 4765: 'twice', 4766: 'kenny', 4767: 'right-handed', 4768: 'sets', 4769: 'examples', 4770: 'the_edge:', 4771: 'prize', 4772: 'campaign', 4773: \"it's\", 4774: 'sedaris', 4775: 'time', 4776: \"how'd\", 4777: 'kinderhook', 4778: 'butts', 4779: 'class', 4780: 'spouses', 4781: 'jimmy', 4782: 'get', 4783: 'knuckle-dragging', 4784: 'file', 4785: 'slogan', 4786: 'ought', 4787: 'flynt', 4788: \"now's\", 4789: 'fuzzlepitch', 4790: 'proves', 4791: 'button', 4792: 'donation', 4793: 'cell-ee', 4794: 'cleaning', 4795: 'yogurt', 4796: 'hunter', 4797: 'players', 4798: 'beligerent', 4799: 'pretending', 4800: 'sweetly', 4801: 'reality', 4802: 'lenses', 4803: 'corkscrews', 4804: 'moolah-stealing', 4805: 'eats', 4806: 'tubman', 4807: 'switch', 4808: 'blackjack', 4809: 'popping', 4810: 'listening', 4811: 'musical', 4812: 'species', 4813: 'lushmore', 4814: 'strangles', 4815: 'donate', 4816: 'yup', 4817: 'unfair', 4818: 'sly', 4819: 'ends', 4820: 'spine', 4821: 'plums', 4822: 'pleasant', 4823: 'alpha-crow', 4824: 'detective', 4825: 'bugs', 4826: 'drive', 4827: 'unfresh', 4828: 'henry', 4829: 'gargoyle', 4830: 'schabadoo', 4831: 'payments', 4832: 'experiments', 4833: 'candles', 4834: 'caholic', 4835: 'taylor', 4836: 'forehead', 4837: 'touchdown', 4838: 'senators:', 4839: 'result', 4840: 'body', 4841: 'correction', 4842: 'cheerier', 4843: 'pharmaceutical', 4844: 'party', 4845: 'convinced', 4846: 'hearse', 4847: 'outrageous', 4848: 'blame', 4849: 'chauffeur:', 4850: 'horrors', 4851: 'inanely', 4852: \"that's\", 4853: 'persia', 4854: 'kemi', 4855: 'flag', 4856: 'fridge', 4857: \"time's\", 4858: '_babcock:', 4859: 'endorse', 4860: 'device', 4861: 'department', 4862: 'smooth', 4863: 'cockroaches', 4864: 'vodka', 4865: 'queen', 4866: 'sneeze', 4867: 'immiggants', 4868: 'peeved', 4869: 'laugh', 4870: 'drederick', 4871: 'advantage', 4872: 'lost', 4873: 'cuff', 4874: 'accept', 4875: 'gig', 4876: 'whoops', 4877: 'cleveland', 4878: 'cherry', 4879: 'seen', 4880: 'eco-fraud', 4881: 'dishonor', 4882: 'cigars', 4883: 'outlook', 4884: 'undermine', 4885: 'dishrag', 4886: 'little_hibbert_girl:', 4887: 'dash', 4888: 'perfunctory', 4889: 'script', 4890: 'nemo', 4891: 'ninth', 4892: 'retain', 4893: 'sunday', 4894: 'sausage', 4895: 'bashir', 4896: 'agnes_skinner:', 4897: 'chief_wiggum:', 4898: 'played', 4899: 'dozen', 4900: 'disgusted', 4901: 'cracked', 4902: 'mickey', 4903: 'bar-boy', 4904: 'nelson', 4905: 'planned', 4906: 'checks', 4907: 'store-bought', 4908: 'apart', 4909: 'gave', 4910: 'opens', 4911: 'marge_simpson:', 4912: 'voice:', 4913: 'leans', 4914: 'huge', 4915: 'sidekick', 4916: 'unison', 4917: 'causes', 4918: 'ding-a-ding-ding-ding-ding-ding-ding', 4919: 'now', 4920: 'fishing', 4921: 'fry', 4922: 'magazine', 4923: 'notice', 4924: 'brace', 4925: 'dealie', 4926: 'tang', 4927: 'puke-holes', 4928: 'tail', 4929: 'pusillanimous', 4930: 'joy', 4931: \"'\", 4932: 'newsletter', 4933: 'kucinich', 4934: \"what's\", 4935: 'loudly', 4936: 'sneaky', 4937: 'leak', 4938: 'augustus', 4939: 'attempting', 4940: 'half-beer', 4941: 'excited', 4942: 'especially', 4943: 'solely', 4944: 'meatpies', 4945: 'lloyd', 4946: 'wells', 4947: 'ralph', 4948: 'weapon', 4949: 'soir', 4950: 'law-abiding', 4951: 'transmission', 4952: 'fast-food', 4953: 'goo', 4954: 'pats', 4955: 'sent', 4956: 'furious', 4957: 'snotball', 4958: \"we're\", 4959: 'ehhh', 4960: 'someone', 4961: 'monday', 4962: 'cooler', 4963: 'singing/pushing', 4964: 'juke', 4965: 'pantry', 4966: \"can't\", 4967: 'my-y-y-y-y-y', 4968: 'dismissive', 4969: 'corkscrew', 4970: 'on', 4971: 'gives', 4972: 'incredulous', 4973: 'wangs', 4974: 'museum', 4975: 'spent', 4976: 'rekindle', 4977: 'bucks', 4978: 'test-', 4979: 'owner', 4980: 'jockey', 4981: 'gold', 4982: 'twelveball', 4983: 'characteristic', 4984: 'klingon', 4985: 'waylon', 4986: 'wedding', 4987: 'octa-', 4988: 'sixteen', 4989: 'sit', 4990: 'unfortunately', 4991: 'ads', 4992: 'kisser', 4993: 'aziz', 4994: 'hobo', 4995: 'saying', 4996: 'doof', 4997: 'naturally', 4998: 'month', 4999: 'dateline', 5000: 'drinks', 5001: 'wars', 5002: 'thesaurus', 5003: 'kitchen', 5004: 'breathtaking', 5005: 'okay', 5006: 'aunt', 5007: 'germany', 5008: 'stand', 5009: 'rash', 5010: 'newest', 5011: 'recruiter', 5012: \"bettin'\", 5013: 'mock-up', 5014: 'fondly', 5015: 'dollface', 5016: 'france', 5017: 'hounds', 5018: 'she', 5019: 'congratulations', 5020: 'unable', 5021: 'hawaii', 5022: 'installed', 5023: 'danny', 5024: 'grain', 5025: 'longer', 5026: 'meaningful', 5027: 'holds', 5028: 'sniffs', 5029: 'wow', 5030: 'tar-paper', 5031: 'heals', 5032: 'treehouse', 5033: \"ain't\", 5034: 'awake', 5035: 'maman', 5036: 'amber_dempsey:', 5037: 'throats', 5038: \"thing's\", 5039: 'stones', 5040: 'clothespins', 5041: 'clandestine', 5042: 'sickened', 5043: 'espousing', 5044: 'exploiter', 5045: 'steinbrenner', 5046: 'shush', 5047: 'grease', 5048: 'hilarious', 5049: \"man's\", 5050: 'producers', 5051: 'amends', 5052: 'high-definition', 5053: \"mopin'\", 5054: 'cut', 5055: 'atari', 5056: 'criminal', 5057: 'encouraged', 5058: 'maher', 5059: 'trouble', 5060: 'horrified', 5061: 'securities', 5062: 'so-called', 5063: 'assert', 5064: 'muscle', 5065: '<period>', 5066: 'femininity', 5067: 'x', 5068: 'peach', 5069: 'changes', 5070: 'thought_bubble_homer:', 5071: 'door', 5072: \"beer's\", 5073: 'pictured', 5074: 'difference', 5075: 'dan_gillick:', 5076: 'ironic', 5077: 'bless', 5078: 'over', 5079: 'chum', 5080: 'sticker', 5081: 'easy', 5082: \"hell's\", 5083: 'alky', 5084: 'football_announcer:', 5085: 'front', 5086: 'fast-paced', 5087: 'flack', 5088: 'onion', 5089: 'fayed', 5090: 'peeping', 5091: 'toilet', 5092: 'whisper', 5093: 'french', 5094: 'delightfully', 5095: 'times', 5096: 'gossipy', 5097: 'whaaaa', 5098: 'decision', 5099: 'domestic', 5100: 'underwear', 5101: 'studied', 5102: 'take-back', 5103: 'company', 5104: 'hushed', 5105: \"isn't\", 5106: 'old', 5107: 'other', 5108: 'ze-ro', 5109: 'football', 5110: 'cares', 5111: 'scratcher', 5112: '1895', 5113: 'wait', 5114: 'this', 5115: 'appropriate', 5116: 'corner', 5117: 'chocolate', 5118: 'continuum', 5119: \"wonderin'\", 5120: 'natural', 5121: 'ecru', 5122: 'rest', 5123: 'some', 5124: 'silent', 5125: 'novelty', 5126: 'pulled', 5127: 'modern', 5128: 'mad', 5129: 'catch-phrase', 5130: 'enough', 5131: 'money', 5132: 'proposition', 5133: 'damn', 5134: 'jeez', 5135: 'crimes', 5136: 'tomahto', 5137: 'guns', 5138: 'mugs', 5139: 'supervising', 5140: 'liar', 5141: 'official', 5142: 'caricature', 5143: 'slaps', 5144: 'guttural', 5145: 'midge', 5146: 'tsk', 5147: 'girlfriend', 5148: 'grudgingly', 5149: 'railroads', 5150: 'pointy', 5151: 'humiliation', 5152: 'kent_brockman:', 5153: 'hi', 5154: 'malfeasance', 5155: 'tearfully', 5156: 'hooters', 5157: 'filled', 5158: 'ultimate', 5159: 'courteous', 5160: 'ominous', 5161: 'illegally', 5162: 'music', 5163: 'focus', 5164: 'manchego', 5165: 'cough', 5166: 'jesus', 5167: 'hexa-', 5168: 'problems', 5169: 'girl-bart', 5170: 'billy_the_kid:', 5171: 'house', 5172: 'dignity', 5173: 'shut', 5174: \"town's\", 5175: \"fishin'\", 5176: 'bright', 5177: 'or', 5178: 'weirded-out', 5179: 'separator', 5180: 'mountain', 5181: 'agh', 5182: 'unrelated', 5183: 'kermit', 5184: 'dry', 5185: '$42', 5186: 'courthouse', 5187: 'crying', 5188: 'continued', 5189: 'menacing', 5190: 'mural', 5191: 'stupidest', 5192: 'gabriel:', 5193: 'saving', 5194: 'minutes', 5195: 'sloe', 5196: 'eyeballs', 5197: 'nailed', 5198: 'terrorizing', 5199: 'happily:', 5200: 'cockroach', 5201: 'sabermetrics', 5202: 'parasol', 5203: 'declan', 5204: 'being', 5205: 'noticing', 5206: 'stores', 5207: 'cross-country', 5208: 'blues', 5209: 'disturbing', 5210: 'told', 5211: 'cloudy', 5212: 'junior', 5213: 'morning-after', 5214: 'cries', 5215: 'jokes', 5216: 'nos', 5217: 'chick', 5218: 'poplar', 5219: 'mmmmm', 5220: 'movie', 5221: 'until', 5222: 'rife', 5223: 'director:', 5224: 'original', 5225: 'suspenders', 5226: \"lenny's\", 5227: 'swings', 5228: 'richard:', 5229: 'teenage_bart:', 5230: 'full', 5231: 'accounta', 5232: 'sec_agent_#2:', 5233: 'gabriel', 5234: 'brewed', 5235: 'hah', 5236: 'begging', 5237: 'afford', 5238: 'falling', 5239: 'stopped', 5240: 'video', 5241: 'few', 5242: 'form', 5243: 'grandkids', 5244: \"aren't\", 5245: 'depression', 5246: 'half-day', 5247: 'carney', 5248: 'squabbled', 5249: 'increased', 5250: 'brine', 5251: 'soothing', 5252: 'waters', 5253: 'film', 5254: 'nineteen', 5255: 'meditative', 5256: 'emotion', 5257: 'assistant', 5258: 'darn', 5259: 'marguerite:', 5260: \"bart'd\", 5261: 'code', 5262: 'quarterback', 5263: 'invite', 5264: 'drinking', 5265: 'pick', 5266: 'happily', 5267: 'rome', 5268: 'christopher', 5269: 'rainforest', 5270: 'knocks', 5271: 'true', 5272: 'winded', 5273: 'errrrrrr', 5274: 'sips', 5275: 'patron_#1:', 5276: 'combination', 5277: 'number', 5278: 'conclude', 5279: 'kill', 5280: 'lingus', 5281: 'macbeth', 5282: \"you'll\", 5283: 'formico', 5284: 'action', 5285: 'language', 5286: 'power', 5287: 'flash-fry', 5288: 'ghouls', 5289: 'king', 5290: \"y'know\", 5291: 'huhza', 5292: 'folk', 5293: \"pickin'\", 5294: 'product', 5295: 'stillwater:', 5296: 'shesh', 5297: 'andalay', 5298: 'further', 5299: 'course', 5300: 'gals', 5301: 'mumble', 5302: 'yesterday', 5303: 'jigger', 5304: 'finally', 5305: 'cool', 5306: 'forget-me-shot', 5307: 'boxer', 5308: 'doors', 5309: 'lis', 5310: 'stevie', 5311: 'renee:', 5312: 'frink-y', 5313: 'mild', 5314: 'sneering', 5315: \"wino's\", 5316: \"who'da\", 5317: 'youuu', 5318: 'quick-like', 5319: 'by', 5320: 'stretches', 5321: 'spotting', 5322: \"bar's\", 5323: 'marvin', 5324: 'wooooo', 5325: 'seriously', 5326: 'prime', 5327: 'eyeball', 5328: 'earth', 5329: \"lookin'\", 5330: 'stagehand:', 5331: 'calmly', 5332: 'kissed', 5333: 'child', 5334: 'sings', 5335: 'doll', 5336: 'platinum', 5337: 'five-fifteen', 5338: 'play/', 5339: 'mexicans', 5340: 'veux', 5341: 'upsetting', 5342: 'crew', 5343: 'spacey', 5344: 'occasion', 5345: 'declan_desmond:', 5346: 'we-we-we', 5347: 'vacations', 5348: 'you', 5349: 'school', 5350: 'bets', 5351: 'kadlubowski', 5352: 'ways', 5353: 'developed', 5354: 'kentucky', 5355: 'haiti', 5356: 'involving', 5357: 'buffet', 5358: 'do', 5359: 'short', 5360: 'brainiac', 5361: 'killer', 5362: 'per', 5363: 'example', 5364: 'alls', 5365: \"c'mere\", 5366: 'walked', 5367: 'pushes', 5368: 'text', 5369: 'countryman', 5370: 'commission', 5371: 'terminated', 5372: 'conversion', 5373: 'lifts', 5374: 'kodos:', 5375: 'oak', 5376: \"'now\", 5377: 'impress', 5378: 'discriminate', 5379: 'knit', 5380: 'mock', 5381: 'reserve', 5382: \"murphy's\", 5383: 'snake', 5384: 'lord', 5385: 'freaky', 5386: 'religious', 5387: 'comfortable', 5388: 'bon-bons', 5389: 'robin', 5390: 'moe-lennium', 5391: 'psst', 5392: 'gas', 5393: 'asks', 5394: 'maitre', 5395: 'break-up', 5396: 'yammering', 5397: 'boxcars', 5398: 'face', 5399: \"tester's\", 5400: 'jack', 5401: 'mindless', 5402: 'bear', 5403: 'lise:', 5404: 'energy', 5405: \"ya'\", 5406: 'grub', 5407: 'nobel', 5408: 'aboard', 5409: 'mine', 5410: \"kiddin'\", 5411: 'measure', 5412: 'therapist', 5413: 'yap', 5414: 'helped', 5415: 'ventriloquism', 5416: 'each', 5417: 'grave', 5418: 'utility', 5419: 'cell', 5420: 'all:', 5421: 'cotton', 5422: 'tommy', 5423: 'well-wisher', 5424: 'venom', 5425: 'adeleine', 5426: 'brakes', 5427: 'chair', 5428: 'nicer', 5429: 'brings', 5430: 'sexy', 5431: 'hillbillies', 5432: 'champion', 5433: 'generosity', 5434: 'loved', 5435: 'chapter', 5436: 'punching', 5437: 'lights', 5438: 'eighty-one', 5439: 'rom', 5440: 'nbc', 5441: 'burger', 5442: 'jig', 5443: 'lonely', 5444: \"squeezin'\", 5445: 'yells', 5446: 'camera', 5447: 'focused', 5448: 'radical', 5449: 'felt', 5450: 'bupkus', 5451: 'red', 5452: 'starve', 5453: 'show', 5454: 'flown', 5455: 'stomach', 5456: 'end', 5457: 'appointment', 5458: 'author', 5459: \"school's\", 5460: 'lookalike:', 5461: '<semicolon>', 5462: 'yep', 5463: 'science', 5464: 'talkers', 5465: 'patient', 5466: 'ball', 5467: 'health', 5468: 'army', 5469: 'won', 5470: 'buying', 5471: 'blew', 5472: 'hyper-credits', 5473: 'karaoke', 5474: 'tv_announcer:', 5475: 'cesss', 5476: 'beers', 5477: 'priceless', 5478: \"world's\", 5479: 'david', 5480: 'pets', 5481: 'puff', 5482: 'dea-d-d-dead', 5483: 'goodnight', 5484: 'used', 5485: 'available', 5486: 'as', 5487: 'activity', 5488: 'media', 5489: 'griffith', 5490: 'tomorrow', 5491: 'reach', 5492: 'straining', 5493: 'ear', 5494: 'xx', 5495: 'scram', 5496: 'suspicious', 5497: 'half', 5498: \"springfield's\", 5499: 'gator', 5500: 'tasimeter', 5501: 'pernt', 5502: 'aerosmith', 5503: 'online', 5504: 'bury', 5505: 'dallas', 5506: 'drives', 5507: 'presidential', 5508: 'and/or', 5509: \"fans'll\", 5510: 'stagy', 5511: 'dictating', 5512: 'raising', 5513: 'mel', 5514: 'hemoglobin', 5515: 'sincerely', 5516: 'rent', 5517: 'went', 5518: 'gayer', 5519: 'combines', 5520: 'bill', 5521: 'whoo', 5522: 'later', 5523: 'little', 5524: \"ridin'\", 5525: 'accident', 5526: 'everyday', 5527: 'takes', 5528: 'law', 5529: 'learn', 5530: 'expect', 5531: 'memories', 5532: 'in-ground', 5533: \"tv's\", 5534: 'obvious', 5535: 'deer', 5536: \"they'd\", 5537: 'save', 5538: 'tolerance', 5539: 'hates', 5540: 'suit', 5541: 'grenky', 5542: \"washin'\", 5543: 'bull', 5544: 'mmm', 5545: 'envy-tations', 5546: 'badmouth', 5547: 'ladder', 5548: \"o'clock\", 5549: 'this:', 5550: 'diets', 5551: 'tender', 5552: 'bee', 5553: 'storms', 5554: 'cheap', 5555: 'legoland', 5556: 'closes', 5557: 'masks', 5558: 'bindle', 5559: 'cars', 5560: 'nuts', 5561: '_marvin_monroe:', 5562: \"shootin'\", 5563: 'pian-ee', 5564: 'world', 5565: 'sold', 5566: 'punch', 5567: 'grab', 5568: 'based', 5569: 'case', 5570: 'glorious', 5571: 'laws', 5572: 'whoopi', 5573: 'bothered', 5574: 'sizes', 5575: 'duff_announcer:', 5576: 'dory', 5577: 'play', 5578: 'coal', 5579: 'your', 5580: 'blocked', 5581: 'coy', 5582: 'pond', 5583: 'tomatoes', 5584: 'cupid', 5585: 'derek', 5586: 'despite', 5587: 'remember', 5588: 'stacey', 5589: 'items', 5590: 'aggie', 5591: 'manjula_nahasapeemapetilon:', 5592: 'exit', 5593: 'wing', 5594: 'tavern', 5595: 'finance', 5596: 'fourteen:', 5597: 'hide', 5598: 'victorious', 5599: 'cauliflower', 5600: 'higher', 5601: 'and', 5602: 'disappeared', 5603: 'contract', 5604: 'shipment', 5605: 'cover', 5606: 'managing', 5607: 'infor', 5608: 'whoever', 5609: 'nap', 5610: 'fact', 5611: 'malabar', 5612: 'unattractive', 5613: 'upset', 5614: 'canyoner-oooo', 5615: 'than', 5616: 'eaters', 5617: 'all-american', 5618: 'territorial', 5619: 'gags', 5620: 'sponge:', 5621: 'motorcycle', 5622: 'telling', 5623: 'terrace', 5624: 'collapse', 5625: 'regulars', 5626: 'cowboys', 5627: 'jeff', 5628: 'fired', 5629: 'politicians', 5630: 'sky', 5631: 'recently', 5632: \"i-i'll\", 5633: 'peabody', 5634: 'sticking', 5635: 'so', 5636: 'mess', 5637: 'lead', 5638: 'wade_boggs:', 5639: 'disappear', 5640: '_julius_hibbert:', 5641: 'furry', 5642: 'ripping', 5643: 'distaste', 5644: 'guilt', 5645: 'irrelevant', 5646: 'advance', 5647: 'series', 5648: 'streetlights', 5649: \"raggin'\", 5650: 'since', 5651: 'recreate', 5652: 'fiction', 5653: 'wish', 5654: 'daniel', 5655: 'issues', 5656: 'edna', 5657: 'with', 5658: 'sheet', 5659: 'leprechaun', 5660: 'handling', 5661: 'tried', 5662: 'darjeeling', 5663: 'aside', 5664: 'chinese', 5665: 'pleasure', 5666: 'straighten', 5667: 'chicken', 5668: 'padre', 5669: 'worthless', 5670: 'butter', 5671: 'exchanged', 5672: 'bolting', 5673: 'motel', 5674: 'ow', 5675: 'access', 5676: 'macaulay', 5677: 'excellent', 5678: 'good-looking', 5679: 'saint', 5680: 'the', 5681: 'mob', 5682: 'possessions', 5683: 'important', 5684: 'majority', 5685: 'vampires', 5686: 'charming', 5687: 'teddy', 5688: 'smell', 5689: 'midge:', 5690: 'veteran', 5691: 'deserve', 5692: 'worried', 5693: \"snappin'\", 5694: 'street', 5695: 'lush', 5696: 'wholeheartedly', 5697: 'march', 5698: 'inches', 5699: 'birthplace', 5700: 'quimby', 5701: 'spit', 5702: 'ignoring', 5703: 'whup', 5704: 'encouraging', 5705: 'chill', 5706: 'surgery', 5707: 'hippies', 5708: 'drollery', 5709: 'clear', 5710: 'sea', 5711: 'flourish', 5712: \"mcstagger's\", 5713: 'sorry', 5714: 'large', 5715: 'hangover', 5716: 'barkeep', 5717: 'erasers', 5718: 'superdad', 5719: 'hotel', 5720: 'yo', 5721: 'ready', 5722: 'ali', 5723: 'real', 5724: 'totalitarians', 5725: 'balls', 5726: 'springfield', 5727: 'stan', 5728: 'exchange', 5729: 'flaking', 5730: 'don', 5731: 'bottoms', 5732: 'amanda', 5733: 'at', 5734: \"homer's\", 5735: 'faint', 5736: 'super', 5737: 'flustered', 5738: 'actors', 5739: 'hundred', 5740: 'thirty-five', 5741: \"tab's\", 5742: 'booze', 5743: 'office', 5744: 'thomas', 5745: 'roomy', 5746: 'paparazzo', 5747: 'pope', 5748: 'sucker', 5749: 'jackass', 5750: 'hop', 5751: 'desire', 5752: 'wizard', 5753: 'bird', 5754: 'intention', 5755: 'affectations', 5756: \"somethin':\", 5757: 'liable', 5758: \"bashir's\", 5759: 'bail', 5760: 'eggshell', 5761: 'curse', 5762: 'troy_mcclure:', 5763: 'sagacity', 5764: 'feed', 5765: 'anti-lock', 5766: 'bam', 5767: 'catholic', 5768: \"doctor's\", 5769: 'selective', 5770: 'drawing', 5771: 'dryer', 5772: 'rods', 5773: 'occasional', 5774: 'bill_james:', 5775: 'sports_announcer:', 5776: 'tones', 5777: 'frogs', 5778: 'managed', 5779: 'owes', 5780: \"one's\", 5781: 'generally', 5782: 'nice', 5783: 'incarcerated', 5784: 'deacon', 5785: 'barn', 5786: 'lowering', 5787: 'apartment', 5788: 'hats', 5789: 'pro', 5790: 'duty', 5791: 'latin', 5792: 'happiness', 5793: 'speed', 5794: '/mr', 5795: 'those', 5796: 'sell', 5797: 'swishkabobs', 5798: 'war', 5799: 'artist', 5800: 'wham', 5801: 'lives', 5802: \"didn't\", 5803: 'park', 5804: 'weeks', 5805: 'glitterati', 5806: 'fast', 5807: 'curiosity', 5808: 'bring', 5809: 'most', 5810: 'influence', 5811: \"somebody's\", 5812: 'restaurants', 5813: 'payday', 5814: 'oh', 5815: 'tough', 5816: 'hubub', 5817: 'mug', 5818: 'various', 5819: 'covering', 5820: 'tree', 5821: 'tongue', 5822: 'snackie', 5823: 'tribute', 5824: 'turkey', 5825: 'notch', 5826: '_eugene_blatz:', 5827: 'benefits', 5828: 'third', 5829: 'ooo', 5830: 'ruled', 5831: 'fires', 5832: 'touch', 5833: 'actor', 5834: 'hail', 5835: 'regretted', 5836: 'civil', 5837: 'screams', 5838: 'buffalo', 5839: 'slap', 5840: 'uhhhh', 5841: 'wore', 5842: 'mocking', 5843: 'oil', 5844: 'jar', 5845: 'senators', 5846: 'worldview', 5847: 'honey', 5848: 'accepting', 5849: 'authenticity', 5850: 'upn', 5851: 'professor', 5852: 'reaction', 5853: 'single', 5854: 'rings', 5855: 'charter', 5856: 'dealer', 5857: 'says', 5858: 'ruined', 5859: 'rap', 5860: 'county', 5861: '7g', 5862: 'othello', 5863: 'handed', 5864: 'truth', 5865: ':', 5866: 'word', 5867: \"city's\", 5868: 'issuing', 5869: \"hobo's\", 5870: 'squeeze', 5871: 'hellhole', 5872: \"'ere\", 5873: \"blowin'\", 5874: 'stirring', 5875: 'louse', 5876: 'entering', 5877: 'president', 5878: 'breaking', 5879: 'hook', 5880: 'huggenkiss', 5881: 'landlord', 5882: '2nd_voice_on_transmitter:', 5883: 'missing', 5884: 'tapered', 5885: 'diablo', 5886: 'queer', 5887: 'miss', 5888: 'spinning', 5889: 'scam', 5890: 'frustrated', 5891: 'sam:', 5892: 'toys', 5893: 'funeral', 5894: 'suspect', 5895: 'limber', 5896: '91', 5897: \"calf's\", 5898: 'doubt', 5899: 'problem', 5900: 'wildfever', 5901: 'organ', 5902: 'bump', 5903: 'undies', 5904: 'agreement', 5905: 'manager', 5906: \"stealin'\", 5907: 'luxury', 5908: 'bauer', 5909: 'walther_hotenhoffer:', 5910: 'hmm', 5911: 'andy', 5912: 'prices', 5913: 'asses', 5914: 'bushes', 5915: 'pages', 5916: 'peanuts', 5917: 'met', 5918: 'probably', 5919: 'souped', 5920: 'notices', 5921: 'weep', 5922: 'corporation', 5923: 'forward', 5924: 'fair', 5925: 'surgeonnn', 5926: 'tickets', 5927: 'treats', 5928: 'rubs', 5929: 'next', 5930: 'temples', 5931: 'deadly', 5932: 'pretentious_rat_lover:', 5933: 'headhunters', 5934: 'pre-recorded', 5935: 'effervescent', 5936: 'premiering', 5937: 'enter', 5938: 'tuna', 5939: 'woo', 5940: 'specializes', 5941: 'hoo', 5942: 'a-a-b-b-a', 5943: 'crowded', 5944: 'blind', 5945: 'confident', 5946: 'awfully', 5947: 'al_gore:', 5948: 'mistresses', 5949: 'rapidly', 5950: 'offended', 5951: 'radio', 5952: 'ralphie', 5953: 'fustigate', 5954: \"wouldn't-a\", 5955: 'jerk-ass', 5956: 'fonzie', 5957: 'tablecloth', 5958: 'feeling', 5959: 'hitchhike', 5960: 'synthesize', 5961: 'angry', 5962: 'dejected', 5963: 'larry', 5964: 'twentieth', 5965: 'leno', 5966: 'dictator', 5967: 'federal', 5968: 'motto', 5969: \"'im\", 5970: 'laughter', 5971: 'jelly', 5972: 'payback', 5973: 'nope', 5974: 'minimum', 5975: 'philip', 5976: 'tired', 5977: 'asking', 5978: 'beast', 5979: 'minors', 5980: 'st', 5981: 'sealed', 5982: 'foil', 5983: 'laughing', 5984: 'knowledge', 5985: 'dramatic', 5986: 'dear', 5987: 'moustache', 5988: 'shrieks', 5989: 'thoughts', 5990: 'alien', 5991: 'brilliant', 5992: 'life-sized', 5993: 'moonnnnnnnn', 5994: 'susie-q', 5995: 'open-casket', 5996: 'muffled', 5997: 'locked', 5998: 'else', 5999: 'involved', 6000: 'attach', 6001: 'fork', 6002: 'housework', 6003: 'united', 6004: 'wiener', 6005: 'old_jewish_man:', 6006: 'canoodling', 6007: 'ferry', 6008: 'rector', 6009: 'reckless', 6010: 'mike_mills:', 6011: 'delivery_man:', 6012: 'manage', 6013: 'writer:', 6014: 'neither', 6015: 'coins', 6016: 'though', 6017: 'toss', 6018: 'wad', 6019: 'beloved', 6020: 'trapped', 6021: 'repeating', 6022: 'cheesecake', 6023: 'krabappel', 6024: 'joining', 6025: 'blob', 6026: 'politics', 6027: 'spit-backs', 6028: 'water', 6029: 'hibachi', 6030: 'coyly', 6031: 'beatings', 6032: 'william', 6033: 'improv', 6034: 'larson', 6035: 'resist', 6036: 'lovely', 6037: 'fragile', 6038: 'sweat', 6039: 'hmmm', 6040: 'plow', 6041: 'luckily', 6042: 'kept', 6043: 'cheated', 6044: 'be', 6045: 'poetry', 6046: 'stinks', 6047: 'matter-of-fact', 6048: 'random', 6049: 'na', 6050: 'beer:', 6051: 'ourselves', 6052: 'joey', 6053: 'ugh', 6054: 'grumbling', 6055: 'politician', 6056: 'tempting', 6057: 'domed', 6058: 'si-lent', 6059: 'director', 6060: 'snow', 6061: 'healthier', 6062: 'moving', 6063: 'johnny', 6064: 'rip', 6065: 'listens', 6066: 'best', 6067: 'looking', 6068: 'worldly', 6069: 'represents', 6070: 'home', 6071: 'breaks', 6072: 'quit', 6073: 'twenty-two', 6074: 'space-time', 6075: 'works', 6076: 'agree', 6077: 'knife', 6078: 'walks', 6079: 'tapping', 6080: 'something', 6081: 'penmanship', 6082: 'attend', 6083: 'together', 6084: 'baseball', 6085: 'bank', 6086: 'kl5-4796', 6087: 'joined', 6088: 'launch', 6089: 'coined', 6090: 'alec_baldwin:', 6091: 'break', 6092: 'u2:', 6093: 'temper', 6094: 'jubilant', 6095: 'driver', 6096: 'upbeat', 6097: 'sympathizer', 6098: 'percent', 6099: 'bottom', 6100: \"guy's\", 6101: 'lofty', 6102: 'just', 6103: 'ireland', 6104: 'slender', 6105: 'wound', 6106: 'carl', 6107: 'jewelry', 6108: 'self', 6109: 'direction', 6110: \"dolph's_dad:\", 6111: 'paid', 6112: 'crippling', 6113: 'sounded', 6114: 'disapproving', 6115: 'reactions', 6116: 'hustle', 6117: 'turlet', 6118: 'degradation', 6119: 'longest', 6120: 'sense', 6121: 'then', 6122: 'misconstrue', 6123: 'handwriting', 6124: 'bald', 6125: 'vermont', 6126: 'ratted', 6127: 'grieving', 6128: 'handshake', 6129: 'slick', 6130: 'hidden', 6131: 'gin-slingers', 6132: 'pall', 6133: 'terrible', 6134: 'stats', 6135: 'shells', 6136: 'surprised/thrilled', 6137: 'car', 6138: 'winner', 6139: 'cursed', 6140: 'night', 6141: 'driveability', 6142: 'awe', 6143: 'whispered', 6144: 'para', 6145: 'sadistic_barfly:', 6146: 'act', 6147: \"kearney's_dad:\", 6148: 'fuss', 6149: 'occurrence', 6150: 'itself', 6151: 'completing', 6152: 'leaving', 6153: 'agent_johnson:', 6154: \"tramp's\", 6155: 'pad', 6156: 'penny', 6157: 'watashi', 6158: 'logos', 6159: 'supports', 6160: 'heart', 6161: 'hopeful', 6162: 'is:', 6163: 'brusque', 6164: 'sequel', 6165: 'blade', 6166: 'absentmindedly', 6167: 'step', 6168: 'dive', 6169: 'exhaust', 6170: 'strawberry', 6171: 'all-all-all', 6172: 'banks', 6173: 'craphole', 6174: 'recent', 6175: 'much', 6176: 'hourly', 6177: 'repressed', 6178: 'sighs', 6179: 'possibly', 6180: 'splendid', 6181: 'wienerschnitzel', 6182: 'ease', 6183: 'paying', 6184: 'voters', 6185: \"dimwit's\", 6186: 'shades', 6187: 'bits', 6188: 'bigger', 6189: \"i-i'm\", 6190: 'hearts', 6191: 'year', 6192: 'peace', 6193: 'macho', 6194: 'grammy', 6195: \"pullin'\", 6196: 'ayyy', 6197: 'rich', 6198: 'grade', 6199: 'pants', 6200: 'toe', 6201: 'shreda', 6202: 'friend', 6203: 'gus', 6204: 'browns', 6205: 'race', 6206: 'reconsidering', 6207: 'blossoming', 6208: 'illegal', 6209: 'served', 6210: 'steal', 6211: 'fdic', 6212: 'whatcha', 6213: 'looting', 6214: \"they'll\", 6215: 'movies', 6216: 'cute', 6217: 'leathery', 6218: 'chapstick', 6219: 'waterfront', 6220: 'poet', 6221: 'scores', 6222: 'committee', 6223: 'floated', 6224: 'loafers', 6225: 'tasty', 6226: \"donatin'\", 6227: 'simplest', 6228: 'calling', 6229: 'picky', 6230: 'dynamite', 6231: 'filed', 6232: 'boisterous', 6233: 'abusive', 6234: 'amazed', 6235: 'beard', 6236: 'dislike', 6237: 'stink', 6238: 'poking', 6239: 'permitting', 6240: \"heat's\", 6241: 'hateful', 6242: \"o'\", 6243: 'twelve-step', 6244: 'badges', 6245: \"tonight's\", 6246: 'rancid', 6247: 'barflies', 6248: 'harm', 6249: 'worked', 6250: 'cruel', 6251: 'moe-heads', 6252: 'plotz', 6253: 'smallest', 6254: 'ons', 6255: \"wearin'\", 6256: 'hoagie', 6257: \"b-52's:\", 6258: 'johnny_carson:', 6259: 'ziffcorp', 6260: 'gasps', 6261: 'cricket', 6262: 'coughs', 6263: 'sugar-free', 6264: 'barbed', 6265: 'sure', 6266: 'bar:', 6267: 'selma', 6268: 'actress', 6269: 'patty', 6270: 'something:', 6271: 'choices', 6272: 'everywhere', 6273: 'figured', 6274: 'sports', 6275: 'ing', 6276: \"wouldn't\", 6277: 'fad', 6278: 'zoomed', 6279: 'hooch', 6280: 'three-man', 6281: 'gil_gunderson:', 6282: 'come', 6283: 'passion', 6284: 'fierce', 6285: 'ralph_wiggum:', 6286: 'nasty', 6287: 'off', 6288: 'buy', 6289: \"pope's\", 6290: 'shop', 6291: 'trucks', 6292: 'four', 6293: 'streetcorner', 6294: 'heh-heh', 6295: 'protestantism', 6296: 'bag', 6297: 'wants', 6298: 'wrap', 6299: 'doom', 6300: 'ruby-studded', 6301: 'winnings', 6302: \"tony's\", 6303: 'th-th-th-the', 6304: 'career', 6305: 'grope', 6306: 'detective_homer_simpson:', 6307: 'bow', 6308: 'settled', 6309: 'kemi:', 6310: 'brightening', 6311: 'mole', 6312: 'chosen', 6313: 'edna_krabappel-flanders:', 6314: 'honest', 6315: 'bold', 6316: 'scratching', 6317: 'tie', 6318: 'eight', 6319: \"cupid's\", 6320: 'wooden', 6321: 'whoa', 6322: 'kicks', 6323: 'history', 6324: 'hardy', 6325: 'that', 6326: 'hurts', 6327: 'thoughtful', 6328: 'considering:', 6329: 'lips', 6330: 'barter', 6331: 'whether', 6332: 'keep', 6333: 'belches', 6334: 'betty:', 6335: 'cage', 6336: 'worse', 6337: 'hurt', 6338: 'monorails', 6339: 'carl_carlson:', 6340: 'pure', 6341: 'sanitary', 6342: 'cletus_spuckler:', 6343: 'celebrate', 6344: 'working', 6345: 'cheered', 6346: 'mini-dumpsters', 6347: 'snail', 6348: 'found', 6349: 'waste', 6350: 'stay', 6351: 'doy', 6352: 'gel', 6353: 'bulldozing', 6354: 'roof', 6355: 'sweetheart', 6356: \"where's\", 6357: 'appreciated', 6358: 'underbridge', 6359: 'snatch', 6360: 'sobs', 6361: 'international', 6362: 'finished', 6363: 'whaaa', 6364: 'upon', 6365: 'ha', 6366: \"don'tcha\", 6367: 'aww', 6368: 'friday', 6369: 'motor', 6370: 'matter', 6371: 'gator:', 6372: 'defected', 6373: 'shores', 6374: 'thankful', 6375: 'ura', 6376: 'scientists', 6377: 'trees', 6378: 'smile', 6379: \"cont'd:\", 6380: 'source', 6381: 'trenchant', 6382: 'windshield', 6383: 'jam', 6384: 'darts', 6385: 'buzziness', 6386: 'helpless', 6387: \"can'tcha\", 6388: 'me', 6389: 'deals', 6390: 'ummmmmmmmm', 6391: 'dizer', 6392: 'is', 6393: 'scrutinizing', 6394: 'düff', 6395: 'unfamiliar', 6396: \"liftin'\", 6397: 'nevada', 6398: 'jerking', 6399: 'bursts', 6400: 'presto:', 6401: \"tap-pullin'\", 6402: 'hunky', 6403: 'eighty-five', 6404: 's-a-u-r-c-e', 6405: 'boxing', 6406: 'counterfeit', 6407: 'barely', 6408: 'nameless', 6409: 'reentering', 6410: 'cold', 6411: 'bike', 6412: 'buddies', 6413: 'quarry', 6414: 'pronounce', 6415: 'sweetie', 6416: 'sugar', 6417: 'exultant', 6418: 'air', 6419: 'blow', 6420: 'de', 6421: 'backward', 6422: 'wiping', 6423: 'lessons', 6424: 'compared', 6425: 'upgrade', 6426: 'soup', 6427: '35', 6428: 'mt', 6429: \"usin'\", 6430: 'glee', 6431: 'heavens', 6432: 'ne', 6433: 'cheering', 6434: 'startled', 6435: 'every', 6436: 'fist', 6437: 'huddle', 6438: 'trench', 6439: 'low', 6440: 'expert', 6441: 'rain', 6442: 'comic', 6443: 'ore', 6444: 'said', 6445: 'kindly', 6446: 'tense', 6447: 'life-threatening', 6448: 'thnord', 6449: 'horribilis', 6450: 'wh', 6451: 'carnival', 6452: 'discussing', 6453: 'mudflap', 6454: 'huh', 6455: \"moe's\", 6456: 'tanked-up', 6457: 'dude', 6458: 'perón', 6459: 'predictable', 6460: 'refiero', 6461: \"i'm\", 6462: 'life', 6463: 'son', 6464: 'grammys', 6465: 'duff', 6466: 'texas', 6467: 'plaintive', 6468: 'internet', 6469: 'sissy', 6470: 'billiard', 6471: 'set', 6472: 'against', 6473: 'email', 6474: 'funny', 6475: 'are', 6476: 'watching', 6477: 'fox_mulder:', 6478: 'chance', 6479: 'raise', 6480: 'wave', 6481: 'box', 6482: 'harmony', 6483: 'whatever', 6484: 'to', 6485: 'yello', 6486: 'sitting', 6487: 'hair', 6488: 'clears', 6489: 'knives', 6490: 'wobbly', 6491: 'aw', 6492: \"dog's\", 6493: 'self-made', 6494: 'clock', 6495: 'kirk', 6496: 'belong', 6497: 'homie', 6498: 'instead', 6499: 'face-macer', 6500: 'chip', 6501: 'warranty', 6502: 'coms', 6503: 'private', 6504: 'begin', 6505: 'stays', 6506: 'parenting', 6507: 'please/', 6508: \"comin'\", 6509: 'goes', 6510: 'runs', 6511: 'desperate', 6512: 'puzzle', 6513: 'eh', 6514: '&', 6515: 'touches', 6516: \"tomorrow's\", 6517: \"breakin'\", 6518: 'wowww', 6519: 'lay', 6520: 'switched', 6521: 'awed', 6522: \"spyin'\", 6523: 'isle', 6524: 'musketeers', 6525: 'boo', 6526: \"queen's\", 6527: 'lately', 6528: 'rockers', 6529: \"sippin'\", 6530: \"year's\", 6531: 'sleeps', 6532: \"how're\", 6533: 'quiet', 6534: 'sells', 6535: 'radiation', 6536: 'copy', 6537: 'strictly', 6538: \"seein'\", 6539: 'fail', 6540: 'think', 6541: 'jebediah', 6542: 'cadillac', 6543: 'delicately', 6544: \"thinkin'\", 6545: 'kick', 6546: 'whistles', 6547: 'sexton', 6548: 'eyeing', 6549: 'cowardly', 6550: 'positive', 6551: 'knowing', 6552: 'nitwit', 6553: 'one', 6554: 'will', 6555: 'realizing', 6556: 'blank', 6557: 'needs', 6558: 'clown-like', 6559: 'betrayed', 6560: 'hardhat', 6561: 'spelling', 6562: 'homeland', 6563: 'hoped', 6564: 'operation', 6565: 'clean', 6566: 'delts', 6567: 'natured', 6568: 'mm-hmm', 6569: 'jerry', 6570: 'safer', 6571: 'breakdown', 6572: 'point', 6573: 'lou', 6574: 'germs', 6575: 'splash', 6576: 'dumb-asses', 6577: 'killing', 6578: 'seemed', 6579: 'cummerbund', 6580: 'standards', 6581: 'bowie', 6582: 'easier', 6583: 'ho-ly', 6584: 'chief', 6585: 'pinchpenny', 6586: 'design', 6587: 'doing', 6588: 'el', 6589: 'customers-slash-only', 6590: \"jackpot's\", 6591: 'beneath', 6592: 'blinded', 6593: 'r', 6594: 'recorded', 6595: 'manuel', 6596: 'cent', 6597: 'clips', 6598: '-ry', 6599: 'owe', 6600: 'wakede', 6601: 'disco_stu:', 6602: 'mmm-hmm', 6603: 'grow', 6604: 'concerned', 6605: 'sun', 6606: \"playin'\", 6607: 'above', 6608: 'call', 6609: 'christian', 6610: 'deal', 6611: 'brother-in-law', 6612: 'bellyaching', 6613: \"edna's\", 6614: 'try', 6615: 'mrs', 6616: 'portentous', 6617: 'soap', 6618: 'plug', 6619: 'blimp', 6620: 'teach', 6621: 'lobster-based', 6622: 'guy', 6623: 'incognito', 6624: 'f-l-a-n-r-d-s', 6625: 'fire_inspector:', 6626: 'wish-meat', 6627: 'hospital', 6628: 'fellow', 6629: 'damage', 6630: 'comedy', 6631: 'dunno', 6632: 'exclusive:', 6633: 'robot', 6634: 'ivana', 6635: 'yell', 6636: 'chunk', 6637: 'sticking-place', 6638: 'koi', 6639: 'stirrers', 6640: 'heaving', 6641: 'rules', 6642: 'hers', 6643: '<quotation_mark>', 6644: 'boozebag', 6645: 'american', 6646: 'game', 6647: 'irs', 6648: 'sniffles', 6649: 'snitch', 6650: 'highway', 6651: 'unexplained', 6652: 'press', 6653: 'festival', 6654: 'where', 6655: 'escort', 6656: 'indifference', 6657: 'holiday', 6658: 'afloat', 6659: 'app', 6660: 'oughta', 6661: 'glove', 6662: \"'em\", 6663: 'foot', 6664: 'sumatran', 6665: 'insults', 6666: 'beep', 6667: 'shorter', 6668: \"messin'\", 6669: 'shocked', 6670: 'cure', 6671: 'failure', 6672: 'tons', 6673: 'dessert', 6674: 'drains', 6675: 'mimes', 6676: 'romance', 6677: 'service', 6678: 'bread', 6679: 'boned', 6680: 'ingrates', 6681: 'numeral', 6682: 'fontaine', 6683: 'it', 6684: 'besides', 6685: 'decide', 6686: 'avenue', 6687: 'snorts', 6688: 'crawl', 6689: 'talked', 6690: 'darkest', 6691: 'options', 6692: 'wipes', 6693: 'colonel:', 6694: 'swimming', 6695: 'cozies', 6696: 'amazing', 6697: 'wheeeee', 6698: 'woodchucks', 6699: \"idea's\", 6700: 'older', 6701: '_timothy_lovejoy:', 6702: 'reporter', 6703: 'ripped', 6704: \"yesterday's\", 6705: 'top', 6706: 'zone', 6707: 'easy-going', 6708: 'edner', 6709: 'stonewall', 6710: 'cecil', 6711: 'stop', 6712: 'side:', 6713: 'gag', 6714: 'procedure', 6715: 'tidy', 6716: 'situation', 6717: 'hunting', 6718: 'sacrifice', 6719: 'corporate', 6720: 'ivory', 6721: 'understood', 6722: 'hungry', 6723: 'pigtown', 6724: 'level', 6725: 'skinner', 6726: 'twerpy', 6727: 'flophouse', 6728: 'application', 6729: 'california', 6730: 'again', 6731: 'created', 6732: 'plans', 6733: \"hangin'\", 6734: 'ohmygod', 6735: 'rule', 6736: 'damned', 6737: 'near', 6738: 'lindsay', 6739: \"phone's\", 6740: 'first', 6741: 'hairs', 6742: 'computer', 6743: 'hans:', 6744: 'calculate', 6745: 'herself', 6746: 'p-k', 6747: 'judgments', 6748: 'falsetto', 6749: 'suru', 6750: 'sits', 6751: 'firmly', 6752: 'hitler', 6753: 'name', 6754: 'away', 6755: 'website', 6756: 'remorseful', 6757: 'handoff', 6758: 'gift:', 6759: 'reporter:', 6760: 'disturbance', 6761: 'background', 6762: 'bide', 6763: 'of', 6764: 'sass', 6765: 'seems', 6766: 'tee', 6767: 'corpses', 6768: 'panties', 6769: 'eightball', 6770: 'nickel', 6771: 'ya', 6772: 'cousin', 6773: 'perverted', 6774: 'space', 6775: 'dateline:', 6776: 'pause', 6777: 'winch', 6778: 'violations'}\n"
     ]
    }
   ],
   "source": [
    "\"\"\"\n",
    "DON'T MODIFY ANYTHING IN THIS CELL\n",
    "\"\"\"\n",
    "# Preprocess Training, Validation, and Testing Data\n",
    "helper.preprocess_and_save_data(data_dir, token_lookup, create_lookup_tables)"
   ]
  },
  {
   "cell_type": "markdown",
   "metadata": {
    "deletable": true,
    "editable": true
   },
   "source": [
    "# Check Point\n",
    "This is your first checkpoint. If you ever decide to come back to this notebook or have to restart the notebook, you can start from here. The preprocessed data has been saved to disk."
   ]
  },
  {
   "cell_type": "code",
   "execution_count": 7,
   "metadata": {
    "collapsed": false,
    "deletable": true,
    "editable": true
   },
   "outputs": [],
   "source": [
    "\"\"\"\n",
    "DON'T MODIFY ANYTHING IN THIS CELL\n",
    "\"\"\"\n",
    "import helper\n",
    "import numpy as np\n",
    "import problem_unittests as tests\n",
    "\n",
    "int_text, vocab_to_int, int_to_vocab, token_dict = helper.load_preprocess()"
   ]
  },
  {
   "cell_type": "markdown",
   "metadata": {
    "deletable": true,
    "editable": true
   },
   "source": [
    "## Build the Neural Network\n",
    "You'll build the components necessary to build a RNN by implementing the following functions below:\n",
    "- get_inputs\n",
    "- get_init_cell\n",
    "- get_embed\n",
    "- build_rnn\n",
    "- build_nn\n",
    "- get_batches\n",
    "\n",
    "### Check the Version of TensorFlow and Access to GPU"
   ]
  },
  {
   "cell_type": "code",
   "execution_count": 8,
   "metadata": {
    "collapsed": false,
    "deletable": true,
    "editable": true
   },
   "outputs": [
    {
     "name": "stdout",
     "output_type": "stream",
     "text": [
      "TensorFlow Version: 1.0.0\n",
      "Default GPU Device: /gpu:0\n"
     ]
    }
   ],
   "source": [
    "\"\"\"\n",
    "DON'T MODIFY ANYTHING IN THIS CELL\n",
    "\"\"\"\n",
    "from distutils.version import LooseVersion\n",
    "import warnings\n",
    "import tensorflow as tf\n",
    "\n",
    "# Check TensorFlow Version\n",
    "assert LooseVersion(tf.__version__) >= LooseVersion('1.0'), 'Please use TensorFlow version 1.0 or newer'\n",
    "print('TensorFlow Version: {}'.format(tf.__version__))\n",
    "\n",
    "# Check for a GPU\n",
    "if not tf.test.gpu_device_name():\n",
    "    warnings.warn('No GPU found. Please use a GPU to train your neural network.')\n",
    "else:\n",
    "    print('Default GPU Device: {}'.format(tf.test.gpu_device_name()))"
   ]
  },
  {
   "cell_type": "markdown",
   "metadata": {
    "deletable": true,
    "editable": true
   },
   "source": [
    "### Input\n",
    "Implement the `get_inputs()` function to create TF Placeholders for the Neural Network.  It should create the following placeholders:\n",
    "- Input text placeholder named \"input\" using the [TF Placeholder](https://www.tensorflow.org/api_docs/python/tf/placeholder) `name` parameter.\n",
    "- Targets placeholder\n",
    "- Learning Rate placeholder\n",
    "\n",
    "Return the placeholders in the following the tuple `(Input, Targets, LearingRate)`"
   ]
  },
  {
   "cell_type": "code",
   "execution_count": 9,
   "metadata": {
    "collapsed": false,
    "deletable": true,
    "editable": true
   },
   "outputs": [
    {
     "name": "stdout",
     "output_type": "stream",
     "text": [
      "Tests Passed\n"
     ]
    }
   ],
   "source": [
    "def get_inputs():\n",
    "    \"\"\"\n",
    "    Create TF Placeholders for input, targets, and learning rate.\n",
    "    :return: Tuple (input, targets, learning rate)\n",
    "    \"\"\"\n",
    "    # TODO: Implement Function\n",
    "    \n",
    "    Input = tf.placeholder(tf.int32, [None, None], name='input')\n",
    "    Targets = tf.placeholder(tf.int32, [None, None], name='targets')\n",
    "    LearingRate = tf.placeholder(tf.float32, name='Learing_Rate')\n",
    "    \n",
    "    return Input, Targets, LearingRate\n",
    "\n",
    "\n",
    "\"\"\"\n",
    "DON'T MODIFY ANYTHING IN THIS CELL THAT IS BELOW THIS LINE\n",
    "\"\"\"\n",
    "tests.test_get_inputs(get_inputs)"
   ]
  },
  {
   "cell_type": "markdown",
   "metadata": {
    "deletable": true,
    "editable": true
   },
   "source": [
    "### Build RNN Cell and Initialize\n",
    "Stack one or more [`BasicLSTMCells`](https://www.tensorflow.org/api_docs/python/tf/contrib/rnn/BasicLSTMCell) in a [`MultiRNNCell`](https://www.tensorflow.org/api_docs/python/tf/contrib/rnn/MultiRNNCell).\n",
    "- The Rnn size should be set using `rnn_size`\n",
    "- Initalize Cell State using the MultiRNNCell's [`zero_state()`](https://www.tensorflow.org/api_docs/python/tf/contrib/rnn/MultiRNNCell#zero_state) function\n",
    "    - Apply the name \"initial_state\" to the initial state using [`tf.identity()`](https://www.tensorflow.org/api_docs/python/tf/identity)\n",
    "\n",
    "Return the cell and initial state in the following tuple `(Cell, InitialState)`"
   ]
  },
  {
   "cell_type": "code",
   "execution_count": 10,
   "metadata": {
    "collapsed": false,
    "deletable": true,
    "editable": true
   },
   "outputs": [
    {
     "data": {
      "text/plain": [
       "\"Next, we'll create our LSTM cells to use in the recurrent network (TensorFlow documentation). Here we are just \\ndefining what the cells look like. This isn't actually building the graph, just defining the type of cells we want \\nin our graph.\\nTo create a basic LSTM cell for the graph, you'll want to use tf.contrib.rnn.BasicLSTMCell. Looking at the function \\ndocumentation:\\ntf.contrib.rnn.BasicLSTMCell(num_units, forget_bias=1.0, input_size=None, state_is_tuple=True, activation=<function \\ntanh at 0x109f1ef28>)\\nyou can see it takes a parameter called num_units, the number of units in the cell, called lstm_size in this code. \\nSo then, you can write something like\\nlstm = tf.contrib.rnn.BasicLSTMCell(num_units)\\n\\nto create an LSTM cell with num_units. Next, you can add dropout to the cell with tf.contrib.rnn.DropoutWrapper. \\nThis just wraps the cell in another cell, but with dropout added to the inputs and/or outputs. It's a really \\nconvenient way to make your network better with almost no effort! So you'd do something like\\ndrop = tf.contrib.rnn.DropoutWrapper(cell, output_keep_prob=keep_prob)\\n\\nMost of the time, you're network will have better performance with more layers. That's sort of the magic of \\ndeep learning, adding more layers allows the network to learn really complex relationships. Again, there is a simple way to create multiple layers of LSTM cells with tf.contrib.rnn.MultiRNNCell:\\ncell = tf.contrib.rnn.MultiRNNCell([drop] * lstm_layers)\\n\\nHere, [drop] * lstm_layers creates a list of cells (drop) that is lstm_layers long. The MultiRNNCell wrapper \\nbuilds this into multiple layers of RNN cells, one for each cell in the list.\\nSo the final cell you're using in the network is actually multiple (or just one) LSTM cells with dropout. But \\nit all works the same from an achitectural viewpoint, just a more complicated graph in the cell.\\nExercise: Below, use tf.contrib.rnn.BasicLSTMCell to create an LSTM cell. Then, add drop out to it with \\ntf.contrib.rnn.DropoutWrapper. Finally, create multiple LSTM layers with tf.contrib.rnn.MultiRNNCell.\\n\\n\""
      ]
     },
     "execution_count": 10,
     "metadata": {},
     "output_type": "execute_result"
    }
   ],
   "source": [
    "\"\"\"Next, we'll create our LSTM cells to use in the recurrent network (TensorFlow documentation). Here we are just \n",
    "defining what the cells look like. This isn't actually building the graph, just defining the type of cells we want \n",
    "in our graph.\n",
    "To create a basic LSTM cell for the graph, you'll want to use tf.contrib.rnn.BasicLSTMCell. Looking at the function \n",
    "documentation:\n",
    "tf.contrib.rnn.BasicLSTMCell(num_units, forget_bias=1.0, input_size=None, state_is_tuple=True, activation=<function \n",
    "tanh at 0x109f1ef28>)\n",
    "you can see it takes a parameter called num_units, the number of units in the cell, called lstm_size in this code. \n",
    "So then, you can write something like\n",
    "lstm = tf.contrib.rnn.BasicLSTMCell(num_units)\n",
    "\n",
    "to create an LSTM cell with num_units. Next, you can add dropout to the cell with tf.contrib.rnn.DropoutWrapper. \n",
    "This just wraps the cell in another cell, but with dropout added to the inputs and/or outputs. It's a really \n",
    "convenient way to make your network better with almost no effort! So you'd do something like\n",
    "drop = tf.contrib.rnn.DropoutWrapper(cell, output_keep_prob=keep_prob)\n",
    "\n",
    "Most of the time, you're network will have better performance with more layers. That's sort of the magic of \n",
    "deep learning, adding more layers allows the network to learn really complex relationships. Again, there is a simple way to create multiple layers of LSTM cells with tf.contrib.rnn.MultiRNNCell:\n",
    "cell = tf.contrib.rnn.MultiRNNCell([drop] * lstm_layers)\n",
    "\n",
    "Here, [drop] * lstm_layers creates a list of cells (drop) that is lstm_layers long. The MultiRNNCell wrapper \n",
    "builds this into multiple layers of RNN cells, one for each cell in the list.\n",
    "So the final cell you're using in the network is actually multiple (or just one) LSTM cells with dropout. But \n",
    "it all works the same from an achitectural viewpoint, just a more complicated graph in the cell.\n",
    "Exercise: Below, use tf.contrib.rnn.BasicLSTMCell to create an LSTM cell. Then, add drop out to it with \n",
    "tf.contrib.rnn.DropoutWrapper. Finally, create multiple LSTM layers with tf.contrib.rnn.MultiRNNCell.\n",
    "\n",
    "\"\"\""
   ]
  },
  {
   "cell_type": "code",
   "execution_count": 11,
   "metadata": {
    "collapsed": true,
    "deletable": true,
    "editable": true
   },
   "outputs": [],
   "source": [
    "lstm_layers = 2\n",
    "keep_prob = 1 #got rid of dropout, seems to be better without."
   ]
  },
  {
   "cell_type": "code",
   "execution_count": 12,
   "metadata": {
    "collapsed": false,
    "deletable": true,
    "editable": true
   },
   "outputs": [
    {
     "name": "stdout",
     "output_type": "stream",
     "text": [
      "Tests Passed\n"
     ]
    }
   ],
   "source": [
    "def get_init_cell(batch_size, rnn_size):\n",
    "    \"\"\"\n",
    "    Create an RNN Cell and initialize it.\n",
    "    :param batch_size: Size of batches\n",
    "    :param rnn_size: Size of RNNs\n",
    "    :return: Tuple (cell, initialize state)\n",
    "    \n",
    "        # Your basic LSTM cell\n",
    "    lstm = tf.contrib.rnn.BasicLSTMCell(lstm_size)\n",
    "    \n",
    "    # Add dropout to the cell\n",
    "    drop = tf.contrib.rnn.DropoutWrapper(lstm, output_keep_prob=keep_prob)\n",
    "    \n",
    "    # Stack up multiple LSTM layers, for deep learning\n",
    "    cell = tf.contrib.rnn.MultiRNNCell([drop] * lstm_layers)\n",
    "    \n",
    "    # Getting an initial state of all zeros\n",
    "    initial_state = cell.zero_state(batch_size, tf.float32)\n",
    "    \n",
    "    print(rnn_size)\n",
    "    print(keep_prob)\n",
    "    print(lstm_layers)\n",
    "    \"\"\"\n",
    "    \n",
    "    # TODO: Implement Function\n",
    "    \n",
    "     # Your basic LSTM cell\n",
    "    lstm = tf.contrib.rnn.BasicLSTMCell(rnn_size)\n",
    "    \n",
    "    # Add dropout to the cell\n",
    "    drop = tf.contrib.rnn.DropoutWrapper(lstm, output_keep_prob=keep_prob)\n",
    "    \n",
    "    # Stack up multiple LSTM layers, for deep learning\n",
    "    cell = tf.contrib.rnn.MultiRNNCell([drop] * lstm_layers)\n",
    "    \n",
    "    # Getting an initial state of all zeros\n",
    "    initial_state = cell.zero_state(batch_size, tf.float32)\n",
    "    initial_state = tf.identity(initial_state, name=\"initial_state\")\n",
    "    \n",
    "    \n",
    "    return (cell, initial_state)\n",
    "\n",
    "\n",
    "\"\"\"\n",
    "DON'T MODIFY ANYTHING IN THIS CELL THAT IS BELOW THIS LINE\n",
    "\"\"\"\n",
    "tests.test_get_init_cell(get_init_cell)"
   ]
  },
  {
   "cell_type": "markdown",
   "metadata": {
    "deletable": true,
    "editable": true
   },
   "source": [
    "### Word Embedding\n",
    "Apply embedding to `input_data` using TensorFlow.  Return the embedded sequence."
   ]
  },
  {
   "cell_type": "code",
   "execution_count": 13,
   "metadata": {
    "collapsed": false,
    "deletable": true,
    "editable": true
   },
   "outputs": [
    {
     "name": "stdout",
     "output_type": "stream",
     "text": [
      "305189\n"
     ]
    }
   ],
   "source": [
    "n_words = len(text)\n",
    "print(n_words)\n"
   ]
  },
  {
   "cell_type": "code",
   "execution_count": 14,
   "metadata": {
    "collapsed": false,
    "deletable": true,
    "editable": true
   },
   "outputs": [
    {
     "name": "stdout",
     "output_type": "stream",
     "text": [
      "27\n",
      "Tests Passed\n"
     ]
    }
   ],
   "source": [
    "def get_embed(input_data, vocab_size, embed_dim):\n",
    "    \"\"\"\n",
    "    Create embedding for <input_data>.\n",
    "    :param input_data: TF placeholder for text input.\n",
    "    :param vocab_size: Number of words in vocabulary.\n",
    "    :param embed_dim: Number of embedding dimensions\n",
    "    :return: Embedded input.\n",
    "    \n",
    "    embedding = tf.Variable(tf.random_uniform((n_words, embed_size), -1, 1))\n",
    "    embed = tf.nn.embedding_lookup(embedding, inputs_)\n",
    "    \"\"\"\n",
    "    print(vocab_size) #why is this coming back as only 27? something may have gone wrong, check this first if broken.\n",
    "\n",
    "    # TODO: Implement Function\n",
    "    \n",
    "    embedding = tf.Variable(tf.random_uniform((vocab_size, embed_dim), -1, 1))\n",
    "\n",
    "    \n",
    "    return tf.nn.embedding_lookup(embedding, input_data)\n",
    "\n",
    "\n",
    "\"\"\"\n",
    "DON'T MODIFY ANYTHING IN THIS CELL THAT IS BELOW THIS LINE\n",
    "\"\"\"\n",
    "tests.test_get_embed(get_embed)"
   ]
  },
  {
   "cell_type": "markdown",
   "metadata": {
    "deletable": true,
    "editable": true
   },
   "source": [
    "### Build RNN\n",
    "You created a RNN Cell in the `get_init_cell()` function.  Time to use the cell to create a RNN.\n",
    "- Build the RNN using the [`tf.nn.dynamic_rnn()`](https://www.tensorflow.org/api_docs/python/tf/nn/dynamic_rnn)\n",
    " - Apply the name \"final_state\" to the final state using [`tf.identity()`](https://www.tensorflow.org/api_docs/python/tf/identity)\n",
    "\n",
    "Return the outputs and final_state state in the following tuple `(Outputs, FinalState)` "
   ]
  },
  {
   "cell_type": "code",
   "execution_count": 15,
   "metadata": {
    "collapsed": false,
    "deletable": true,
    "editable": true
   },
   "outputs": [
    {
     "name": "stdout",
     "output_type": "stream",
     "text": [
      "Tests Passed\n"
     ]
    }
   ],
   "source": [
    "def build_rnn(cell, inputs):\n",
    "    \"\"\"\n",
    "    Create a RNN using a RNN Cell\n",
    "    :param cell: RNN Cell\n",
    "    :param inputs: Input text data\n",
    "    :return: Tuple (Outputs, Final State)\n",
    "    ------\n",
    "    \n",
    "        outputs, final_state = tf.nn.dynamic_rnn(cell, embed, initial_state=initial_state)\n",
    "                                             \n",
    "   -------\n",
    "    \n",
    "Now we need to actually run the data through the RNN nodes. You can use tf.nn.dynamic_rnn to do this.\n",
    "You'd pass in the RNN cell you created (our multiple layered LSTM cell for instance),\n",
    "and the inputs to the network.\n",
    "\n",
    "outputs, final_state = tf.nn.dynamic_rnn(cell, inputs, initial_state=initial_state)\n",
    "Above I created an initial state, initial_state, to pass to the RNN. \n",
    "\n",
    "This is the cell state that is \n",
    "passed between the hidden layers in successive time steps. tf.nn.dynamic_rnn takes care of most of the \n",
    "work for us. We pass in our cell and the input to the cell, then it does the unrolling and everything \n",
    "else for us. It returns outputs for each time step and the final_state of the hidden layer.\n",
    "\n",
    "Exercise: Use tf.nn.dynamic_rnn to add the forward pass through the RNN. Remember that we're actually \n",
    "passing in vectors from the embedding layer, embed.\n",
    "\n",
    "    \"\"\"\n",
    "    # TODO: Implement Function\n",
    "    Outputs, FinalState = tf.nn.dynamic_rnn(cell, inputs, dtype=tf.float32) #check this dtype is float32 - think it is\n",
    "    FinalState = tf.identity(FinalState, name=\"final_state\")\n",
    "\n",
    "    \n",
    "    return Outputs, FinalState\n",
    "\n",
    "\"\"\"\n",
    "DON'T MODIFY ANYTHING IN THIS CELL THAT IS BELOW THIS LINE\n",
    "\"\"\"\n",
    "tests.test_build_rnn(build_rnn)"
   ]
  },
  {
   "cell_type": "markdown",
   "metadata": {
    "deletable": true,
    "editable": true
   },
   "source": [
    "### Build the Neural Network\n",
    "Apply the functions you implemented above to:\n",
    "- Apply embedding to `input_data` using your `get_embed(input_data, vocab_size, embed_dim)` function.\n",
    "- Build RNN using `cell` and your `build_rnn(cell, inputs)` function.\n",
    "- Apply a fully connected layer with a linear activation and `vocab_size` as the number of outputs.\n",
    "\n",
    "Return the logits and final state in the following tuple (Logits, FinalState) "
   ]
  },
  {
   "cell_type": "code",
   "execution_count": 16,
   "metadata": {
    "collapsed": false,
    "deletable": true,
    "editable": true
   },
   "outputs": [
    {
     "name": "stdout",
     "output_type": "stream",
     "text": [
      "27\n",
      "Tests Passed\n"
     ]
    }
   ],
   "source": [
    "def build_nn(cell, rnn_size, input_data, vocab_size):\n",
    "    \"\"\"\n",
    "    Build part of the neural network\n",
    "    :param cell: RNN cell\n",
    "    :param rnn_size: Size of rnns\n",
    "    :param input_data: Input data\n",
    "    :param vocab_size: Vocabulary size\n",
    "    :return: Tuple (Logits, FinalState)\n",
    "    \"\"\"\n",
    "    # TODO: Implement Function\n",
    "    \n",
    "    embedding = get_embed(input_data, vocab_size, 256)\n",
    "    build, FinalState = build_rnn(cell, embedding)\n",
    "    \n",
    "    Logits = tf.contrib.layers.fully_connected(build, vocab_size, activation_fn=None)\n",
    "    \n",
    "    return Logits, FinalState\n",
    "\n",
    "\n",
    "\"\"\"\n",
    "DON'T MODIFY ANYTHING IN THIS CELL THAT IS BELOW THIS LINE\n",
    "\"\"\"\n",
    "tests.test_build_nn(build_nn)"
   ]
  },
  {
   "cell_type": "markdown",
   "metadata": {
    "deletable": true,
    "editable": true
   },
   "source": [
    "### Batches\n",
    "Implement `get_batches` to create batches of input and targets using `int_text`.  The batches should be a Numpy array with the shape `(number of batches, 2, batch size, sequence length)`. Each batch contains two elements:\n",
    "- The first element is a single batch of **input** with the shape `[batch size, sequence length]`\n",
    "- The second element is a single batch of **targets** with the shape `[batch size, sequence length]`\n",
    "\n",
    "If you can't fill the last batch with enough data, drop the last batch.\n",
    "\n",
    "For exmple, `get_batches([1, 2, 3, 4, 5, 6, 7, 8, 9, 10, 11, 12, 13, 14, 15], 2, 3)` would return a Numpy array of the following:\n",
    "```\n",
    "[\n",
    "  # First Batch\n",
    "  [\n",
    "    # Batch of Input\n",
    "    [[ 1  2  3], [ 7  8  9]],\n",
    "    # Batch of targets\n",
    "    [[ 2  3  4], [ 8  9 10]]\n",
    "  ],\n",
    " \n",
    "  # Second Batch\n",
    "  [\n",
    "    # Batch of Input\n",
    "    [[ 4  5  6], [10 11 12]],\n",
    "    # Batch of targets\n",
    "    [[ 5  6  7], [11 12 13]]\n",
    "  ]\n",
    "]\n",
    "```"
   ]
  },
  {
   "cell_type": "code",
   "execution_count": 17,
   "metadata": {
    "collapsed": false,
    "deletable": true,
    "editable": true
   },
   "outputs": [
    {
     "name": "stdout",
     "output_type": "stream",
     "text": [
      "[[[[   0    1    2    3    4]\n",
      "   [  35   36   37   38   39]\n",
      "   [  70   71   72   73   74]\n",
      "   ..., \n",
      "   [4375 4376 4377 4378 4379]\n",
      "   [4410 4411 4412 4413 4414]\n",
      "   [4445 4446 4447 4448 4449]]\n",
      "\n",
      "  [[   1    2    3    4    5]\n",
      "   [  36   37   38   39   40]\n",
      "   [  71   72   73   74   75]\n",
      "   ..., \n",
      "   [4376 4377 4378 4379 4380]\n",
      "   [4411 4412 4413 4414 4415]\n",
      "   [4446 4447 4448 4449 4450]]]\n",
      "\n",
      "\n",
      " [[[   5    6    7    8    9]\n",
      "   [  40   41   42   43   44]\n",
      "   [  75   76   77   78   79]\n",
      "   ..., \n",
      "   [4380 4381 4382 4383 4384]\n",
      "   [4415 4416 4417 4418 4419]\n",
      "   [4450 4451 4452 4453 4454]]\n",
      "\n",
      "  [[   6    7    8    9   10]\n",
      "   [  41   42   43   44   45]\n",
      "   [  76   77   78   79   80]\n",
      "   ..., \n",
      "   [4381 4382 4383 4384 4385]\n",
      "   [4416 4417 4418 4419 4420]\n",
      "   [4451 4452 4453 4454 4455]]]\n",
      "\n",
      "\n",
      " [[[  10   11   12   13   14]\n",
      "   [  45   46   47   48   49]\n",
      "   [  80   81   82   83   84]\n",
      "   ..., \n",
      "   [4385 4386 4387 4388 4389]\n",
      "   [4420 4421 4422 4423 4424]\n",
      "   [4455 4456 4457 4458 4459]]\n",
      "\n",
      "  [[  11   12   13   14   15]\n",
      "   [  46   47   48   49   50]\n",
      "   [  81   82   83   84   85]\n",
      "   ..., \n",
      "   [4386 4387 4388 4389 4390]\n",
      "   [4421 4422 4423 4424 4425]\n",
      "   [4456 4457 4458 4459 4460]]]\n",
      "\n",
      "\n",
      " ..., \n",
      " [[[  20   21   22   23   24]\n",
      "   [  55   56   57   58   59]\n",
      "   [  90   91   92   93   94]\n",
      "   ..., \n",
      "   [4395 4396 4397 4398 4399]\n",
      "   [4430 4431 4432 4433 4434]\n",
      "   [4465 4466 4467 4468 4469]]\n",
      "\n",
      "  [[  21   22   23   24   25]\n",
      "   [  56   57   58   59   60]\n",
      "   [  91   92   93   94   95]\n",
      "   ..., \n",
      "   [4396 4397 4398 4399 4400]\n",
      "   [4431 4432 4433 4434 4435]\n",
      "   [4466 4467 4468 4469 4470]]]\n",
      "\n",
      "\n",
      " [[[  25   26   27   28   29]\n",
      "   [  60   61   62   63   64]\n",
      "   [  95   96   97   98   99]\n",
      "   ..., \n",
      "   [4400 4401 4402 4403 4404]\n",
      "   [4435 4436 4437 4438 4439]\n",
      "   [4470 4471 4472 4473 4474]]\n",
      "\n",
      "  [[  26   27   28   29   30]\n",
      "   [  61   62   63   64   65]\n",
      "   [  96   97   98   99  100]\n",
      "   ..., \n",
      "   [4401 4402 4403 4404 4405]\n",
      "   [4436 4437 4438 4439 4440]\n",
      "   [4471 4472 4473 4474 4475]]]\n",
      "\n",
      "\n",
      " [[[  30   31   32   33   34]\n",
      "   [  65   66   67   68   69]\n",
      "   [ 100  101  102  103  104]\n",
      "   ..., \n",
      "   [4405 4406 4407 4408 4409]\n",
      "   [4440 4441 4442 4443 4444]\n",
      "   [4475 4476 4477 4478 4479]]\n",
      "\n",
      "  [[  31   32   33   34   35]\n",
      "   [  66   67   68   69   70]\n",
      "   [ 101  102  103  104  105]\n",
      "   ..., \n",
      "   [4406 4407 4408 4409 4410]\n",
      "   [4441 4442 4443 4444 4445]\n",
      "   [4476 4477 4478 4479 4480]]]]\n",
      "Tests Passed\n"
     ]
    }
   ],
   "source": [
    "def get_batches(int_text, batch_size, seq_length):\n",
    "    \"\"\"\n",
    "    Return batches of input and target\n",
    "    :param int_text: Text with the words replaced by their ids\n",
    "    :param batch_size: The size of batch\n",
    "    :param seq_length: The length of sequence\n",
    "    :return: Batches as a Numpy array\n",
    "    \n",
    "    n_batches = int(len(int_text) / (batch_size * seq_length))\n",
    "\n",
    "    # Drop the last few characters to make only full batches\n",
    "    xdata = np.array(int_text[: n_batches * batch_size * seq_length])\n",
    "    ydata = np.array(int_text[1: n_batches * batch_size * seq_length + 1])\n",
    "\n",
    "    x_batches = np.split(xdata.reshape(batch_size, -1), n_batches, 1)\n",
    "    y_batches = np.split(ydata.reshape(batch_size, -1), n_batches, 1)\n",
    "\n",
    "    return list(zip(x_batches, y_batches))\n",
    "    \n",
    "    \n",
    "    \"\"\"\n",
    "    n_batches = int(len(int_text) / (batch_size * seq_length))\n",
    "\n",
    "    # Drop the last few characters to make only full batches\n",
    "    xdata = np.array(int_text[: n_batches * batch_size * seq_length])\n",
    "    ydata = np.array(int_text[1: n_batches * batch_size * seq_length + 1])\n",
    "\n",
    "    x_batches = np.split(xdata.reshape(batch_size, -1), n_batches, 1)\n",
    "    y_batches = np.split(ydata.reshape(batch_size, -1), n_batches, 1)\n",
    "    \n",
    "    #print(x_batches)\n",
    "    #print (y_batches)\n",
    "    \n",
    "    print  (np.array(list(zip(x_batches, y_batches))))\n",
    "    \n",
    "    # TODO: Implement Function\n",
    "    return np.array(list(zip(x_batches, y_batches)))\n",
    "\n",
    "\n",
    "\"\"\"\n",
    "DON'T MODIFY ANYTHING IN THIS CELL THAT IS BELOW THIS LINE\n",
    "\"\"\"\n",
    "tests.test_get_batches(get_batches)"
   ]
  },
  {
   "cell_type": "markdown",
   "metadata": {
    "deletable": true,
    "editable": true
   },
   "source": [
    "## Neural Network Training\n",
    "### Hyperparameters\n",
    "Tune the following parameters:\n",
    "\n",
    "- Set `num_epochs` to the number of epochs.\n",
    "- Set `batch_size` to the batch size.\n",
    "- Set `rnn_size` to the size of the RNNs.\n",
    "- Set `seq_length` to the length of sequence.\n",
    "- Set `learning_rate` to the learning rate.\n",
    "- Set `show_every_n_batches` to the number of batches the neural network should print progress."
   ]
  },
  {
   "cell_type": "code",
   "execution_count": 18,
   "metadata": {
    "collapsed": true,
    "deletable": true,
    "editable": true
   },
   "outputs": [],
   "source": [
    "# Number of Epochs\n",
    "num_epochs = 100\n",
    "# Batch Size\n",
    "batch_size = 256\n",
    "# RNN Size\n",
    "rnn_size = 256\n",
    "# Sequence Length\n",
    "seq_length = 24\n",
    "# Learning Rate\n",
    "learning_rate = 0.01\n",
    "# Show stats for every n number of batches\n",
    "show_every_n_batches = 25\n",
    "\n",
    "\"\"\"\n",
    "DON'T MODIFY ANYTHING IN THIS CELL THAT IS BELOW THIS LINE\n",
    "\"\"\"\n",
    "save_dir = './save'"
   ]
  },
  {
   "cell_type": "markdown",
   "metadata": {
    "deletable": true,
    "editable": true
   },
   "source": [
    "### Build the Graph\n",
    "Build the graph using the neural network you implemented."
   ]
  },
  {
   "cell_type": "code",
   "execution_count": 19,
   "metadata": {
    "collapsed": false,
    "deletable": true,
    "editable": true
   },
   "outputs": [
    {
     "name": "stdout",
     "output_type": "stream",
     "text": [
      "6779\n"
     ]
    }
   ],
   "source": [
    "\"\"\"\n",
    "DON'T MODIFY ANYTHING IN THIS CELL\n",
    "\"\"\"\n",
    "from tensorflow.contrib import seq2seq\n",
    "\n",
    "train_graph = tf.Graph()\n",
    "with train_graph.as_default():\n",
    "    vocab_size = len(int_to_vocab)\n",
    "    input_text, targets, lr = get_inputs()\n",
    "    input_data_shape = tf.shape(input_text)\n",
    "    cell, initial_state = get_init_cell(input_data_shape[0], rnn_size)\n",
    "    logits, final_state = build_nn(cell, rnn_size, input_text, vocab_size)\n",
    "\n",
    "    # Probabilities for generating words\n",
    "    probs = tf.nn.softmax(logits, name='probs')\n",
    "\n",
    "    # Loss function\n",
    "    cost = seq2seq.sequence_loss(\n",
    "        logits,\n",
    "        targets,\n",
    "        tf.ones([input_data_shape[0], input_data_shape[1]]))\n",
    "\n",
    "    # Optimizer\n",
    "    optimizer = tf.train.AdamOptimizer(lr)\n",
    "\n",
    "    # Gradient Clipping\n",
    "    gradients = optimizer.compute_gradients(cost)\n",
    "    capped_gradients = [(tf.clip_by_value(grad, -1., 1.), var) for grad, var in gradients]\n",
    "    train_op = optimizer.apply_gradients(capped_gradients)"
   ]
  },
  {
   "cell_type": "markdown",
   "metadata": {
    "deletable": true,
    "editable": true
   },
   "source": [
    "## Train\n",
    "Train the neural network on the preprocessed data.  If you have a hard time getting a good loss, check the [forms](https://discussions.udacity.com/) to see if anyone is having the same problem."
   ]
  },
  {
   "cell_type": "code",
   "execution_count": 20,
   "metadata": {
    "collapsed": false,
    "deletable": true,
    "editable": true
   },
   "outputs": [
    {
     "name": "stdout",
     "output_type": "stream",
     "text": [
      "[[[[1540 3625 4343 ..., 3959 2607 6392]\n",
      "   [4666 1540 3575 ..., 6462 5065 4666]\n",
      "   [4241  370  681 ..., 4222  355 5126]\n",
      "   ..., \n",
      "   [6392 4196 3157 ..., 6753  503 5065]\n",
      "   [ 670 4666 1540 ...,  924  355 4345]\n",
      "   [6051 6287 2607 ..., 4241 6140 4970]]\n",
      "\n",
      "  [[3625 4343 3891 ..., 2607 6392 2643]\n",
      "   [1540 3575 4222 ..., 5065 4666 1415]\n",
      "   [ 370  681 2607 ...,  355 5126 4241]\n",
      "   ..., \n",
      "   [4196 3157  670 ...,  503 5065 4666]\n",
      "   [4666 1540 5113 ...,  355 4345 1897]\n",
      "   [6287 2607 5601 ..., 6140 4970 5680]]]\n",
      "\n",
      "\n",
      " [[[2643 3157  670 ..., 6484 6247 2817]\n",
      "   [1415 5635 5680 ..., 2350 3492 6388]\n",
      "   [4241 4080  565 ..., 5065 5065 5065]\n",
      "   ..., \n",
      "   [4666 1540  338 ..., 3492 4241 4196]\n",
      "   [1897 4487 1468 ..., 6325  170 3700]\n",
      "   [5680 4045 5065 ..., 2607 2869  642]]\n",
      "\n",
      "  [[3157  670 4602 ..., 6247 2817 2643]\n",
      "   [5635 5680 5929 ..., 3492 6388  565]\n",
      "   [4080  565 4666 ..., 5065 5065 4230]\n",
      "   ..., \n",
      "   [1540  338 4970 ..., 4241 4196  503]\n",
      "   [4487 1468 5348 ...,  170 3700 2607]\n",
      "   [4045 5065 4833 ..., 2869  642 4739]]]\n",
      "\n",
      "\n",
      " [[[2643 3353 5065 ..., 2817 2938 5348]\n",
      "   [ 565 4666 4104 ..., 5680 5349  120]\n",
      "   [4230 3995 6325 ..., 5065 5065 3625]\n",
      "   ..., \n",
      "   [ 503  565 4666 ..., 2607 5105 6683]\n",
      "   [2607 3670 5065 ..., 2607 5123 5916]\n",
      "   [4739 6484 3799 ..., 6763 5348 6475]]\n",
      "\n",
      "  [[3353 5065 2643 ..., 2938 5348 5523]\n",
      "   [4666 4104  355 ..., 5349  120 5065]\n",
      "   [3995 6325  468 ..., 5065 3625 2005]\n",
      "   ..., \n",
      "   [ 565 4666 1540 ..., 5105 6683  670]\n",
      "   [3670 5065 2745 ..., 5123 5916 2607]\n",
      "   [6484 3799 3492 ..., 5348 6475 4025]]]\n",
      "\n",
      "\n",
      " ..., \n",
      " [[[1415  735 4080 ..., 3078 4446 4241]\n",
      "   [4241  969 5065 ..., 4666 1415  735]\n",
      "   [5065 4666 1540 ..., 3963 5065 4666]\n",
      "   ..., \n",
      "   [5065 1928 1414 ..., 5635 6654 5348]\n",
      "   [2607 3307  355 ..., 3625 4354 2817]\n",
      "   [2673 4407 3746 ..., 5807 5065 4666]]\n",
      "\n",
      "  [[ 735 4080 2607 ..., 4446 4241  887]\n",
      "   [ 969 5065 6643 ..., 1415  735 2607]\n",
      "   [4666 1540 5713 ..., 5065 4666 2137]\n",
      "   ..., \n",
      "   [1928 1414 4909 ..., 6654 5348 1022]\n",
      "   [3307  355 4241 ..., 4354 2817 4666]\n",
      "   [4407 3746 1586 ..., 5065 4666 1061]]]\n",
      "\n",
      "\n",
      " [[[ 887 3753  924 ..., 4803  565 3943]\n",
      "   [2607  355 4123 ...,  355 5073 3162]\n",
      "   [2137 3625 6604 ..., 3625 3887 2817]\n",
      "   ..., \n",
      "   [1022 2650 2607 ..., 5409 6392 3419]\n",
      "   [4666 1061 3625 ..., 2947 4241 2800]\n",
      "   [1061  453 2607 ..., 4407 4241 3931]]\n",
      "\n",
      "  [[3753  924 4460 ...,  565 3943 2804]\n",
      "   [ 355 4123 6484 ..., 5073 3162 4407]\n",
      "   [3625 6604 2817 ..., 3887 2817  355]\n",
      "   ..., \n",
      "   [2650 2607 4080 ..., 6392 3419 6350]\n",
      "   [1061 3625 4210 ..., 4241 2800 5065]\n",
      "   [ 453 2607 3597 ..., 4241 3931 5622]]]\n",
      "\n",
      "\n",
      " [[[2804 4460 5796 ..., 5065 4666 4666]\n",
      "   [4407  822 5100 ..., 4666 1415 6461]\n",
      "   [ 355  906 6484 ..., 1974 4522 6484]\n",
      "   ..., \n",
      "   [6350 4407 5123 ..., 1989  933 2610]\n",
      "   [5065 4958 2456 ..., 2676 2607 1588]\n",
      "   [5622 5680 3365 ..., 1415 2825 2607]]\n",
      "\n",
      "  [[4460 5796  670 ..., 4666 4666 4666]\n",
      "   [ 822 5100 5065 ..., 1415 6461 4241]\n",
      "   [ 906 6484 6044 ..., 4522 6484 2047]\n",
      "   ..., \n",
      "   [4407 5123 3170 ...,  933 2610  670]\n",
      "   [4958 2456 3131 ..., 2607 1588 6051]\n",
      "   [5680 3365 6763 ..., 2825 2607 4080]]]]\n",
      "Epoch   0 Batch    0/11   train_loss = 8.821\n",
      "Epoch   2 Batch    3/11   train_loss = 6.153\n",
      "Epoch   4 Batch    6/11   train_loss = 5.855\n",
      "Epoch   6 Batch    9/11   train_loss = 5.721\n",
      "Epoch   9 Batch    1/11   train_loss = 5.324\n",
      "Epoch  11 Batch    4/11   train_loss = 5.212\n",
      "Epoch  13 Batch    7/11   train_loss = 4.977\n",
      "Epoch  15 Batch   10/11   train_loss = 4.828\n",
      "Epoch  18 Batch    2/11   train_loss = 4.540\n",
      "Epoch  20 Batch    5/11   train_loss = 4.369\n",
      "Epoch  22 Batch    8/11   train_loss = 4.153\n",
      "Epoch  25 Batch    0/11   train_loss = 3.937\n",
      "Epoch  27 Batch    3/11   train_loss = 3.735\n",
      "Epoch  29 Batch    6/11   train_loss = 3.461\n",
      "Epoch  31 Batch    9/11   train_loss = 3.276\n",
      "Epoch  34 Batch    1/11   train_loss = 3.128\n",
      "Epoch  36 Batch    4/11   train_loss = 2.845\n",
      "Epoch  38 Batch    7/11   train_loss = 2.536\n",
      "Epoch  40 Batch   10/11   train_loss = 2.293\n",
      "Epoch  43 Batch    2/11   train_loss = 2.160\n",
      "Epoch  45 Batch    5/11   train_loss = 2.134\n",
      "Epoch  47 Batch    8/11   train_loss = 1.928\n",
      "Epoch  50 Batch    0/11   train_loss = 1.714\n",
      "Epoch  52 Batch    3/11   train_loss = 1.592\n",
      "Epoch  54 Batch    6/11   train_loss = 1.582\n",
      "Epoch  56 Batch    9/11   train_loss = 1.301\n",
      "Epoch  59 Batch    1/11   train_loss = 1.243\n",
      "Epoch  61 Batch    4/11   train_loss = 1.097\n",
      "Epoch  63 Batch    7/11   train_loss = 1.160\n",
      "Epoch  65 Batch   10/11   train_loss = 0.959\n",
      "Epoch  68 Batch    2/11   train_loss = 0.920\n",
      "Epoch  70 Batch    5/11   train_loss = 0.841\n",
      "Epoch  72 Batch    8/11   train_loss = 0.734\n",
      "Epoch  75 Batch    0/11   train_loss = 0.633\n",
      "Epoch  77 Batch    3/11   train_loss = 0.533\n",
      "Epoch  79 Batch    6/11   train_loss = 0.544\n",
      "Epoch  81 Batch    9/11   train_loss = 0.440\n",
      "Epoch  84 Batch    1/11   train_loss = 0.445\n",
      "Epoch  86 Batch    4/11   train_loss = 0.367\n",
      "Epoch  88 Batch    7/11   train_loss = 0.376\n",
      "Epoch  90 Batch   10/11   train_loss = 0.291\n",
      "Epoch  93 Batch    2/11   train_loss = 0.291\n",
      "Epoch  95 Batch    5/11   train_loss = 0.316\n",
      "Epoch  97 Batch    8/11   train_loss = 0.278\n",
      "Model Trained and Saved\n"
     ]
    }
   ],
   "source": [
    "\"\"\"\n",
    "DON'T MODIFY ANYTHING IN THIS CELL\n",
    "\"\"\"\n",
    "batches = get_batches(int_text, batch_size, seq_length)\n",
    "\n",
    "with tf.Session(graph=train_graph) as sess:\n",
    "    sess.run(tf.global_variables_initializer())\n",
    "\n",
    "    for epoch_i in range(num_epochs):\n",
    "        state = sess.run(initial_state, {input_text: batches[0][0]})\n",
    "\n",
    "        for batch_i, (x, y) in enumerate(batches):\n",
    "            feed = {\n",
    "                input_text: x,\n",
    "                targets: y,\n",
    "                initial_state: state,\n",
    "                lr: learning_rate}\n",
    "            train_loss, state, _ = sess.run([cost, final_state, train_op], feed)\n",
    "\n",
    "            # Show every <show_every_n_batches> batches\n",
    "            if (epoch_i * len(batches) + batch_i) % show_every_n_batches == 0:\n",
    "                print('Epoch {:>3} Batch {:>4}/{}   train_loss = {:.3f}'.format(\n",
    "                    epoch_i,\n",
    "                    batch_i,\n",
    "                    len(batches),\n",
    "                    train_loss))\n",
    "\n",
    "    # Save Model\n",
    "    saver = tf.train.Saver()\n",
    "    saver.save(sess, save_dir)\n",
    "    print('Model Trained and Saved')"
   ]
  },
  {
   "cell_type": "markdown",
   "metadata": {
    "deletable": true,
    "editable": true
   },
   "source": [
    "## Save Parameters\n",
    "Save `seq_length` and `save_dir` for generating a new TV script."
   ]
  },
  {
   "cell_type": "code",
   "execution_count": 21,
   "metadata": {
    "collapsed": false,
    "deletable": true,
    "editable": true
   },
   "outputs": [],
   "source": [
    "\"\"\"\n",
    "DON'T MODIFY ANYTHING IN THIS CELL\n",
    "\"\"\"\n",
    "# Save parameters for checkpoint\n",
    "helper.save_params((seq_length, save_dir))"
   ]
  },
  {
   "cell_type": "markdown",
   "metadata": {
    "deletable": true,
    "editable": true
   },
   "source": [
    "# Checkpoint"
   ]
  },
  {
   "cell_type": "code",
   "execution_count": 22,
   "metadata": {
    "collapsed": false,
    "deletable": true,
    "editable": true
   },
   "outputs": [],
   "source": [
    "\"\"\"\n",
    "DON'T MODIFY ANYTHING IN THIS CELL\n",
    "\"\"\"\n",
    "import tensorflow as tf\n",
    "import numpy as np\n",
    "import helper\n",
    "import problem_unittests as tests\n",
    "\n",
    "_, vocab_to_int, int_to_vocab, token_dict = helper.load_preprocess()\n",
    "seq_length, load_dir = helper.load_params()"
   ]
  },
  {
   "cell_type": "markdown",
   "metadata": {
    "deletable": true,
    "editable": true
   },
   "source": [
    "## Implement Generate Functions\n",
    "### Get Tensors\n",
    "Get tensors from `loaded_graph` using the function [`get_tensor_by_name()`](https://www.tensorflow.org/api_docs/python/tf/Graph#get_tensor_by_name).  Get the tensors using the following names:\n",
    "- \"input:0\"\n",
    "- \"initial_state:0\"\n",
    "- \"final_state:0\"\n",
    "- \"probs:0\"\n",
    "\n",
    "Return the tensors in the following tuple `(InputTensor, InitialStateTensor, FinalStateTensor, ProbsTensor)` "
   ]
  },
  {
   "cell_type": "code",
   "execution_count": 55,
   "metadata": {
    "collapsed": false,
    "deletable": true,
    "editable": true
   },
   "outputs": [
    {
     "name": "stdout",
     "output_type": "stream",
     "text": [
      "Tests Passed\n"
     ]
    }
   ],
   "source": [
    "def get_tensors(loaded_graph):\n",
    "    \"\"\"\n",
    "    Get input, initial state, final state, and probabilities tensor from <loaded_graph>\n",
    "    :param loaded_graph: TensorFlow graph loaded from file\n",
    "    :return: Tuple (InputTensor, InitialStateTensor, FinalStateTensor, ProbsTensor)\n",
    "    \"\"\"\n",
    "    # TODO: Implement Function\n",
    "    #print(loaded_graph)\n",
    "    #with tf.Session() as sess:\n",
    "    InputTensor = loaded_graph.get_tensor_by_name(\"input:0\")\n",
    "    InitialStateTensor = loaded_graph.get_tensor_by_name(\"initial_state:0\")\n",
    "    FinalStateTensor = loaded_graph.get_tensor_by_name(\"final_state:0\")\n",
    "    ProbsTensor = loaded_graph.get_tensor_by_name(\"probs:0\")\n",
    "    #print(InputTensor, InitialStateTensor, FinalStateTensor, ProbsTensor)\n",
    "\n",
    "\n",
    "    return InputTensor, InitialStateTensor, FinalStateTensor, ProbsTensor\n",
    "\n",
    "\n",
    "\"\"\"\n",
    "DON'T MODIFY ANYTHING IN THIS CELL THAT IS BELOW THIS LINE\n",
    "\"\"\"\n",
    "tests.test_get_tensors(get_tensors)"
   ]
  },
  {
   "cell_type": "markdown",
   "metadata": {
    "deletable": true,
    "editable": true
   },
   "source": [
    "### Choose Word\n",
    "Implement the `pick_word()` function to select the next word using `probabilities`."
   ]
  },
  {
   "cell_type": "code",
   "execution_count": 56,
   "metadata": {
    "collapsed": false,
    "deletable": true,
    "editable": true
   },
   "outputs": [
    {
     "name": "stdout",
     "output_type": "stream",
     "text": [
      "Tests Passed\n"
     ]
    }
   ],
   "source": [
    "def pick_word(probabilities, int_to_vocab):\n",
    "    \"\"\"\n",
    "    Pick the next word in the generated text\n",
    "    :param probabilities: Probabilites of the next word\n",
    "    :param int_to_vocab: Dictionary of word ids as the keys and words as the values\n",
    "    :return: String of the predicted word\n",
    "    \"\"\"\n",
    "    # TODO: Implement Function\n",
    "    #print(int_to_vocab)\n",
    "    #print(probabilities)\n",
    "    #print(list(int_to_vocab.values()))\n",
    "    \n",
    "    dictList = list(int_to_vocab.values())\n",
    "    \n",
    "\n",
    "    \n",
    "    #print (np.random.choice(dictList,1,replace=False, p=probabilities))\n",
    "    #print (np.random.choice(dictList,1,replace=False, p=probabilities)[0])\n",
    "    \n",
    "    return np.random.choice(dictList,1,replace=False, p=probabilities)[0]\n",
    "    \n",
    "  \n",
    "\n",
    "\n",
    "\"\"\"\n",
    "DON'T MODIFY ANYTHING IN THIS CELL THAT IS BELOW THIS LINE\n",
    "\"\"\"\n",
    "tests.test_pick_word(pick_word)"
   ]
  },
  {
   "cell_type": "markdown",
   "metadata": {
    "deletable": true,
    "editable": true
   },
   "source": [
    "## Generate TV Script\n",
    "This will generate the TV script for you.  Set `gen_length` to the length of TV script you want to generate."
   ]
  },
  {
   "cell_type": "code",
   "execution_count": 57,
   "metadata": {
    "collapsed": false,
    "deletable": true,
    "editable": true
   },
   "outputs": [
    {
     "name": "stdout",
     "output_type": "stream",
     "text": [
      "moe_szyslak: four\" lobster-politans\" comin' up!\n",
      "carl_carlson: here's to homer and the cars he towed!\n",
      "lenny_leonard: with those jerks out of all over the night. but you moron.\"\n",
      "lenny_leonard: not something now, come of the twenty years.\n",
      "moe_szyslak: yeah, i need your name, now burns are we were discussing air what, moe...\n",
      "homer_simpson: i've been using. you gotta get back to you we're here about your drunkening.\n",
      "carl_carlson: hey, you should put your money.\n",
      "homer_simpson: what can you, homer, i asked for, he's twins.\n",
      "homer_simpson: all right, pal. sorry, moe. turn it out.(showing) that's right, so... apulina.\n",
      "\n",
      "\n",
      "moe_szyslak: look at me!\n",
      "moe_szyslak: boy, moe, you wanna send a town, homer?\n",
      "moe_szyslak:(vulnerable) well, i know how to say.\n",
      "nigel_bakerbutcher: that's the only one more was it out.\n",
      "carl_carlson: it's yourself!\n",
      "aw, the bushes... we need\n"
     ]
    }
   ],
   "source": [
    "gen_length = 200\n",
    "# homer_simpson, moe_szyslak, or Barney_Gumble\n",
    "prime_word = 'moe_szyslak'\n",
    "\n",
    "\"\"\"\n",
    "DON'T MODIFY ANYTHING IN THIS CELL THAT IS BELOW THIS LINE\n",
    "\"\"\"\n",
    "loaded_graph = tf.Graph()\n",
    "with tf.Session(graph=loaded_graph) as sess:\n",
    "    # Load saved model\n",
    "    loader = tf.train.import_meta_graph(load_dir + '.meta')\n",
    "    loader.restore(sess, load_dir)\n",
    "\n",
    "    # Get Tensors from loaded model\n",
    "    input_text, initial_state, final_state, probs = get_tensors(loaded_graph)\n",
    "\n",
    "    # Sentences generation setup\n",
    "    gen_sentences = [prime_word + ':']\n",
    "    prev_state = sess.run(initial_state, {input_text: np.array([[1]])})\n",
    "\n",
    "    # Generate sentences\n",
    "    for n in range(gen_length):\n",
    "        # Dynamic Input\n",
    "        dyn_input = [[vocab_to_int[word] for word in gen_sentences[-seq_length:]]]\n",
    "        dyn_seq_length = len(dyn_input[0])\n",
    "\n",
    "        # Get Prediction\n",
    "        probabilities, prev_state = sess.run(\n",
    "            [probs, final_state],\n",
    "            {input_text: dyn_input, initial_state: prev_state})\n",
    "        \n",
    "        pred_word = pick_word(probabilities[dyn_seq_length-1], int_to_vocab)\n",
    "\n",
    "        gen_sentences.append(pred_word)\n",
    "    \n",
    "    # Remove tokens\n",
    "    tv_script = ' '.join(gen_sentences)\n",
    "    for key, token in token_dict.items():\n",
    "        ending = ' ' if key in ['\\n', '(', '\"'] else ''\n",
    "        tv_script = tv_script.replace(' ' + token.lower(), key)\n",
    "    tv_script = tv_script.replace('\\n ', '\\n')\n",
    "    tv_script = tv_script.replace('( ', '(')\n",
    "        \n",
    "    print(tv_script)"
   ]
  },
  {
   "cell_type": "markdown",
   "metadata": {
    "deletable": true,
    "editable": true
   },
   "source": [
    "# The TV Script is Nonsensical\n",
    "It's ok if the TV script doesn't make any sense.  We trained on less than a megabyte of text.  In order to get good results, you'll have to use a smaller vocabulary or get more data.  Luckly there's more data!  As we mentioned in the begging of this project, this is a subset of [another dataset](https://www.kaggle.com/wcukierski/the-simpsons-by-the-data).  We didn't have you train on all the data, because that would take too long.  However, you are free to train your neural network on all the data.  After you complete the project, of course.\n",
    "# Submitting This Project\n",
    "When submitting this project, make sure to run all the cells before saving the notebook. Save the notebook file as \"dlnd_tv_script_generation.ipynb\" and save it as a HTML file under \"File\" -> \"Download as\". Include the \"helper.py\" and \"problem_unittests.py\" files in your submission."
   ]
  }
 ],
 "metadata": {
  "kernelspec": {
   "display_name": "Python 3",
   "language": "python",
   "name": "python3"
  },
  "language_info": {
   "codemirror_mode": {
    "name": "ipython",
    "version": 3
   },
   "file_extension": ".py",
   "mimetype": "text/x-python",
   "name": "python",
   "nbconvert_exporter": "python",
   "pygments_lexer": "ipython3",
   "version": "3.5.2"
  },
  "widgets": {
   "state": {},
   "version": "1.1.2"
  }
 },
 "nbformat": 4,
 "nbformat_minor": 0
}
